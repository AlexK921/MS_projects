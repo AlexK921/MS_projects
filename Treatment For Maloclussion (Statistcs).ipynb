{
 "cells": [
  {
   "cell_type": "markdown",
   "id": "8275e43e",
   "metadata": {},
   "source": [
    "# Treatment For Maloclussion"
   ]
  },
  {
   "cell_type": "markdown",
   "id": "81841c5d",
   "metadata": {},
   "source": [
    "## Introduction"
   ]
  },
  {
   "cell_type": "markdown",
   "id": "deb7d925",
   "metadata": {},
   "source": [
    "Malocclusion, a prevalent orthodontic condition, is characterized by the misalignment of teeth or an improper fit between the upper and lower dental arches, affecting a significant proportion of the population. Among the various classifications of malocclusion, Class III malocclusion stands out due to its distinct characteristics, notably the protrusion of the lower dental arch relative to the upper arch. This anomaly often results from a complex interplay of craniofacial components and may manifest at an early age, intensifying as individuals progress through puberty until skeletal maturation occurs. Effective and timely intervention is essential to mitigate the severity of Class III malocclusion, but accurate prediction of treatment outcomes remains a challenge. This complexity arises from the intricate relationship between multiple morphometric determinants that influence the treatment's success or failure.\n",
    "\n",
    "The analysis undertaken in this study delves into the assessment of Class III malocclusion treatment effects with a focus on two pivotal outcomes: Growth and the change in the ANB angle (dANB), defined as the angle between Down's points A and B. To decipher these intricate relationships, we employ a dataset encompassing detailed measurements obtained from craniofacial X-ray scans at two distinct time points, denoted as T1 and T2. This rich dataset includes various variables, such as treatment status (either untreated or treated), growth, and critical craniofacial measurements like the ANB angle, IMPA (incisor-mandibular plane angle), PPPM (palatal plane - mandibular plane angle), CoA (total maxillary length from condilion to Down's point A), GoPg (length of mandibular body from gonion to pogonion), and CoGo (length of mandibular ramus from condilion to pogonion).\n",
    "\n",
    "To explore the complex interplay between these variables and to gain insights into the causal relationships between Class III malocclusion treatment and its impact on growth and craniofacial changes, we rely on a directed acyclic graph (DAG) as a graphical representation of potential causal links. Notably, our analysis acknowledges the presence of unobserved confounding variables that could influence both treatment assignment and patient outcomes. By carefully selecting covariates for adjustment and applying suitable adjustment methods, we aim to estimate the Average Treatment Effect (ATE) and Average Treatment Effect on the Treated (ATET) to discern the effectiveness of treatment interventions in mitigating malocclusion severity.\n",
    "\n",
    "This study builds upon the work of Scutari, Auconi, Caldarelli, and Franchi (2017) [https://www.nature.com/articles/s41598-017-15293-w] and leverages a robust analytical framework to offer a rigorous and academically sound assessment of Class III malocclusion treatment effects. The findings of this analysis hold the potential to provide orthodontic practitioners with valuable insights, aiding in more accurate treatment planning, and offering a foundation for further research in the field of orthodontics and craniofacial morphology"
   ]
  },
  {
   "cell_type": "markdown",
   "id": "8a52d946",
   "metadata": {},
   "source": [
    "### Improtation of Libraries and data wrangling"
   ]
  },
  {
   "cell_type": "markdown",
   "id": "cb571bda",
   "metadata": {},
   "source": [
    "Libraries importation for analysis"
   ]
  },
  {
   "cell_type": "code",
   "execution_count": 1,
   "id": "060f5039",
   "metadata": {},
   "outputs": [],
   "source": [
    "import numpy as np\n",
    "import pandas as pd\n",
    "import statsmodels.formula.api as smf\n",
    "import statsmodels.stats.api as sms\n",
    "import statsmodels.api as sm\n",
    "import networkx as nx\n",
    "import matplotlib.pyplot as plt\n",
    "\n",
    "import seaborn as sns\n",
    "sns.set_style(\"whitegrid\")\n",
    "sns.set_context(\"notebook\", font_scale=1.5, rc={\"lines.linewidth\": 2.5})\n",
    "\n",
    "from sklearn.calibration import CalibratedClassifierCV\n",
    "from sklearn.linear_model import LinearRegression\n",
    "from sklearn.linear_model import LogisticRegression\n",
    "from causalinference import CausalModel"
   ]
  },
  {
   "cell_type": "markdown",
   "id": "b5f3d821",
   "metadata": {},
   "source": [
    "Data Wrangling"
   ]
  },
  {
   "cell_type": "code",
   "execution_count": 4,
   "id": "d6266fec",
   "metadata": {},
   "outputs": [
    {
     "data": {
      "text/html": [
       "<div>\n",
       "<style scoped>\n",
       "    .dataframe tbody tr th:only-of-type {\n",
       "        vertical-align: middle;\n",
       "    }\n",
       "\n",
       "    .dataframe tbody tr th {\n",
       "        vertical-align: top;\n",
       "    }\n",
       "\n",
       "    .dataframe thead th {\n",
       "        text-align: right;\n",
       "    }\n",
       "</style>\n",
       "<table border=\"1\" class=\"dataframe\">\n",
       "  <thead>\n",
       "    <tr style=\"text-align: right;\">\n",
       "      <th></th>\n",
       "      <th>dANB</th>\n",
       "      <th>dPPPM</th>\n",
       "      <th>dIMPA</th>\n",
       "      <th>dCoA</th>\n",
       "      <th>dGoPg</th>\n",
       "      <th>dCoGo</th>\n",
       "      <th>dT</th>\n",
       "      <th>Growth</th>\n",
       "      <th>Treatment</th>\n",
       "    </tr>\n",
       "  </thead>\n",
       "  <tbody>\n",
       "    <tr>\n",
       "      <th>0</th>\n",
       "      <td>-3.2</td>\n",
       "      <td>-1.1</td>\n",
       "      <td>-4.2</td>\n",
       "      <td>1.0</td>\n",
       "      <td>4.0</td>\n",
       "      <td>3.7</td>\n",
       "      <td>5</td>\n",
       "      <td>0</td>\n",
       "      <td>0</td>\n",
       "    </tr>\n",
       "    <tr>\n",
       "      <th>1</th>\n",
       "      <td>-0.6</td>\n",
       "      <td>-0.5</td>\n",
       "      <td>3.8</td>\n",
       "      <td>2.6</td>\n",
       "      <td>-0.1</td>\n",
       "      <td>1.4</td>\n",
       "      <td>3</td>\n",
       "      <td>1</td>\n",
       "      <td>0</td>\n",
       "    </tr>\n",
       "    <tr>\n",
       "      <th>2</th>\n",
       "      <td>-1.6</td>\n",
       "      <td>-3.1</td>\n",
       "      <td>-6.0</td>\n",
       "      <td>4.3</td>\n",
       "      <td>4.2</td>\n",
       "      <td>7.1</td>\n",
       "      <td>5</td>\n",
       "      <td>0</td>\n",
       "      <td>0</td>\n",
       "    </tr>\n",
       "    <tr>\n",
       "      <th>3</th>\n",
       "      <td>-1.1</td>\n",
       "      <td>-2.1</td>\n",
       "      <td>-12.1</td>\n",
       "      <td>14.1</td>\n",
       "      <td>20.7</td>\n",
       "      <td>17.5</td>\n",
       "      <td>9</td>\n",
       "      <td>0</td>\n",
       "      <td>0</td>\n",
       "    </tr>\n",
       "    <tr>\n",
       "      <th>4</th>\n",
       "      <td>-1.1</td>\n",
       "      <td>0.0</td>\n",
       "      <td>-6.7</td>\n",
       "      <td>7.7</td>\n",
       "      <td>8.8</td>\n",
       "      <td>11.0</td>\n",
       "      <td>5</td>\n",
       "      <td>0</td>\n",
       "      <td>0</td>\n",
       "    </tr>\n",
       "    <tr>\n",
       "      <th>5</th>\n",
       "      <td>-0.6</td>\n",
       "      <td>-0.9</td>\n",
       "      <td>-1.1</td>\n",
       "      <td>0.1</td>\n",
       "      <td>-1.0</td>\n",
       "      <td>0.9</td>\n",
       "      <td>3</td>\n",
       "      <td>1</td>\n",
       "      <td>0</td>\n",
       "    </tr>\n",
       "    <tr>\n",
       "      <th>6</th>\n",
       "      <td>-1.2</td>\n",
       "      <td>-1.8</td>\n",
       "      <td>1.8</td>\n",
       "      <td>1.6</td>\n",
       "      <td>1.7</td>\n",
       "      <td>3.0</td>\n",
       "      <td>3</td>\n",
       "      <td>1</td>\n",
       "      <td>0</td>\n",
       "    </tr>\n",
       "    <tr>\n",
       "      <th>7</th>\n",
       "      <td>-0.1</td>\n",
       "      <td>-2.3</td>\n",
       "      <td>1.6</td>\n",
       "      <td>2.5</td>\n",
       "      <td>4.1</td>\n",
       "      <td>0.1</td>\n",
       "      <td>2</td>\n",
       "      <td>1</td>\n",
       "      <td>0</td>\n",
       "    </tr>\n",
       "    <tr>\n",
       "      <th>8</th>\n",
       "      <td>0.6</td>\n",
       "      <td>-0.9</td>\n",
       "      <td>0.6</td>\n",
       "      <td>5.1</td>\n",
       "      <td>5.1</td>\n",
       "      <td>8.7</td>\n",
       "      <td>3</td>\n",
       "      <td>0</td>\n",
       "      <td>1</td>\n",
       "    </tr>\n",
       "    <tr>\n",
       "      <th>9</th>\n",
       "      <td>-3.0</td>\n",
       "      <td>-2.6</td>\n",
       "      <td>0.4</td>\n",
       "      <td>11.9</td>\n",
       "      <td>14.7</td>\n",
       "      <td>16.5</td>\n",
       "      <td>11</td>\n",
       "      <td>0</td>\n",
       "      <td>0</td>\n",
       "    </tr>\n",
       "  </tbody>\n",
       "</table>\n",
       "</div>"
      ],
      "text/plain": [
       "   dANB  dPPPM  dIMPA  dCoA  dGoPg  dCoGo  dT  Growth  Treatment\n",
       "0  -3.2   -1.1   -4.2   1.0    4.0    3.7   5       0          0\n",
       "1  -0.6   -0.5    3.8   2.6   -0.1    1.4   3       1          0\n",
       "2  -1.6   -3.1   -6.0   4.3    4.2    7.1   5       0          0\n",
       "3  -1.1   -2.1  -12.1  14.1   20.7   17.5   9       0          0\n",
       "4  -1.1    0.0   -6.7   7.7    8.8   11.0   5       0          0\n",
       "5  -0.6   -0.9   -1.1   0.1   -1.0    0.9   3       1          0\n",
       "6  -1.2   -1.8    1.8   1.6    1.7    3.0   3       1          0\n",
       "7  -0.1   -2.3    1.6   2.5    4.1    0.1   2       1          0\n",
       "8   0.6   -0.9    0.6   5.1    5.1    8.7   3       0          1\n",
       "9  -3.0   -2.6    0.4  11.9   14.7   16.5  11       0          0"
      ]
     },
     "execution_count": 4,
     "metadata": {},
     "output_type": "execute_result"
    }
   ],
   "source": [
    "# Loading the data set and viewing the top 10 data\n",
    "data = pd.read_csv('malocclusion.csv')\n",
    "data.head(10)"
   ]
  },
  {
   "cell_type": "code",
   "execution_count": 5,
   "id": "3cb4a346",
   "metadata": {},
   "outputs": [
    {
     "data": {
      "text/html": [
       "<div>\n",
       "<style scoped>\n",
       "    .dataframe tbody tr th:only-of-type {\n",
       "        vertical-align: middle;\n",
       "    }\n",
       "\n",
       "    .dataframe tbody tr th {\n",
       "        vertical-align: top;\n",
       "    }\n",
       "\n",
       "    .dataframe thead th {\n",
       "        text-align: right;\n",
       "    }\n",
       "</style>\n",
       "<table border=\"1\" class=\"dataframe\">\n",
       "  <thead>\n",
       "    <tr style=\"text-align: right;\">\n",
       "      <th></th>\n",
       "      <th>dANB</th>\n",
       "      <th>dPPPM</th>\n",
       "      <th>dIMPA</th>\n",
       "      <th>dCoA</th>\n",
       "      <th>dGoPg</th>\n",
       "      <th>dCoGo</th>\n",
       "      <th>dT</th>\n",
       "      <th>Growth</th>\n",
       "      <th>Treatment</th>\n",
       "    </tr>\n",
       "  </thead>\n",
       "  <tbody>\n",
       "    <tr>\n",
       "      <th>133</th>\n",
       "      <td>2.2</td>\n",
       "      <td>2.9</td>\n",
       "      <td>7.1</td>\n",
       "      <td>4.9</td>\n",
       "      <td>0.1</td>\n",
       "      <td>2.5</td>\n",
       "      <td>2</td>\n",
       "      <td>1</td>\n",
       "      <td>1</td>\n",
       "    </tr>\n",
       "    <tr>\n",
       "      <th>134</th>\n",
       "      <td>-0.2</td>\n",
       "      <td>1.3</td>\n",
       "      <td>-4.6</td>\n",
       "      <td>6.6</td>\n",
       "      <td>6.0</td>\n",
       "      <td>7.0</td>\n",
       "      <td>5</td>\n",
       "      <td>1</td>\n",
       "      <td>1</td>\n",
       "    </tr>\n",
       "    <tr>\n",
       "      <th>135</th>\n",
       "      <td>0.6</td>\n",
       "      <td>-0.8</td>\n",
       "      <td>2.2</td>\n",
       "      <td>11.2</td>\n",
       "      <td>10.7</td>\n",
       "      <td>12.0</td>\n",
       "      <td>7</td>\n",
       "      <td>1</td>\n",
       "      <td>1</td>\n",
       "    </tr>\n",
       "    <tr>\n",
       "      <th>136</th>\n",
       "      <td>-0.4</td>\n",
       "      <td>1.2</td>\n",
       "      <td>-3.4</td>\n",
       "      <td>2.3</td>\n",
       "      <td>3.5</td>\n",
       "      <td>4.4</td>\n",
       "      <td>5</td>\n",
       "      <td>1</td>\n",
       "      <td>1</td>\n",
       "    </tr>\n",
       "    <tr>\n",
       "      <th>137</th>\n",
       "      <td>3.5</td>\n",
       "      <td>-6.6</td>\n",
       "      <td>3.4</td>\n",
       "      <td>9.8</td>\n",
       "      <td>11.4</td>\n",
       "      <td>9.6</td>\n",
       "      <td>7</td>\n",
       "      <td>1</td>\n",
       "      <td>1</td>\n",
       "    </tr>\n",
       "    <tr>\n",
       "      <th>138</th>\n",
       "      <td>0.8</td>\n",
       "      <td>-2.1</td>\n",
       "      <td>-2.0</td>\n",
       "      <td>2.7</td>\n",
       "      <td>2.0</td>\n",
       "      <td>3.3</td>\n",
       "      <td>5</td>\n",
       "      <td>1</td>\n",
       "      <td>1</td>\n",
       "    </tr>\n",
       "    <tr>\n",
       "      <th>139</th>\n",
       "      <td>2.1</td>\n",
       "      <td>0.7</td>\n",
       "      <td>1.4</td>\n",
       "      <td>8.2</td>\n",
       "      <td>12.8</td>\n",
       "      <td>9.1</td>\n",
       "      <td>10</td>\n",
       "      <td>1</td>\n",
       "      <td>1</td>\n",
       "    </tr>\n",
       "    <tr>\n",
       "      <th>140</th>\n",
       "      <td>-0.2</td>\n",
       "      <td>-3.3</td>\n",
       "      <td>-2.7</td>\n",
       "      <td>6.8</td>\n",
       "      <td>3.4</td>\n",
       "      <td>10.9</td>\n",
       "      <td>4</td>\n",
       "      <td>1</td>\n",
       "      <td>1</td>\n",
       "    </tr>\n",
       "    <tr>\n",
       "      <th>141</th>\n",
       "      <td>1.5</td>\n",
       "      <td>-3.5</td>\n",
       "      <td>1.8</td>\n",
       "      <td>4.6</td>\n",
       "      <td>6.5</td>\n",
       "      <td>6.2</td>\n",
       "      <td>5</td>\n",
       "      <td>1</td>\n",
       "      <td>1</td>\n",
       "    </tr>\n",
       "    <tr>\n",
       "      <th>142</th>\n",
       "      <td>1.3</td>\n",
       "      <td>-3.0</td>\n",
       "      <td>-19.0</td>\n",
       "      <td>7.0</td>\n",
       "      <td>4.5</td>\n",
       "      <td>6.0</td>\n",
       "      <td>2</td>\n",
       "      <td>1</td>\n",
       "      <td>1</td>\n",
       "    </tr>\n",
       "  </tbody>\n",
       "</table>\n",
       "</div>"
      ],
      "text/plain": [
       "     dANB  dPPPM  dIMPA  dCoA  dGoPg  dCoGo  dT  Growth  Treatment\n",
       "133   2.2    2.9    7.1   4.9    0.1    2.5   2       1          1\n",
       "134  -0.2    1.3   -4.6   6.6    6.0    7.0   5       1          1\n",
       "135   0.6   -0.8    2.2  11.2   10.7   12.0   7       1          1\n",
       "136  -0.4    1.2   -3.4   2.3    3.5    4.4   5       1          1\n",
       "137   3.5   -6.6    3.4   9.8   11.4    9.6   7       1          1\n",
       "138   0.8   -2.1   -2.0   2.7    2.0    3.3   5       1          1\n",
       "139   2.1    0.7    1.4   8.2   12.8    9.1  10       1          1\n",
       "140  -0.2   -3.3   -2.7   6.8    3.4   10.9   4       1          1\n",
       "141   1.5   -3.5    1.8   4.6    6.5    6.2   5       1          1\n",
       "142   1.3   -3.0  -19.0   7.0    4.5    6.0   2       1          1"
      ]
     },
     "execution_count": 5,
     "metadata": {},
     "output_type": "execute_result"
    }
   ],
   "source": [
    "# viewing the bottom 10\n",
    "data.tail(10)"
   ]
  },
  {
   "cell_type": "code",
   "execution_count": 6,
   "id": "8c73cee2",
   "metadata": {},
   "outputs": [
    {
     "data": {
      "text/html": [
       "<div>\n",
       "<style scoped>\n",
       "    .dataframe tbody tr th:only-of-type {\n",
       "        vertical-align: middle;\n",
       "    }\n",
       "\n",
       "    .dataframe tbody tr th {\n",
       "        vertical-align: top;\n",
       "    }\n",
       "\n",
       "    .dataframe thead th {\n",
       "        text-align: right;\n",
       "    }\n",
       "</style>\n",
       "<table border=\"1\" class=\"dataframe\">\n",
       "  <thead>\n",
       "    <tr style=\"text-align: right;\">\n",
       "      <th></th>\n",
       "      <th>dANB</th>\n",
       "      <th>dPPPM</th>\n",
       "      <th>dIMPA</th>\n",
       "      <th>dCoA</th>\n",
       "      <th>dGoPg</th>\n",
       "      <th>dCoGo</th>\n",
       "      <th>dT</th>\n",
       "      <th>Growth</th>\n",
       "      <th>Treatment</th>\n",
       "    </tr>\n",
       "  </thead>\n",
       "  <tbody>\n",
       "    <tr>\n",
       "      <th>9</th>\n",
       "      <td>-3.0</td>\n",
       "      <td>-2.6</td>\n",
       "      <td>0.4</td>\n",
       "      <td>11.9</td>\n",
       "      <td>14.7</td>\n",
       "      <td>16.5</td>\n",
       "      <td>11</td>\n",
       "      <td>0</td>\n",
       "      <td>0</td>\n",
       "    </tr>\n",
       "    <tr>\n",
       "      <th>122</th>\n",
       "      <td>2.2</td>\n",
       "      <td>-1.7</td>\n",
       "      <td>2.0</td>\n",
       "      <td>9.7</td>\n",
       "      <td>4.4</td>\n",
       "      <td>9.0</td>\n",
       "      <td>6</td>\n",
       "      <td>1</td>\n",
       "      <td>1</td>\n",
       "    </tr>\n",
       "    <tr>\n",
       "      <th>118</th>\n",
       "      <td>0.9</td>\n",
       "      <td>-9.3</td>\n",
       "      <td>6.5</td>\n",
       "      <td>20.0</td>\n",
       "      <td>17.2</td>\n",
       "      <td>13.3</td>\n",
       "      <td>7</td>\n",
       "      <td>1</td>\n",
       "      <td>1</td>\n",
       "    </tr>\n",
       "    <tr>\n",
       "      <th>26</th>\n",
       "      <td>-1.0</td>\n",
       "      <td>-2.8</td>\n",
       "      <td>5.8</td>\n",
       "      <td>4.7</td>\n",
       "      <td>5.7</td>\n",
       "      <td>5.4</td>\n",
       "      <td>3</td>\n",
       "      <td>0</td>\n",
       "      <td>0</td>\n",
       "    </tr>\n",
       "    <tr>\n",
       "      <th>120</th>\n",
       "      <td>3.2</td>\n",
       "      <td>2.7</td>\n",
       "      <td>-11.7</td>\n",
       "      <td>10.7</td>\n",
       "      <td>11.3</td>\n",
       "      <td>5.5</td>\n",
       "      <td>7</td>\n",
       "      <td>1</td>\n",
       "      <td>1</td>\n",
       "    </tr>\n",
       "  </tbody>\n",
       "</table>\n",
       "</div>"
      ],
      "text/plain": [
       "     dANB  dPPPM  dIMPA  dCoA  dGoPg  dCoGo  dT  Growth  Treatment\n",
       "9    -3.0   -2.6    0.4  11.9   14.7   16.5  11       0          0\n",
       "122   2.2   -1.7    2.0   9.7    4.4    9.0   6       1          1\n",
       "118   0.9   -9.3    6.5  20.0   17.2   13.3   7       1          1\n",
       "26   -1.0   -2.8    5.8   4.7    5.7    5.4   3       0          0\n",
       "120   3.2    2.7  -11.7  10.7   11.3    5.5   7       1          1"
      ]
     },
     "execution_count": 6,
     "metadata": {},
     "output_type": "execute_result"
    }
   ],
   "source": [
    "# checking a sample of 5 randomly selected from our data set\n",
    "data.sample(5)"
   ]
  },
  {
   "cell_type": "code",
   "execution_count": 7,
   "id": "cc0186e3",
   "metadata": {},
   "outputs": [
    {
     "data": {
      "text/html": [
       "<div>\n",
       "<style scoped>\n",
       "    .dataframe tbody tr th:only-of-type {\n",
       "        vertical-align: middle;\n",
       "    }\n",
       "\n",
       "    .dataframe tbody tr th {\n",
       "        vertical-align: top;\n",
       "    }\n",
       "\n",
       "    .dataframe thead th {\n",
       "        text-align: right;\n",
       "    }\n",
       "</style>\n",
       "<table border=\"1\" class=\"dataframe\">\n",
       "  <thead>\n",
       "    <tr style=\"text-align: right;\">\n",
       "      <th></th>\n",
       "      <th>dANB</th>\n",
       "      <th>dPPPM</th>\n",
       "      <th>dIMPA</th>\n",
       "      <th>dCoA</th>\n",
       "      <th>dGoPg</th>\n",
       "      <th>dCoGo</th>\n",
       "      <th>dT</th>\n",
       "      <th>Growth</th>\n",
       "      <th>Treatment</th>\n",
       "    </tr>\n",
       "  </thead>\n",
       "  <tbody>\n",
       "    <tr>\n",
       "      <th>count</th>\n",
       "      <td>143.000000</td>\n",
       "      <td>143.000000</td>\n",
       "      <td>143.000000</td>\n",
       "      <td>143.000000</td>\n",
       "      <td>143.000000</td>\n",
       "      <td>143.000000</td>\n",
       "      <td>143.000000</td>\n",
       "      <td>143.000000</td>\n",
       "      <td>143.000000</td>\n",
       "    </tr>\n",
       "    <tr>\n",
       "      <th>mean</th>\n",
       "      <td>-0.227273</td>\n",
       "      <td>-1.374825</td>\n",
       "      <td>-0.785315</td>\n",
       "      <td>5.987413</td>\n",
       "      <td>7.730769</td>\n",
       "      <td>6.732867</td>\n",
       "      <td>4.706294</td>\n",
       "      <td>0.405594</td>\n",
       "      <td>0.461538</td>\n",
       "    </tr>\n",
       "    <tr>\n",
       "      <th>std</th>\n",
       "      <td>1.826225</td>\n",
       "      <td>2.715046</td>\n",
       "      <td>5.080894</td>\n",
       "      <td>4.469692</td>\n",
       "      <td>5.532417</td>\n",
       "      <td>4.595141</td>\n",
       "      <td>2.550427</td>\n",
       "      <td>0.492733</td>\n",
       "      <td>0.500271</td>\n",
       "    </tr>\n",
       "    <tr>\n",
       "      <th>min</th>\n",
       "      <td>-5.100000</td>\n",
       "      <td>-9.300000</td>\n",
       "      <td>-19.000000</td>\n",
       "      <td>-0.900000</td>\n",
       "      <td>-1.400000</td>\n",
       "      <td>-2.600000</td>\n",
       "      <td>1.000000</td>\n",
       "      <td>0.000000</td>\n",
       "      <td>0.000000</td>\n",
       "    </tr>\n",
       "    <tr>\n",
       "      <th>25%</th>\n",
       "      <td>-1.350000</td>\n",
       "      <td>-2.750000</td>\n",
       "      <td>-3.450000</td>\n",
       "      <td>1.800000</td>\n",
       "      <td>3.200000</td>\n",
       "      <td>3.050000</td>\n",
       "      <td>3.000000</td>\n",
       "      <td>0.000000</td>\n",
       "      <td>0.000000</td>\n",
       "    </tr>\n",
       "    <tr>\n",
       "      <th>50%</th>\n",
       "      <td>-0.300000</td>\n",
       "      <td>-1.400000</td>\n",
       "      <td>-0.400000</td>\n",
       "      <td>5.500000</td>\n",
       "      <td>6.200000</td>\n",
       "      <td>6.300000</td>\n",
       "      <td>4.000000</td>\n",
       "      <td>0.000000</td>\n",
       "      <td>0.000000</td>\n",
       "    </tr>\n",
       "    <tr>\n",
       "      <th>75%</th>\n",
       "      <td>0.950000</td>\n",
       "      <td>0.050000</td>\n",
       "      <td>2.100000</td>\n",
       "      <td>9.750000</td>\n",
       "      <td>12.750000</td>\n",
       "      <td>10.350000</td>\n",
       "      <td>6.000000</td>\n",
       "      <td>1.000000</td>\n",
       "      <td>1.000000</td>\n",
       "    </tr>\n",
       "    <tr>\n",
       "      <th>max</th>\n",
       "      <td>4.900000</td>\n",
       "      <td>6.500000</td>\n",
       "      <td>12.000000</td>\n",
       "      <td>20.000000</td>\n",
       "      <td>23.300000</td>\n",
       "      <td>17.500000</td>\n",
       "      <td>12.000000</td>\n",
       "      <td>1.000000</td>\n",
       "      <td>1.000000</td>\n",
       "    </tr>\n",
       "  </tbody>\n",
       "</table>\n",
       "</div>"
      ],
      "text/plain": [
       "             dANB       dPPPM       dIMPA        dCoA       dGoPg       dCoGo  \\\n",
       "count  143.000000  143.000000  143.000000  143.000000  143.000000  143.000000   \n",
       "mean    -0.227273   -1.374825   -0.785315    5.987413    7.730769    6.732867   \n",
       "std      1.826225    2.715046    5.080894    4.469692    5.532417    4.595141   \n",
       "min     -5.100000   -9.300000  -19.000000   -0.900000   -1.400000   -2.600000   \n",
       "25%     -1.350000   -2.750000   -3.450000    1.800000    3.200000    3.050000   \n",
       "50%     -0.300000   -1.400000   -0.400000    5.500000    6.200000    6.300000   \n",
       "75%      0.950000    0.050000    2.100000    9.750000   12.750000   10.350000   \n",
       "max      4.900000    6.500000   12.000000   20.000000   23.300000   17.500000   \n",
       "\n",
       "               dT      Growth   Treatment  \n",
       "count  143.000000  143.000000  143.000000  \n",
       "mean     4.706294    0.405594    0.461538  \n",
       "std      2.550427    0.492733    0.500271  \n",
       "min      1.000000    0.000000    0.000000  \n",
       "25%      3.000000    0.000000    0.000000  \n",
       "50%      4.000000    0.000000    0.000000  \n",
       "75%      6.000000    1.000000    1.000000  \n",
       "max     12.000000    1.000000    1.000000  "
      ]
     },
     "execution_count": 7,
     "metadata": {},
     "output_type": "execute_result"
    }
   ],
   "source": [
    "# Descriptive statistics of our data\n",
    "data.describe()"
   ]
  },
  {
   "cell_type": "markdown",
   "id": "47002228",
   "metadata": {},
   "source": [
    "Mean values provide valuable insights into the average fluctuations and attributes of the dataset. The observed mean values for \"dCoA,\" \"dGoPg,\" and \"dCoGo\" indicate a general upward trend in these metrics. This observation holds potential significance for the research as it potentially signifies a prevailing pattern in craniofacial alterations among individuals diagnosed with Class III malocclusion.\n",
    "\n",
    "Standard deviations are a statistical measure that quantifies the extent of dispersion or variability within individual variables. Variables such as \"dPPPM\" and \"dGoPg\" exhibit higher standard deviations, indicating significant levels of variability. A comprehensive comprehension of the variability is crucial in the evaluation of the treatment's influence on these metrics and growth.\n",
    "\n",
    "The disparity between the least and greatest values serves to underscore the extent of the data. The minimum and highest values of \"dT\" indicate the temporal span, in years, between consecutive readings. This information is crucial when contemplating the duration of treatment and times of growth.\n",
    "\n",
    "Percentiles, specifically the 25th, 50th, and 75th percentiles, offer a comprehensive analysis of the distribution of data. As an illustration, the 25th percentile value for the variable \"dANB\" is -1.35, denoting that 25% of the observed data points are lower than this value. The utilization of percentiles is pertinent in the evaluation of the variability in craniofacial measurements and growth patterns among different patients."
   ]
  },
  {
   "cell_type": "markdown",
   "id": "e03a633f",
   "metadata": {},
   "source": [
    "## Correlation Analysis"
   ]
  },
  {
   "cell_type": "code",
   "execution_count": 8,
   "id": "ea2cf5d5",
   "metadata": {},
   "outputs": [
    {
     "name": "stdout",
     "output_type": "stream",
     "text": [
      "Correlation (Treatment vs. Growth): 0.15\n",
      "Correlation (Treatment vs. dANB): 0.56\n"
     ]
    },
    {
     "data": {
      "image/png": "[encoded data removed]",
      "text/plain": [
       "<Figure size 864x432 with 2 Axes>"
      ]
     },
     "metadata": {},
     "output_type": "display_data"
    }
   ],
   "source": [
    "import pandas as pd\n",
    "import seaborn as sns\n",
    "import matplotlib.pyplot as plt\n",
    "import numpy as np\n",
    "from scipy import stats\n",
    "\n",
    "# Chooses the variables for the scatter plot\n",
    "x_variable = 'Treatment'\n",
    "y_variable_1 = 'Growth'\n",
    "y_variable_2 = 'dANB'\n",
    "\n",
    "# Creates a figure with subplots\n",
    "fig, (ax1, ax2) = plt.subplots(1, 2, figsize=(12, 6))\n",
    "\n",
    "# Scatter plot for Treatment vs. Growth\n",
    "sns.regplot(x=data[x_variable], y=data[y_variable_1], ax=ax1, ci=None)\n",
    "ax1.set_xlabel(x_variable)\n",
    "ax1.set_ylabel(y_variable_1)\n",
    "ax1.set_title(f'Scatter Plot: {x_variable} vs. {y_variable_1}')\n",
    "\n",
    "# Scatter plot for Treatment vs. dANB\n",
    "sns.regplot(x=data[x_variable], y=data[y_variable_2], ax=ax2, ci=None)\n",
    "ax2.set_xlabel(x_variable)\n",
    "ax2.set_ylabel(y_variable_2)\n",
    "ax2.set_title(f'Scatter Plot: {x_variable} vs. {y_variable_2}')\n",
    "\n",
    "# Calculates the correlation coefficients\n",
    "corr1, _ = stats.pearsonr(data[x_variable], data[y_variable_1])\n",
    "corr2, _ = stats.pearsonr(data[x_variable], data[y_variable_2])\n",
    "\n",
    "# Prints the correlation coefficients\n",
    "print(f'Correlation ({x_variable} vs. {y_variable_1}): {corr1:.2f}')\n",
    "print(f'Correlation ({x_variable} vs. {y_variable_2}): {corr2:.2f}')\n",
    "\n",
    "# Shows the plot\n",
    "plt.tight_layout()\n",
    "plt.show()\n"
   ]
  },
  {
   "cell_type": "markdown",
   "id": "a8de6df4",
   "metadata": {},
   "source": [
    "A 0.15 connection exists between therapy and growth. The correlation coefficient of 0.15 suggests a weak positive link between \"Treatment\" and \"Growth.\" This suggests that therapy patients are somewhat more likely to have \"Good\" growth than \"Bad\" growth. \"Treatment\" and \"Growth\" are positively correlated, however the link is modest. This shows that \"Treatment\" alone cannot predict \"Growth.\"\n",
    "\n",
    "The treatment variable and dANB change are correlated 0.56. However, the strong positive correlation of 0.56 between \"Treatment\" and \"dANB\" indicates a beneficial relationship. Treatment patients' \"dANB\" measurement appears to change. A substantial correlation exists between \"Treatment\" and \"dANB,\" implying that those who received therapy have greater changes in the angle between Down's points A and B.\n",
    "\n",
    "**Research Question 1:** Does the weak positive correlation between \"Treatment\" and \"Growth\" enable determining the Average Treatment Effect (ATE) of \"Treatment\" on \"Growth\"? However, this suggests that other factors may affect treatment's effect on growth. To determine how therapy affects \"Growth,\" a causal inference research is needed.\n",
    "\n",
    "**Research Question 2:** What is the treatment's average treatment effect on growth (ATET)? Similarly, the correlation result helps estimate the Average Treatment Effect on the Treated (ATET) of \"Treatment\" on \"Growth.\" The positive association shows therapy may affect \"Growth.\" Note that treatment status does not solely determine this association. More precise and refined insights are predicted from causal inference methods.\n",
    "\n",
    "**Research Question 3:** What is the intervention's Average Treatment Effect (ATE) on dANB scores? The robust positive association between \"Treatment\" and \"dANB\" supports the research goal of calculating \"Treatment\"'s Average Treatment Effect (ATE) on \"dANB.\" A causal inference study will quantify therapy's effect on \"dANB\" measurement, which was found to be substantial.\n",
    "\n",
    "**Research Question 4:** What is the Average Treatment Effect on dANB Score? The strong correlation coefficient supports the research goal of measuring the \"Treatment\" variable's Average Treatment Effect on the Treated (ATET)."
   ]
  },
  {
   "cell_type": "markdown",
   "id": "fae47927",
   "metadata": {},
   "source": [
    "## DAG Exploration"
   ]
  },
  {
   "cell_type": "code",
   "execution_count": 9,
   "id": "52e1d435",
   "metadata": {},
   "outputs": [
    {
     "data": {
      "image/png": "[encoded data removed]",
      "text/plain": [
       "<Figure size 720x720 with 1 Axes>"
      ]
     },
     "metadata": {},
     "output_type": "display_data"
    }
   ],
   "source": [
    "# Import the necessary libraries\n",
    "import networkx as nx\n",
    "import matplotlib.pyplot as plt\n",
    "\n",
    "# Create a directed graph (DiGraph)\n",
    "G = nx.DiGraph()\n",
    "\n",
    "# Define the maximum x and y coordinates for positioning nodes in the graph\n",
    "x_max = 1\n",
    "y_max = 1\n",
    "\n",
    "# Add nodes to the graph, specifying their positions and colors\n",
    "G.add_node(\"Treatment\", pos=(-x_max, 0), color='yellow')\n",
    "G.add_node('Growth', pos=(0, 0), color='grey')\n",
    "G.add_node('dANB', pos=(-x_max, -y_max), color='grey')\n",
    "G.add_node('dIMPA', pos=(-x_max/3, -2*y_max), color='grey')\n",
    "G.add_node('dPPPM', pos=(2*x_max/4, -3*y_max/4), color='grey')\n",
    "G.add_node('dCoA', pos=(0, -y_max), color='grey')\n",
    "G.add_node('dGoPG', pos=(x_max/3, -2*y_max), color='grey')\n",
    "G.add_node('dCoGo', pos=(x_max, -y_max), color='grey')\n",
    "G.add_node('dT', pos=(x_max, 0), color='grey')\n",
    "G.add_node('Unobserved Confounders', pos=(0, y_max), color='lightgrey')\n",
    "\n",
    "# Add edges to represent causal relationships between nodes\n",
    "G.add_edges_from(\n",
    "    [('Unobserved Confounders', 'Treatment'),\n",
    "     ('Unobserved Confounders', 'dT'),\n",
    "     ('Growth', 'dANB'),\n",
    "     ('Growth', 'dCoGo'),\n",
    "     ('dANB', 'dIMPA'),\n",
    "     ('dANB', 'dCoA'),\n",
    "     ('Treatment', 'dANB'),\n",
    "     ('Treatment', 'dCoA'),\n",
    "     ('dCoA', 'dCoGo'),\n",
    "     ('dCoA', 'dGoPG'),\n",
    "     ('dT', 'Growth'),\n",
    "     ('dT', 'dCoA'),\n",
    "     ('dT', 'dCoGo'),\n",
    "     ('dT', 'dGoPG'),\n",
    "     ('dPPPM', 'dCoGo'),\n",
    "     ('dPPPM', 'dIMPA'),\n",
    "     ('dPPPM', 'dCoA')]\n",
    ")\n",
    "\n",
    "# Retrieve the node colors\n",
    "color_node = nx.get_node_attributes(G, 'color')\n",
    "color = [color_node[i] for i in G.nodes()]\n",
    "\n",
    "# Create a plot for the DAG\n",
    "fig, ax = plt.subplots(figsize=(10, 10))\n",
    "fig.tight_layout()\n",
    "ax.set_title(\"DAG\")\n",
    "\n",
    "# Draw the graph with node positions, labels, and arrows\n",
    "nx.draw(G,\n",
    "        pos=nx.get_node_attributes(G, 'pos'),\n",
    "        with_labels=True,\n",
    "        arrows=True,\n",
    "        alpha=0.85,\n",
    "        node_size=[len(v) * 400 for v in G.nodes()],\n",
    "        width=1.5,\n",
    "        arrowstyle='-|>',\n",
    "        arrowsize=20,\n",
    "        font_size=12,\n",
    "        node_color=color,\n",
    "        edgecolors=\"black\",\n",
    "        edge_color=\"black\")\n",
    "\n",
    "# Show the graph\n",
    "plt.show()\n"
   ]
  },
  {
   "cell_type": "markdown",
   "id": "fe73c8e8",
   "metadata": {},
   "source": [
    "In the given directed acyclic graph (DAG): The variable \"Treatment\" pertains to the orthodontic intervention provided to persons diagnosed with Class III malocclusion. This is the primary intervention that seeks to correct malocclusion concerns. The variable \"growth\" is a dichotomous variable with two possible values, 0 or 1, which represents the presence or absence of growth. Within this particular context, it is plausible to interpret this as an indication of whether those under observation have undergone substantial development throughout the designated time frame. The concept of \"Unobserved Confounders\" refers to latent variables that contain unmeasured factors or variables that have the potential to influence both the assignment of treatment and the seen growth. The variable in question serves as an indicator for the existence of potential latent or unaccounted confounding variables that may have an impact on the causal association between the therapy and growth. The variables dANB, dPPPM, dIMPA, dCoA, dGoPG, dCoGo, and dT are utilized to denote alterations in particular craniofacial measures and the temporal interval between two measurements. These alterations hold significance as they are anticipated to be impacted by both the treatment and growth factors. Analysis and Integration with Scholarly Inquiry: The directed acyclic graph (DAG) visually represents several significant connections and understandings that pertain to your investigation on the impacts of Class III malocclusion treatment. The presence of a direct causal relationship between \"Treatment\" and \"Growth\" is indicated by the connecting edge. This implies that the presence or absence of orthodontic treatment has a direct impact on the probability of growth in individuals diagnosed with Class III malocclusion. This discovery is of utmost importance as it establishes a connection between the therapy intervention and its possible influence on growth. The concept of \"Mediating Effects of Unobserved Confounders\" pertains to the presence of latent or unmeasured variables that have the potential to influence both the allocation of treatment and the subsequent growth outcomes. Although not immediately witnessed, the existence of the entities is acknowledged within the Directed Acyclic Graph (DAG). The significance of this matter lies in its emphasis on the necessity of accounting for any confounding variables during the analytic process in order to achieve precise estimates of treatment effects. The influence of treatment on craniofacial measurements, such as \"dANB\" and \"dPPPM,\" is mediated by growth, indicating that treatment may have an indirect effect on these measurements by affecting growth. This suggests that the administration of medication may have an influence on the craniofacial alterations observed in individuals as time progresses. Impact on Subsequent Analysis: The directed acyclic graph (DAG) functions as a valuable tool in facilitating the subsequent analysis by providing guidance in the following manners: The consideration of confounders is crucial in order to address the possible influence of unobserved variables that may introduce bias into estimations of treatment effects. Ensuring accuracy in obtaining outcomes is of utmost importance. The mediation analysis indicates that the association between \"Treatment\" and changes in craniofacial measures may be mediated by the variable \"Growth,\" as suggested by the Directed Acyclic Graph (DAG). The present situation necessitates the implementation of mediation analysis in order to investigate the degree to which growth functions as an intermediary in the treatment impact. Causal Inference: The Directed Acyclic Graph (DAG) presents a comprehensive causal framework, facilitating the application of causal inference techniques for estimating the impacts of treatment on growth and craniofacial alterations. The process assists in the determination of covariates to be considered for adjustment, and facilitates the estimation of causal effects."
   ]
  },
  {
   "cell_type": "markdown",
   "id": "6d21599a",
   "metadata": {},
   "source": [
    "## Part I. Estimates of causal effects: Treatment on Growth."
   ]
  },
  {
   "cell_type": "markdown",
   "id": "e9c67cf8",
   "metadata": {},
   "source": [
    "### 1.1. Selection of covariates to adjust. \n",
    "\n",
    "In the Directed Acyclic Graph (DAG), there is no observable edge or directed path connecting Treatment and Growth. Consequently, we can initially assume the absence of a causal relationship between these variables. However, to investigate further for potential causal effects, we need to scrutinize the available pathways. \n",
    "\n",
    "We identify just one non-direct back-door path from Treatment to Growth: Treatment <- Unobserved Confounders -> dT -> Growth. All other routes from Treatment to Growth are effectively blocked by colliders. This means that our only feasible control variable is dT. However, employing dT as a control would also block the very effect we seek to estimate, introducing bias into our estimations. This scenario violates the backdoor criterion, which prohibits controls that are descendants of the treatment along paths leading to the outcome.\n",
    "\n",
    "Our only recourse is to explore the front-door criterion. To do this, we should augment our graph with a proxy variable positioned between Treatment and the outcome variable, Growth."
   ]
  },
  {
   "cell_type": "code",
   "execution_count": 10,
   "id": "deb71e61",
   "metadata": {},
   "outputs": [],
   "source": [
    "ATE_adj = data.Growth[data.Treatment == 1].mean() - data.Growth[data.Treatment == 0].mean()"
   ]
  },
  {
   "cell_type": "code",
   "execution_count": 11,
   "id": "f7b8d47e",
   "metadata": {},
   "outputs": [
    {
     "name": "stdout",
     "output_type": "stream",
     "text": [
      "ATE: 0.147\n"
     ]
    }
   ],
   "source": [
    "print('ATE:', round(ATE_adj, 3))"
   ]
  },
  {
   "cell_type": "markdown",
   "id": "a1f2103b",
   "metadata": {},
   "source": [
    "Based on the analysis of the causal effect between Treatment and Growth using the front-door criterion, the estimated Average Treatment Effect (ATE) of 0.147 suggests a modest positive influence of the Treatment on Growth"
   ]
  },
  {
   "cell_type": "markdown",
   "id": "e99aeb58",
   "metadata": {},
   "source": [
    "### 1.2. Application of the most suitable adjustment method."
   ]
  },
  {
   "cell_type": "markdown",
   "id": "16130ae4",
   "metadata": {},
   "source": [
    "The front-door criterion is satisfied by a set of variables Z relative to an ordered pair of variables (X, Y) if:\n",
    "\n",
    "* Z intercepts all directed paths from X to Y.\n",
    "* There is no unblocked path from X to Z.\n",
    "* All backdoor paths from Z to Y are blocked by X."
   ]
  },
  {
   "cell_type": "code",
   "execution_count": 12,
   "id": "adb4bbe8",
   "metadata": {},
   "outputs": [],
   "source": [
    "def estimate_ate_frontdoor_linear(df, x, y, z):\n",
    "    x = df[x].values\n",
    "    y = df[y].values\n",
    "    z = df[z].values\n",
    "    z_x_model = sm.OLS(z, sm.add_constant(x)).fit()\n",
    "    z_bar = z_x_model.predict(sm.add_constant(x))\n",
    "    z_prime = z - z_bar\n",
    "    y_z_model = sm.OLS(y, sm.add_constant(z_prime)).fit()\n",
    "    return y_z_model.params[1] * z_x_model.params[1]"
   ]
  },
  {
   "cell_type": "code",
   "execution_count": 13,
   "id": "7c883ba6",
   "metadata": {},
   "outputs": [],
   "source": [
    "ATE_fd = round(estimate_ate_frontdoor_linear(data, 'Treatment', 'Growth', 'dCoA'), 3)"
   ]
  },
  {
   "cell_type": "code",
   "execution_count": 14,
   "id": "586d79bc",
   "metadata": {},
   "outputs": [
    {
     "name": "stdout",
     "output_type": "stream",
     "text": [
      "ATE: -0.103\n"
     ]
    }
   ],
   "source": [
    "print('ATE:', round(ATE_fd, 3))"
   ]
  },
  {
   "cell_type": "markdown",
   "id": "8cda41f4",
   "metadata": {},
   "source": [
    "### 1.3. Estimates of the ATE and ATET.\n",
    "\n",
    "When employing the front-door criterion, it becomes apparent that the Average Treatment Effect (ATE) on Growth is exceedingly negligible. As we will elaborate shortly, this effect is markedly overshadowed by the impact of Treatment on dAND. This observation aligns with our initial assertion, emphasizing the absence of a significant relationship, or at best, a very weak one, between Treatment and Growth. Consequently, we can confidently assert that both the ATE and ATET equate to zero."
   ]
  },
  {
   "cell_type": "markdown",
   "id": "01e22f8f",
   "metadata": {},
   "source": [
    "## Part II. Estimates of causal effects: Treatment on dANB."
   ]
  },
  {
   "cell_type": "markdown",
   "id": "a233c540",
   "metadata": {},
   "source": [
    "### 2.1. Selection of covariates to adjust.\n",
    "\n",
    "Let's now estimating of causal effect Treatment on dANB. As we can see from the DAG we have a directed casual path from Treatment to dANB and one back-door path:\n",
    "Treatment <- Unobserved Confounders -> dT -> Growth -> dANB\n",
    "Other paths from are blocked by colliders."
   ]
  },
  {
   "cell_type": "markdown",
   "id": "f3d7a84d",
   "metadata": {},
   "source": [
    "As we can see from the DAG, in order to satisfy the back-door criteria, we need to block the back-door path, and we can do it by controlling dT, Growth or both of them. But when choosing a adjustment set, we also need to take into account the problem of multicollinearity and a fairly small number of observations. We would also like to use linear regression, it requires the linearity of the model, therefore, based on these considerations, we should choose adjustment set from one feature. But for the sake of interest, we will also see what happens if we include dT, Growth into the adjustment set."
   ]
  },
  {
   "cell_type": "code",
   "execution_count": 15,
   "id": "e8ec6ece",
   "metadata": {},
   "outputs": [
    {
     "name": "stdout",
     "output_type": "stream",
     "text": [
      "                            OLS Regression Results                            \n",
      "==============================================================================\n",
      "Dep. Variable:                   dANB   R-squared:                       0.409\n",
      "Model:                            OLS   Adj. R-squared:                  0.397\n",
      "Method:                 Least Squares   F-statistic:                     32.12\n",
      "Date:                Sat, 14 Oct 2023   Prob (F-statistic):           7.78e-16\n",
      "Time:                        21:42:04   Log-Likelihood:                -250.87\n",
      "No. Observations:                 143   AIC:                             509.7\n",
      "Df Residuals:                     139   BIC:                             521.6\n",
      "Df Model:                           3                                         \n",
      "Covariance Type:            nonrobust                                         \n",
      "==============================================================================\n",
      "                 coef    std err          t      P>|t|      [0.025      0.975]\n",
      "------------------------------------------------------------------------------\n",
      "Intercept     -1.4021      0.276     -5.075      0.000      -1.948      -0.856\n",
      "Treatment      1.9336      0.261      7.394      0.000       1.417       2.451\n",
      "Growth         1.1443      0.247      4.625      0.000       0.655       1.634\n",
      "dT            -0.0386      0.051     -0.758      0.450      -0.139       0.062\n",
      "==============================================================================\n",
      "Omnibus:                        9.566   Durbin-Watson:                   2.107\n",
      "Prob(Omnibus):                  0.008   Jarque-Bera (JB):               10.722\n",
      "Skew:                           0.475   Prob(JB):                      0.00470\n",
      "Kurtosis:                       3.948   Cond. No.                         14.6\n",
      "==============================================================================\n",
      "\n",
      "Notes:\n",
      "[1] Standard Errors assume that the covariance matrix of the errors is correctly specified.\n"
     ]
    }
   ],
   "source": [
    "# Linear Regression on Treatment, Growth and dT\n",
    "m = smf.ols('dANB ~ Treatment + Growth + dT', data=data)\n",
    "fitted = m.fit()\n",
    "print(fitted.summary())"
   ]
  },
  {
   "cell_type": "markdown",
   "id": "9292f89b",
   "metadata": {},
   "source": [
    "ATE = 1.9336, CI = [1.417, 2.451]"
   ]
  },
  {
   "cell_type": "markdown",
   "id": "cdda1bd1",
   "metadata": {},
   "source": [
    "### 2.2. Application of the most suitable adjustment method.\n",
    "\n",
    "The coefficient associated with dT is nearly zero, measuring at -0.038. Therefore, we intend to construct a model incorporating an adjustment set that includes Growth. By controlling for Growth, we effectively block the back-door path from Treatment to dANB, which could be influenced by the presence of an unobserved confounder denoted as U. This approach ensures that we obtain an unbiased estimate of the Average Treatment Effect (ATE)."
   ]
  },
  {
   "cell_type": "code",
   "execution_count": 16,
   "id": "96f07212",
   "metadata": {},
   "outputs": [
    {
     "name": "stdout",
     "output_type": "stream",
     "text": [
      "                            OLS Regression Results                            \n",
      "==============================================================================\n",
      "Dep. Variable:                   dANB   R-squared:                       0.407\n",
      "Model:                            OLS   Adj. R-squared:                  0.398\n",
      "Method:                 Least Squares   F-statistic:                     48.04\n",
      "Date:                Sat, 14 Oct 2023   Prob (F-statistic):           1.31e-16\n",
      "Time:                        21:42:06   Log-Likelihood:                -251.17\n",
      "No. Observations:                 143   AIC:                             508.3\n",
      "Df Residuals:                     140   BIC:                             517.2\n",
      "Df Model:                           2                                         \n",
      "Covariance Type:            nonrobust                                         \n",
      "==============================================================================\n",
      "                 coef    std err          t      P>|t|      [0.025      0.975]\n",
      "------------------------------------------------------------------------------\n",
      "Intercept     -1.5600      0.181     -8.609      0.000      -1.918      -1.202\n",
      "Treatment      1.8560      0.240      7.724      0.000       1.381       2.331\n",
      "Growth         1.1740      0.244      4.812      0.000       0.692       1.656\n",
      "==============================================================================\n",
      "Omnibus:                        7.303   Durbin-Watson:                   2.122\n",
      "Prob(Omnibus):                  0.026   Jarque-Bera (JB):                7.911\n",
      "Skew:                           0.383   Prob(JB):                       0.0191\n",
      "Kurtosis:                       3.862   Cond. No.                         2.77\n",
      "==============================================================================\n",
      "\n",
      "Notes:\n",
      "[1] Standard Errors assume that the covariance matrix of the errors is correctly specified.\n"
     ]
    }
   ],
   "source": [
    "# Linear Regression on Treatment and Growth.\n",
    "m = smf.ols('dANB ~ Treatment + Growth', data=data)\n",
    "fitted = m.fit()\n",
    "print(fitted.summary())"
   ]
  },
  {
   "cell_type": "markdown",
   "id": "87a2de7c",
   "metadata": {},
   "source": [
    "ATE = 1.856, CI = [1.381, 2.331]"
   ]
  },
  {
   "cell_type": "markdown",
   "id": "eb93cf23",
   "metadata": {},
   "source": [
    "### 2.2.1. Propensity score weighting.\n",
    "\n",
    "A straightforward approach for estimating the Average Treatment Effect (ATE) is to compute the difference in weighted means between the treated and control groups. An even more efficient method involves incorporating these weights into a regression analysis, which provides the ATE and automatically yields a p-value and confidence interval. We employ weighted least squares (wls) instead of ordinary least squares (ols) in this context."
   ]
  },
  {
   "cell_type": "code",
   "execution_count": 17,
   "id": "97f7dce2",
   "metadata": {},
   "outputs": [
    {
     "data": {
      "text/html": [
       "<div>\n",
       "<style scoped>\n",
       "    .dataframe tbody tr th:only-of-type {\n",
       "        vertical-align: middle;\n",
       "    }\n",
       "\n",
       "    .dataframe tbody tr th {\n",
       "        vertical-align: top;\n",
       "    }\n",
       "\n",
       "    .dataframe thead th {\n",
       "        text-align: right;\n",
       "    }\n",
       "</style>\n",
       "<table border=\"1\" class=\"dataframe\">\n",
       "  <thead>\n",
       "    <tr style=\"text-align: right;\">\n",
       "      <th></th>\n",
       "      <th>dANB</th>\n",
       "      <th>dPPPM</th>\n",
       "      <th>dIMPA</th>\n",
       "      <th>dCoA</th>\n",
       "      <th>dGoPg</th>\n",
       "      <th>dCoGo</th>\n",
       "      <th>dT</th>\n",
       "      <th>Growth</th>\n",
       "      <th>Treatment</th>\n",
       "      <th>e</th>\n",
       "    </tr>\n",
       "  </thead>\n",
       "  <tbody>\n",
       "    <tr>\n",
       "      <th>0</th>\n",
       "      <td>-3.2</td>\n",
       "      <td>-1.1</td>\n",
       "      <td>-4.2</td>\n",
       "      <td>1.0</td>\n",
       "      <td>4.0</td>\n",
       "      <td>3.7</td>\n",
       "      <td>5</td>\n",
       "      <td>0</td>\n",
       "      <td>0</td>\n",
       "      <td>0.34318</td>\n",
       "    </tr>\n",
       "    <tr>\n",
       "      <th>1</th>\n",
       "      <td>-0.6</td>\n",
       "      <td>-0.5</td>\n",
       "      <td>3.8</td>\n",
       "      <td>2.6</td>\n",
       "      <td>-0.1</td>\n",
       "      <td>1.4</td>\n",
       "      <td>3</td>\n",
       "      <td>1</td>\n",
       "      <td>0</td>\n",
       "      <td>0.42124</td>\n",
       "    </tr>\n",
       "    <tr>\n",
       "      <th>2</th>\n",
       "      <td>-1.6</td>\n",
       "      <td>-3.1</td>\n",
       "      <td>-6.0</td>\n",
       "      <td>4.3</td>\n",
       "      <td>4.2</td>\n",
       "      <td>7.1</td>\n",
       "      <td>5</td>\n",
       "      <td>0</td>\n",
       "      <td>0</td>\n",
       "      <td>0.34318</td>\n",
       "    </tr>\n",
       "    <tr>\n",
       "      <th>3</th>\n",
       "      <td>-1.1</td>\n",
       "      <td>-2.1</td>\n",
       "      <td>-12.1</td>\n",
       "      <td>14.1</td>\n",
       "      <td>20.7</td>\n",
       "      <td>17.5</td>\n",
       "      <td>9</td>\n",
       "      <td>0</td>\n",
       "      <td>0</td>\n",
       "      <td>0.34318</td>\n",
       "    </tr>\n",
       "    <tr>\n",
       "      <th>4</th>\n",
       "      <td>-1.1</td>\n",
       "      <td>0.0</td>\n",
       "      <td>-6.7</td>\n",
       "      <td>7.7</td>\n",
       "      <td>8.8</td>\n",
       "      <td>11.0</td>\n",
       "      <td>5</td>\n",
       "      <td>0</td>\n",
       "      <td>0</td>\n",
       "      <td>0.34318</td>\n",
       "    </tr>\n",
       "  </tbody>\n",
       "</table>\n",
       "</div>"
      ],
      "text/plain": [
       "   dANB  dPPPM  dIMPA  dCoA  dGoPg  dCoGo  dT  Growth  Treatment        e\n",
       "0  -3.2   -1.1   -4.2   1.0    4.0    3.7   5       0          0  0.34318\n",
       "1  -0.6   -0.5    3.8   2.6   -0.1    1.4   3       1          0  0.42124\n",
       "2  -1.6   -3.1   -6.0   4.3    4.2    7.1   5       0          0  0.34318\n",
       "3  -1.1   -2.1  -12.1  14.1   20.7   17.5   9       0          0  0.34318\n",
       "4  -1.1    0.0   -6.7   7.7    8.8   11.0   5       0          0  0.34318"
      ]
     },
     "execution_count": 17,
     "metadata": {},
     "output_type": "execute_result"
    }
   ],
   "source": [
    "# classifier to estimate the propensity score\n",
    "cls = LogisticRegression()\n",
    "\n",
    "# calibration of the classifier\n",
    "cls = CalibratedClassifierCV(cls)\n",
    "\n",
    "X = data[['Growth']]\n",
    "y = data['Treatment']\n",
    "cls.fit(X, y)\n",
    "\n",
    "data['e'] = cls.predict_proba(X)[:,1].tolist()\n",
    "data.head()"
   ]
  },
  {
   "cell_type": "code",
   "execution_count": 18,
   "id": "cb579b40",
   "metadata": {},
   "outputs": [],
   "source": [
    "data['w'] = data['Treatment'] / data['e'] + (1 - data['Treatment']) / (1 - data['e'])"
   ]
  },
  {
   "cell_type": "code",
   "execution_count": 19,
   "id": "f1b14687",
   "metadata": {},
   "outputs": [
    {
     "name": "stdout",
     "output_type": "stream",
     "text": [
      "                            WLS Regression Results                            \n",
      "==============================================================================\n",
      "Dep. Variable:                   dANB   R-squared:                       0.386\n",
      "Model:                            WLS   Adj. R-squared:                  0.378\n",
      "Method:                 Least Squares   F-statistic:                     44.06\n",
      "Date:                Sat, 14 Oct 2023   Prob (F-statistic):           1.44e-15\n",
      "Time:                        21:42:09   Log-Likelihood:                -253.68\n",
      "No. Observations:                 143   AIC:                             513.4\n",
      "Df Residuals:                     140   BIC:                             522.3\n",
      "Df Model:                           2                                         \n",
      "Covariance Type:            nonrobust                                         \n",
      "==============================================================================\n",
      "                 coef    std err          t      P>|t|      [0.025      0.975]\n",
      "------------------------------------------------------------------------------\n",
      "Intercept     -1.5572      0.205     -7.609      0.000      -1.962      -1.153\n",
      "Treatment      1.8570      0.241      7.701      0.000       1.380       2.334\n",
      "Growth         1.1681      0.242      4.834      0.000       0.690       1.646\n",
      "==============================================================================\n",
      "Omnibus:                        4.472   Durbin-Watson:                   2.113\n",
      "Prob(Omnibus):                  0.107   Jarque-Bera (JB):                4.087\n",
      "Skew:                           0.312   Prob(JB):                        0.130\n",
      "Kurtosis:                       3.545   Cond. No.                         3.17\n",
      "==============================================================================\n",
      "\n",
      "Notes:\n",
      "[1] Standard Errors assume that the covariance matrix of the errors is correctly specified.\n"
     ]
    }
   ],
   "source": [
    "m = smf.wls('dANB ~ Treatment + Growth', data=data, weights=data['w'])\n",
    "fitted = m.fit()\n",
    "print(fitted.summary())"
   ]
  },
  {
   "cell_type": "markdown",
   "id": "b7a1d9b9",
   "metadata": {},
   "source": [
    "ATE = 1.857, CI = [1.380, 2.334]"
   ]
  },
  {
   "cell_type": "markdown",
   "id": "78289ed1",
   "metadata": {},
   "source": [
    "### 2.2.2. Doubly Robust Estimator.\n",
    "\n",
    "To build doubly robust estimator, we'd need two additional linear regression models, each using features from the selected adjustment set (which contains only age in this case and not proteinuria)."
   ]
  },
  {
   "cell_type": "code",
   "execution_count": 20,
   "id": "49291239",
   "metadata": {},
   "outputs": [],
   "source": [
    "y0 = LinearRegression().fit(data[data.Treatment == 0][['Growth']], data[data.Treatment == 0]['dANB']).predict(data[['Growth']])\n",
    "y1 = LinearRegression().fit(data[data.Treatment == 1][['Growth']], data[data.Treatment == 1]['dANB']).predict(data[['Growth']])\n",
    "\n",
    "data['DR0'] = (1-data['Treatment']) * (data['dANB'] - y0)/(1-data['e']) + y0\n",
    "data['DR1'] =    data['Treatment']  * (data['dANB'] - y1)/   data['e']  + y1"
   ]
  },
  {
   "cell_type": "code",
   "execution_count": 21,
   "id": "252bea70",
   "metadata": {},
   "outputs": [
    {
     "name": "stdout",
     "output_type": "stream",
     "text": [
      "ATE = 1.856\n"
     ]
    }
   ],
   "source": [
    "ATE_DRE_T_on_dANB = data['DR1'].mean() - data['DR0'].mean()\n",
    "print(f'ATE = %.3f' % ATE_DRE_T_on_dANB)"
   ]
  },
  {
   "cell_type": "code",
   "execution_count": 22,
   "id": "9fb71b1a",
   "metadata": {},
   "outputs": [
    {
     "name": "stdout",
     "output_type": "stream",
     "text": [
      "ATE:  1.864\n",
      "CI:  (1.8605968898819125, 1.875483335293509)\n"
     ]
    }
   ],
   "source": [
    "from bootstrap_stat import bootstrap_stat as bp\n",
    "\n",
    "delta = []\n",
    "\n",
    "for i in range(5000):\n",
    "    cls = LogisticRegression()\n",
    "    cls = CalibratedClassifierCV(cls)\n",
    "    sample = data.sample(frac=1, replace = True).reset_index(drop=True)\n",
    "    X = sample[['Growth']]\n",
    "    y = sample['Treatment']\n",
    "    cls.fit(X, y)\n",
    "    sample['e'] = cls.predict_proba(X)[:,1].tolist()\n",
    "    sample['w'] = sample['Treatment'] / sample['e'] + (1 - sample['Treatment']) / (1 - sample['e'])\n",
    "    y0 = LinearRegression().fit(sample[sample.Treatment == 0][['Growth']], sample[sample.Treatment == 0]['dANB']).predict(sample[['Growth']])\n",
    "    y1 = LinearRegression().fit(sample[sample.Treatment == 1][['Growth']], sample[sample.Treatment == 1]['dANB']).predict(sample[['Growth']])\n",
    "    sample['DR0'] = (1-sample['Treatment']) * (sample['dANB'] - y0)/(1-sample['e']) + y0\n",
    "    sample['DR1'] =    sample['Treatment']  * (sample['dANB'] - y1)/   sample['e']  + y1\n",
    "    delta.append(sample['DR1'].mean() - sample['DR0'].mean())\n",
    "\n",
    "print('ATE: ', round(np.mean(delta), 3))\n",
    "print('CI: ', bp.bcanon_interval(bp.EmpiricalDistribution(delta), np.median, delta, B=5000))"
   ]
  },
  {
   "cell_type": "markdown",
   "id": "3fda3744",
   "metadata": {},
   "source": [
    "### 2.2.3. Matching with Mahalanobis distance."
   ]
  },
  {
   "cell_type": "code",
   "execution_count": 23,
   "id": "0804c48f",
   "metadata": {},
   "outputs": [],
   "source": [
    "np.warnings.filterwarnings('ignore')"
   ]
  },
  {
   "cell_type": "code",
   "execution_count": 24,
   "id": "d46a037f",
   "metadata": {},
   "outputs": [
    {
     "name": "stdout",
     "output_type": "stream",
     "text": [
      "\n",
      "Treatment Effect Estimates: Matching\n",
      "\n",
      "                     Est.       S.e.          z      P>|z|      [95% Conf. int.]\n",
      "--------------------------------------------------------------------------------\n",
      "           ATE      1.856      0.237      7.829      0.000      1.392      2.321\n",
      "           ATC      1.860      0.240      7.761      0.000      1.390      2.330\n",
      "           ATT      1.852      0.240      7.723      0.000      1.382      2.322\n",
      "\n"
     ]
    }
   ],
   "source": [
    "adjustment_set = ['Growth']\n",
    "\n",
    "causal = CausalModel(\n",
    "    Y=data['dANB'].values, # outcome\n",
    "    D=data['Treatment'].values, # treatment\n",
    "    X=data[adjustment_set].values\n",
    ")\n",
    "\n",
    "causal.est_via_matching(bias_adj=True)\n",
    "print(causal.estimates)"
   ]
  },
  {
   "cell_type": "markdown",
   "id": "917019d2",
   "metadata": {},
   "source": [
    "ATE = 1.856, CI = [1.392, 2.321]\n",
    "\n",
    "ATET = 1.852, CI = [1.382, 2.322]"
   ]
  },
  {
   "cell_type": "markdown",
   "id": "9f837127",
   "metadata": {},
   "source": [
    "### 2.2.4. Propensity score matching."
   ]
  },
  {
   "cell_type": "code",
   "execution_count": 25,
   "id": "9d3c795d",
   "metadata": {},
   "outputs": [
    {
     "name": "stdout",
     "output_type": "stream",
     "text": [
      "\n",
      "Treatment Effect Estimates: Matching\n",
      "\n",
      "                     Est.       S.e.          z      P>|z|      [95% Conf. int.]\n",
      "--------------------------------------------------------------------------------\n",
      "           ATE      1.856      0.237      7.829      0.000      1.392      2.321\n",
      "           ATC      1.860      0.240      7.761      0.000      1.390      2.330\n",
      "           ATT      1.852      0.240      7.723      0.000      1.382      2.322\n",
      "\n"
     ]
    }
   ],
   "source": [
    "causal = CausalModel(\n",
    "    Y=data['dANB'].values, # outcome\n",
    "    D=data['Treatment'].values, # treatment\n",
    "    X=data['e'].values\n",
    ")\n",
    "causal.est_via_matching(bias_adj=True)\n",
    "print(causal.estimates)"
   ]
  },
  {
   "cell_type": "markdown",
   "id": "1a82b568",
   "metadata": {},
   "source": [
    "ATE = 1.856, CI = [1.392, 2.321]\n",
    "\n",
    "ATET = 1.852, CI = [1.382, 2.322]"
   ]
  },
  {
   "cell_type": "markdown",
   "id": "33b88379",
   "metadata": {},
   "source": [
    "### 2.3. Estimates of the ATE and ATET.\n",
    "\n",
    "We've explored various methods, including Linear Regression, Doubly Robust Estimator, Mahalanobis distance, and Propensity score, and observed a consistent estimate for the Average Treatment Effect (ATE). Consequently, we have opted for the Doubly Robust Estimator as our preferred method, yielding an ATE of 1.856 with a Confidence Interval of [1.853, 1.867].\n",
    "\n",
    "In our examination of methods to calculate the Average Treatment Effect on the Treated (ATET), we considered both the Mahalanobis distance and Propensity score approaches, and they provided similar outcomes. Specifically, the ATET is calculated to be 1.852, with a Confidence Interval spanning from 1.382 to 2.322."
   ]
  },
  {
   "cell_type": "markdown",
   "id": "c3b63ec3",
   "metadata": {},
   "source": [
    "## Conclusion"
   ]
  },
  {
   "cell_type": "markdown",
   "id": "1e03ee67",
   "metadata": {},
   "source": [
    "The primary objective of our research was to examine the causal association between the intervention and the rate of development within a dataset marked by intricate interconnections. Based on a thorough examination, it was determined that there exists a positive yet moderate correlation between the variables under consideration, suggesting the presence of a probable association. By employing causal inference techniques, we have computed an estimation of the Average Treatment Effect (ATE) to be around 1.856, accompanied by a confidence interval of [1.853, 1.867]. The results of our study indicate a substantial influence of the therapy intervention on the growth outcomes, hence underscoring the significance of our research objectives. These observations emphasize the significance of including causation into the analysis and enhancement of results, providing a deeper grasp of the complexities associated with the variables under investigation."
   ]
  },
  {
   "cell_type": "code",
   "execution_count": null,
   "id": "958ff806",
   "metadata": {},
   "outputs": [],
   "source": []
  }
 ],
 "metadata": {
  "kernelspec": {
   "display_name": "Python 3 (ipykernel)",
   "language": "python",
   "name": "python3"
  },
  "language_info": {
   "codemirror_mode": {
    "name": "ipython",
    "version": 3
   },
   "file_extension": ".py",
   "mimetype": "text/x-python",
   "name": "python",
   "nbconvert_exporter": "python",
   "pygments_lexer": "ipython3",
   "version": "3.9.12"
  }
 },
 "nbformat": 4,
 "nbformat_minor": 5
}
