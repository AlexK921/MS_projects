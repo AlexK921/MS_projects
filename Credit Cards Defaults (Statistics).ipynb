{
 "cells": [
  {
   "cell_type": "markdown",
   "id": "cd494e4e",
   "metadata": {},
   "source": [
    "# Credit Cards Defaults"
   ]
  },
  {
   "cell_type": "markdown",
   "id": "3a9ebc39",
   "metadata": {},
   "source": [
    "The dataset for this assignment was collected in Taiwan in 2005, when the credit card issuers faced the cash and credit card debt crisis. In order to increase market share, card-issuing banks over-issued cash and credit cards to unqualified applicants. At the same time, most cardholders, irrespective of their repayment ability, overused credit card for consumption and accumulated heavy credit and cash–card debts. The crisis caused the blow to consumer finance confidence and was a big challenge for both banks and cardholders.\n",
    "\n",
    " The data were collected from an important bank (a cash and credit card issuer) in Taiwan and the targets were credit card holders of the bank. Variables the dataset contains are:\n",
    "\n",
    " · LIMIT_BAL: credit limit in NT dollars (including for client's family)\n",
    "\n",
    " · GENDER: 1 = male, 2 = female\n",
    "\n",
    " · EDUCATION: 0 = doctorate, 1 = masters; 2 = bachelor; 3 = school graduate; 4 = elementary education; 5= other; 6 = no data.\n",
    "\n",
    " · MARITAL: marital status: 0 = no answer; 1 = married; 2 = single; 3 = no data.\n",
    "\n",
    " · AGE: age in years\n",
    "\n",
    " · PAY_APR – PAY_SEP : history of past monthly payments, from April (PAY_APR) to September (PAY_SEP) 2005. The measurement scale for the repayment status is 0 = pay duly; 1 = payment delay for one month; 2 = payment delay for two months; . . .; 8 = payment delay for eight months; 9 = payment delay for nine months and above.\n",
    "\n",
    " · BILL_APR – BILL_SEP: the amount of bill statement (NT dollars) each month\n",
    "\n",
    " · PAY_APR – PAY_SEP: the amount of previous payment (NT dollar)\n",
    "\n",
    " · default: binary indicator of a default (1 = Yes, 0 = No)\n",
    "\n",
    " We would like to explore whether there are differences between customers who defaulted and did not."
   ]
  },
  {
   "cell_type": "markdown",
   "id": "43459049",
   "metadata": {},
   "source": [
    "### Data preparation"
   ]
  },
  {
   "cell_type": "code",
   "execution_count": 169,
   "id": "159336d2",
   "metadata": {},
   "outputs": [],
   "source": [
    "import numpy as np\n",
    "from scipy import stats\n",
    "import pandas as pd\n",
    "import seaborn as sns\n",
    "import matplotlib.pyplot as plt\n",
    "from bootstrap_stat import bootstrap_stat as bp\n",
    "\n",
    "%matplotlib inline"
   ]
  },
  {
   "cell_type": "code",
   "execution_count": 170,
   "id": "c3e208dc",
   "metadata": {},
   "outputs": [],
   "source": [
    "dataset = pd.read_csv('credit_card_default_analysis.csv')"
   ]
  },
  {
   "cell_type": "code",
   "execution_count": 171,
   "id": "da3e7a76",
   "metadata": {
    "scrolled": true
   },
   "outputs": [
    {
     "data": {
      "text/html": [
       "<div>\n",
       "<style scoped>\n",
       "    .dataframe tbody tr th:only-of-type {\n",
       "        vertical-align: middle;\n",
       "    }\n",
       "\n",
       "    .dataframe tbody tr th {\n",
       "        vertical-align: top;\n",
       "    }\n",
       "\n",
       "    .dataframe thead th {\n",
       "        text-align: right;\n",
       "    }\n",
       "</style>\n",
       "<table border=\"1\" class=\"dataframe\">\n",
       "  <thead>\n",
       "    <tr style=\"text-align: right;\">\n",
       "      <th></th>\n",
       "      <th>ID</th>\n",
       "      <th>LIMIT_BAL</th>\n",
       "      <th>GENDER</th>\n",
       "      <th>EDUCATION</th>\n",
       "      <th>MARITAL</th>\n",
       "      <th>AGE</th>\n",
       "      <th>PAY_SEP</th>\n",
       "      <th>PAY_AUG</th>\n",
       "      <th>PAY_JUL</th>\n",
       "      <th>PAY_JUN</th>\n",
       "      <th>...</th>\n",
       "      <th>BILL_JUN</th>\n",
       "      <th>BILL_MAY</th>\n",
       "      <th>BILL_APR</th>\n",
       "      <th>PAY_SEP.1</th>\n",
       "      <th>PAY_AUG.1</th>\n",
       "      <th>PAY_JUL.1</th>\n",
       "      <th>PAY_JUN.1</th>\n",
       "      <th>PAY_MAY.1</th>\n",
       "      <th>PAY_APR.1</th>\n",
       "      <th>default</th>\n",
       "    </tr>\n",
       "  </thead>\n",
       "  <tbody>\n",
       "    <tr>\n",
       "      <th>0</th>\n",
       "      <td>1</td>\n",
       "      <td>20000</td>\n",
       "      <td>2</td>\n",
       "      <td>2</td>\n",
       "      <td>1</td>\n",
       "      <td>24</td>\n",
       "      <td>2</td>\n",
       "      <td>2</td>\n",
       "      <td>0</td>\n",
       "      <td>0</td>\n",
       "      <td>...</td>\n",
       "      <td>0</td>\n",
       "      <td>0</td>\n",
       "      <td>0</td>\n",
       "      <td>0</td>\n",
       "      <td>689</td>\n",
       "      <td>0</td>\n",
       "      <td>0</td>\n",
       "      <td>0</td>\n",
       "      <td>0</td>\n",
       "      <td>1</td>\n",
       "    </tr>\n",
       "    <tr>\n",
       "      <th>1</th>\n",
       "      <td>2</td>\n",
       "      <td>120000</td>\n",
       "      <td>2</td>\n",
       "      <td>2</td>\n",
       "      <td>2</td>\n",
       "      <td>26</td>\n",
       "      <td>0</td>\n",
       "      <td>2</td>\n",
       "      <td>0</td>\n",
       "      <td>0</td>\n",
       "      <td>...</td>\n",
       "      <td>3272</td>\n",
       "      <td>3455</td>\n",
       "      <td>3261</td>\n",
       "      <td>0</td>\n",
       "      <td>1000</td>\n",
       "      <td>1000</td>\n",
       "      <td>1000</td>\n",
       "      <td>0</td>\n",
       "      <td>2000</td>\n",
       "      <td>1</td>\n",
       "    </tr>\n",
       "    <tr>\n",
       "      <th>2</th>\n",
       "      <td>3</td>\n",
       "      <td>90000</td>\n",
       "      <td>2</td>\n",
       "      <td>2</td>\n",
       "      <td>2</td>\n",
       "      <td>34</td>\n",
       "      <td>0</td>\n",
       "      <td>0</td>\n",
       "      <td>0</td>\n",
       "      <td>0</td>\n",
       "      <td>...</td>\n",
       "      <td>14331</td>\n",
       "      <td>14948</td>\n",
       "      <td>15549</td>\n",
       "      <td>1518</td>\n",
       "      <td>1500</td>\n",
       "      <td>1000</td>\n",
       "      <td>1000</td>\n",
       "      <td>1000</td>\n",
       "      <td>5000</td>\n",
       "      <td>0</td>\n",
       "    </tr>\n",
       "    <tr>\n",
       "      <th>3</th>\n",
       "      <td>4</td>\n",
       "      <td>50000</td>\n",
       "      <td>2</td>\n",
       "      <td>2</td>\n",
       "      <td>1</td>\n",
       "      <td>37</td>\n",
       "      <td>0</td>\n",
       "      <td>0</td>\n",
       "      <td>0</td>\n",
       "      <td>0</td>\n",
       "      <td>...</td>\n",
       "      <td>28314</td>\n",
       "      <td>28959</td>\n",
       "      <td>29547</td>\n",
       "      <td>2000</td>\n",
       "      <td>2019</td>\n",
       "      <td>1200</td>\n",
       "      <td>1100</td>\n",
       "      <td>1069</td>\n",
       "      <td>1000</td>\n",
       "      <td>0</td>\n",
       "    </tr>\n",
       "    <tr>\n",
       "      <th>4</th>\n",
       "      <td>5</td>\n",
       "      <td>50000</td>\n",
       "      <td>1</td>\n",
       "      <td>2</td>\n",
       "      <td>1</td>\n",
       "      <td>57</td>\n",
       "      <td>0</td>\n",
       "      <td>0</td>\n",
       "      <td>0</td>\n",
       "      <td>0</td>\n",
       "      <td>...</td>\n",
       "      <td>20940</td>\n",
       "      <td>19146</td>\n",
       "      <td>19131</td>\n",
       "      <td>2000</td>\n",
       "      <td>36681</td>\n",
       "      <td>10000</td>\n",
       "      <td>9000</td>\n",
       "      <td>689</td>\n",
       "      <td>679</td>\n",
       "      <td>0</td>\n",
       "    </tr>\n",
       "  </tbody>\n",
       "</table>\n",
       "<p>5 rows × 25 columns</p>\n",
       "</div>"
      ],
      "text/plain": [
       "   ID  LIMIT_BAL  GENDER  EDUCATION  MARITAL  AGE  PAY_SEP  PAY_AUG  PAY_JUL  \\\n",
       "0   1      20000       2          2        1   24        2        2        0   \n",
       "1   2     120000       2          2        2   26        0        2        0   \n",
       "2   3      90000       2          2        2   34        0        0        0   \n",
       "3   4      50000       2          2        1   37        0        0        0   \n",
       "4   5      50000       1          2        1   57        0        0        0   \n",
       "\n",
       "   PAY_JUN  ...  BILL_JUN  BILL_MAY  BILL_APR  PAY_SEP.1  PAY_AUG.1  \\\n",
       "0        0  ...         0         0         0          0        689   \n",
       "1        0  ...      3272      3455      3261          0       1000   \n",
       "2        0  ...     14331     14948     15549       1518       1500   \n",
       "3        0  ...     28314     28959     29547       2000       2019   \n",
       "4        0  ...     20940     19146     19131       2000      36681   \n",
       "\n",
       "   PAY_JUL.1  PAY_JUN.1  PAY_MAY.1  PAY_APR.1  default  \n",
       "0          0          0          0          0        1  \n",
       "1       1000       1000          0       2000        1  \n",
       "2       1000       1000       1000       5000        0  \n",
       "3       1200       1100       1069       1000        0  \n",
       "4      10000       9000        689        679        0  \n",
       "\n",
       "[5 rows x 25 columns]"
      ]
     },
     "execution_count": 171,
     "metadata": {},
     "output_type": "execute_result"
    }
   ],
   "source": [
    "dataset.head(5)"
   ]
  },
  {
   "cell_type": "code",
   "execution_count": 172,
   "id": "dfc3c4ed",
   "metadata": {},
   "outputs": [
    {
     "name": "stdout",
     "output_type": "stream",
     "text": [
      "<class 'pandas.core.frame.DataFrame'>\n",
      "RangeIndex: 30000 entries, 0 to 29999\n",
      "Data columns (total 25 columns):\n",
      " #   Column     Non-Null Count  Dtype\n",
      "---  ------     --------------  -----\n",
      " 0   ID         30000 non-null  int64\n",
      " 1   LIMIT_BAL  30000 non-null  int64\n",
      " 2   GENDER     30000 non-null  int64\n",
      " 3   EDUCATION  30000 non-null  int64\n",
      " 4   MARITAL    30000 non-null  int64\n",
      " 5   AGE        30000 non-null  int64\n",
      " 6   PAY_SEP    30000 non-null  int64\n",
      " 7   PAY_AUG    30000 non-null  int64\n",
      " 8   PAY_JUL    30000 non-null  int64\n",
      " 9   PAY_JUN    30000 non-null  int64\n",
      " 10  PAY_MAY    30000 non-null  int64\n",
      " 11  PAY_APR    30000 non-null  int64\n",
      " 12  BILL_SEP   30000 non-null  int64\n",
      " 13  BILL_AUG   30000 non-null  int64\n",
      " 14  BILL_JUL   30000 non-null  int64\n",
      " 15  BILL_JUN   30000 non-null  int64\n",
      " 16  BILL_MAY   30000 non-null  int64\n",
      " 17  BILL_APR   30000 non-null  int64\n",
      " 18  PAY_SEP.1  30000 non-null  int64\n",
      " 19  PAY_AUG.1  30000 non-null  int64\n",
      " 20  PAY_JUL.1  30000 non-null  int64\n",
      " 21  PAY_JUN.1  30000 non-null  int64\n",
      " 22  PAY_MAY.1  30000 non-null  int64\n",
      " 23  PAY_APR.1  30000 non-null  int64\n",
      " 24  default    30000 non-null  int64\n",
      "dtypes: int64(25)\n",
      "memory usage: 5.7 MB\n"
     ]
    }
   ],
   "source": [
    "dataset.info()"
   ]
  },
  {
   "cell_type": "code",
   "execution_count": 173,
   "id": "8b6b7659",
   "metadata": {},
   "outputs": [
    {
     "data": {
      "text/html": [
       "<div>\n",
       "<style scoped>\n",
       "    .dataframe tbody tr th:only-of-type {\n",
       "        vertical-align: middle;\n",
       "    }\n",
       "\n",
       "    .dataframe tbody tr th {\n",
       "        vertical-align: top;\n",
       "    }\n",
       "\n",
       "    .dataframe thead th {\n",
       "        text-align: right;\n",
       "    }\n",
       "</style>\n",
       "<table border=\"1\" class=\"dataframe\">\n",
       "  <thead>\n",
       "    <tr style=\"text-align: right;\">\n",
       "      <th></th>\n",
       "      <th>ID</th>\n",
       "      <th>LIMIT_BAL</th>\n",
       "      <th>GENDER</th>\n",
       "      <th>EDUCATION</th>\n",
       "      <th>MARITAL</th>\n",
       "      <th>AGE</th>\n",
       "      <th>PAY_SEP</th>\n",
       "      <th>PAY_AUG</th>\n",
       "      <th>PAY_JUL</th>\n",
       "      <th>PAY_JUN</th>\n",
       "      <th>...</th>\n",
       "      <th>BILL_JUN</th>\n",
       "      <th>BILL_MAY</th>\n",
       "      <th>BILL_APR</th>\n",
       "      <th>PAY_SEP.1</th>\n",
       "      <th>PAY_AUG.1</th>\n",
       "      <th>PAY_JUL.1</th>\n",
       "      <th>PAY_JUN.1</th>\n",
       "      <th>PAY_MAY.1</th>\n",
       "      <th>PAY_APR.1</th>\n",
       "      <th>default</th>\n",
       "    </tr>\n",
       "  </thead>\n",
       "  <tbody>\n",
       "    <tr>\n",
       "      <th>count</th>\n",
       "      <td>30000.000000</td>\n",
       "      <td>30000.000000</td>\n",
       "      <td>30000.000000</td>\n",
       "      <td>30000.000000</td>\n",
       "      <td>30000.000000</td>\n",
       "      <td>30000.000000</td>\n",
       "      <td>30000.000000</td>\n",
       "      <td>30000.000000</td>\n",
       "      <td>30000.000000</td>\n",
       "      <td>30000.000000</td>\n",
       "      <td>...</td>\n",
       "      <td>30000.000000</td>\n",
       "      <td>30000.000000</td>\n",
       "      <td>30000.000000</td>\n",
       "      <td>30000.000000</td>\n",
       "      <td>3.000000e+04</td>\n",
       "      <td>30000.00000</td>\n",
       "      <td>30000.000000</td>\n",
       "      <td>30000.000000</td>\n",
       "      <td>30000.000000</td>\n",
       "      <td>30000.000000</td>\n",
       "    </tr>\n",
       "    <tr>\n",
       "      <th>mean</th>\n",
       "      <td>15000.500000</td>\n",
       "      <td>167484.322667</td>\n",
       "      <td>1.603733</td>\n",
       "      <td>1.853133</td>\n",
       "      <td>1.551867</td>\n",
       "      <td>35.485500</td>\n",
       "      <td>0.356767</td>\n",
       "      <td>0.320033</td>\n",
       "      <td>0.304067</td>\n",
       "      <td>0.258767</td>\n",
       "      <td>...</td>\n",
       "      <td>43262.948967</td>\n",
       "      <td>40311.400967</td>\n",
       "      <td>38871.760400</td>\n",
       "      <td>5663.580500</td>\n",
       "      <td>5.921163e+03</td>\n",
       "      <td>5225.68150</td>\n",
       "      <td>4826.076867</td>\n",
       "      <td>4799.387633</td>\n",
       "      <td>5215.502567</td>\n",
       "      <td>0.221200</td>\n",
       "    </tr>\n",
       "    <tr>\n",
       "      <th>std</th>\n",
       "      <td>8660.398374</td>\n",
       "      <td>129747.661567</td>\n",
       "      <td>0.489129</td>\n",
       "      <td>0.790349</td>\n",
       "      <td>0.521970</td>\n",
       "      <td>9.217904</td>\n",
       "      <td>0.760594</td>\n",
       "      <td>0.801727</td>\n",
       "      <td>0.790589</td>\n",
       "      <td>0.761113</td>\n",
       "      <td>...</td>\n",
       "      <td>64332.856134</td>\n",
       "      <td>60797.155770</td>\n",
       "      <td>59554.107537</td>\n",
       "      <td>16563.280354</td>\n",
       "      <td>2.304087e+04</td>\n",
       "      <td>17606.96147</td>\n",
       "      <td>15666.159744</td>\n",
       "      <td>15278.305679</td>\n",
       "      <td>17777.465775</td>\n",
       "      <td>0.415062</td>\n",
       "    </tr>\n",
       "    <tr>\n",
       "      <th>min</th>\n",
       "      <td>1.000000</td>\n",
       "      <td>10000.000000</td>\n",
       "      <td>1.000000</td>\n",
       "      <td>0.000000</td>\n",
       "      <td>0.000000</td>\n",
       "      <td>21.000000</td>\n",
       "      <td>0.000000</td>\n",
       "      <td>0.000000</td>\n",
       "      <td>0.000000</td>\n",
       "      <td>0.000000</td>\n",
       "      <td>...</td>\n",
       "      <td>-170000.000000</td>\n",
       "      <td>-81334.000000</td>\n",
       "      <td>-339603.000000</td>\n",
       "      <td>0.000000</td>\n",
       "      <td>0.000000e+00</td>\n",
       "      <td>0.00000</td>\n",
       "      <td>0.000000</td>\n",
       "      <td>0.000000</td>\n",
       "      <td>0.000000</td>\n",
       "      <td>0.000000</td>\n",
       "    </tr>\n",
       "    <tr>\n",
       "      <th>25%</th>\n",
       "      <td>7500.750000</td>\n",
       "      <td>50000.000000</td>\n",
       "      <td>1.000000</td>\n",
       "      <td>1.000000</td>\n",
       "      <td>1.000000</td>\n",
       "      <td>28.000000</td>\n",
       "      <td>0.000000</td>\n",
       "      <td>0.000000</td>\n",
       "      <td>0.000000</td>\n",
       "      <td>0.000000</td>\n",
       "      <td>...</td>\n",
       "      <td>2326.750000</td>\n",
       "      <td>1763.000000</td>\n",
       "      <td>1256.000000</td>\n",
       "      <td>1000.000000</td>\n",
       "      <td>8.330000e+02</td>\n",
       "      <td>390.00000</td>\n",
       "      <td>296.000000</td>\n",
       "      <td>252.500000</td>\n",
       "      <td>117.750000</td>\n",
       "      <td>0.000000</td>\n",
       "    </tr>\n",
       "    <tr>\n",
       "      <th>50%</th>\n",
       "      <td>15000.500000</td>\n",
       "      <td>140000.000000</td>\n",
       "      <td>2.000000</td>\n",
       "      <td>2.000000</td>\n",
       "      <td>2.000000</td>\n",
       "      <td>34.000000</td>\n",
       "      <td>0.000000</td>\n",
       "      <td>0.000000</td>\n",
       "      <td>0.000000</td>\n",
       "      <td>0.000000</td>\n",
       "      <td>...</td>\n",
       "      <td>19052.000000</td>\n",
       "      <td>18104.500000</td>\n",
       "      <td>17071.000000</td>\n",
       "      <td>2100.000000</td>\n",
       "      <td>2.009000e+03</td>\n",
       "      <td>1800.00000</td>\n",
       "      <td>1500.000000</td>\n",
       "      <td>1500.000000</td>\n",
       "      <td>1500.000000</td>\n",
       "      <td>0.000000</td>\n",
       "    </tr>\n",
       "    <tr>\n",
       "      <th>75%</th>\n",
       "      <td>22500.250000</td>\n",
       "      <td>240000.000000</td>\n",
       "      <td>2.000000</td>\n",
       "      <td>2.000000</td>\n",
       "      <td>2.000000</td>\n",
       "      <td>41.000000</td>\n",
       "      <td>0.000000</td>\n",
       "      <td>0.000000</td>\n",
       "      <td>0.000000</td>\n",
       "      <td>0.000000</td>\n",
       "      <td>...</td>\n",
       "      <td>54506.000000</td>\n",
       "      <td>50190.500000</td>\n",
       "      <td>49198.250000</td>\n",
       "      <td>5006.000000</td>\n",
       "      <td>5.000000e+03</td>\n",
       "      <td>4505.00000</td>\n",
       "      <td>4013.250000</td>\n",
       "      <td>4031.500000</td>\n",
       "      <td>4000.000000</td>\n",
       "      <td>0.000000</td>\n",
       "    </tr>\n",
       "    <tr>\n",
       "      <th>max</th>\n",
       "      <td>30000.000000</td>\n",
       "      <td>1000000.000000</td>\n",
       "      <td>2.000000</td>\n",
       "      <td>6.000000</td>\n",
       "      <td>3.000000</td>\n",
       "      <td>79.000000</td>\n",
       "      <td>8.000000</td>\n",
       "      <td>8.000000</td>\n",
       "      <td>8.000000</td>\n",
       "      <td>8.000000</td>\n",
       "      <td>...</td>\n",
       "      <td>891586.000000</td>\n",
       "      <td>927171.000000</td>\n",
       "      <td>961664.000000</td>\n",
       "      <td>873552.000000</td>\n",
       "      <td>1.684259e+06</td>\n",
       "      <td>896040.00000</td>\n",
       "      <td>621000.000000</td>\n",
       "      <td>426529.000000</td>\n",
       "      <td>528666.000000</td>\n",
       "      <td>1.000000</td>\n",
       "    </tr>\n",
       "  </tbody>\n",
       "</table>\n",
       "<p>8 rows × 25 columns</p>\n",
       "</div>"
      ],
      "text/plain": [
       "                 ID       LIMIT_BAL        GENDER     EDUCATION       MARITAL  \\\n",
       "count  30000.000000    30000.000000  30000.000000  30000.000000  30000.000000   \n",
       "mean   15000.500000   167484.322667      1.603733      1.853133      1.551867   \n",
       "std     8660.398374   129747.661567      0.489129      0.790349      0.521970   \n",
       "min        1.000000    10000.000000      1.000000      0.000000      0.000000   \n",
       "25%     7500.750000    50000.000000      1.000000      1.000000      1.000000   \n",
       "50%    15000.500000   140000.000000      2.000000      2.000000      2.000000   \n",
       "75%    22500.250000   240000.000000      2.000000      2.000000      2.000000   \n",
       "max    30000.000000  1000000.000000      2.000000      6.000000      3.000000   \n",
       "\n",
       "                AGE       PAY_SEP       PAY_AUG       PAY_JUL       PAY_JUN  \\\n",
       "count  30000.000000  30000.000000  30000.000000  30000.000000  30000.000000   \n",
       "mean      35.485500      0.356767      0.320033      0.304067      0.258767   \n",
       "std        9.217904      0.760594      0.801727      0.790589      0.761113   \n",
       "min       21.000000      0.000000      0.000000      0.000000      0.000000   \n",
       "25%       28.000000      0.000000      0.000000      0.000000      0.000000   \n",
       "50%       34.000000      0.000000      0.000000      0.000000      0.000000   \n",
       "75%       41.000000      0.000000      0.000000      0.000000      0.000000   \n",
       "max       79.000000      8.000000      8.000000      8.000000      8.000000   \n",
       "\n",
       "       ...       BILL_JUN       BILL_MAY       BILL_APR      PAY_SEP.1  \\\n",
       "count  ...   30000.000000   30000.000000   30000.000000   30000.000000   \n",
       "mean   ...   43262.948967   40311.400967   38871.760400    5663.580500   \n",
       "std    ...   64332.856134   60797.155770   59554.107537   16563.280354   \n",
       "min    ... -170000.000000  -81334.000000 -339603.000000       0.000000   \n",
       "25%    ...    2326.750000    1763.000000    1256.000000    1000.000000   \n",
       "50%    ...   19052.000000   18104.500000   17071.000000    2100.000000   \n",
       "75%    ...   54506.000000   50190.500000   49198.250000    5006.000000   \n",
       "max    ...  891586.000000  927171.000000  961664.000000  873552.000000   \n",
       "\n",
       "          PAY_AUG.1     PAY_JUL.1      PAY_JUN.1      PAY_MAY.1  \\\n",
       "count  3.000000e+04   30000.00000   30000.000000   30000.000000   \n",
       "mean   5.921163e+03    5225.68150    4826.076867    4799.387633   \n",
       "std    2.304087e+04   17606.96147   15666.159744   15278.305679   \n",
       "min    0.000000e+00       0.00000       0.000000       0.000000   \n",
       "25%    8.330000e+02     390.00000     296.000000     252.500000   \n",
       "50%    2.009000e+03    1800.00000    1500.000000    1500.000000   \n",
       "75%    5.000000e+03    4505.00000    4013.250000    4031.500000   \n",
       "max    1.684259e+06  896040.00000  621000.000000  426529.000000   \n",
       "\n",
       "           PAY_APR.1       default  \n",
       "count   30000.000000  30000.000000  \n",
       "mean     5215.502567      0.221200  \n",
       "std     17777.465775      0.415062  \n",
       "min         0.000000      0.000000  \n",
       "25%       117.750000      0.000000  \n",
       "50%      1500.000000      0.000000  \n",
       "75%      4000.000000      0.000000  \n",
       "max    528666.000000      1.000000  \n",
       "\n",
       "[8 rows x 25 columns]"
      ]
     },
     "execution_count": 173,
     "metadata": {},
     "output_type": "execute_result"
    }
   ],
   "source": [
    "dataset.describe()"
   ]
  },
  {
   "cell_type": "code",
   "execution_count": 174,
   "id": "bb0a0197",
   "metadata": {},
   "outputs": [],
   "source": [
    "dataset.index = dataset['ID']"
   ]
  },
  {
   "cell_type": "code",
   "execution_count": 175,
   "id": "a83ec4fc",
   "metadata": {},
   "outputs": [],
   "source": [
    "dataset.drop('ID',axis=1,inplace=True)"
   ]
  },
  {
   "cell_type": "code",
   "execution_count": 176,
   "id": "4a169da7",
   "metadata": {},
   "outputs": [
    {
     "data": {
      "text/html": [
       "<div>\n",
       "<style scoped>\n",
       "    .dataframe tbody tr th:only-of-type {\n",
       "        vertical-align: middle;\n",
       "    }\n",
       "\n",
       "    .dataframe tbody tr th {\n",
       "        vertical-align: top;\n",
       "    }\n",
       "\n",
       "    .dataframe thead th {\n",
       "        text-align: right;\n",
       "    }\n",
       "</style>\n",
       "<table border=\"1\" class=\"dataframe\">\n",
       "  <thead>\n",
       "    <tr style=\"text-align: right;\">\n",
       "      <th></th>\n",
       "      <th>LIMIT_BAL</th>\n",
       "      <th>GENDER</th>\n",
       "      <th>EDUCATION</th>\n",
       "      <th>MARITAL</th>\n",
       "      <th>AGE</th>\n",
       "      <th>PAY_SEP</th>\n",
       "      <th>PAY_AUG</th>\n",
       "      <th>PAY_JUL</th>\n",
       "      <th>PAY_JUN</th>\n",
       "      <th>PAY_MAY</th>\n",
       "      <th>...</th>\n",
       "      <th>BILL_JUN</th>\n",
       "      <th>BILL_MAY</th>\n",
       "      <th>BILL_APR</th>\n",
       "      <th>PAY_SEP.1</th>\n",
       "      <th>PAY_AUG.1</th>\n",
       "      <th>PAY_JUL.1</th>\n",
       "      <th>PAY_JUN.1</th>\n",
       "      <th>PAY_MAY.1</th>\n",
       "      <th>PAY_APR.1</th>\n",
       "      <th>default</th>\n",
       "    </tr>\n",
       "    <tr>\n",
       "      <th>ID</th>\n",
       "      <th></th>\n",
       "      <th></th>\n",
       "      <th></th>\n",
       "      <th></th>\n",
       "      <th></th>\n",
       "      <th></th>\n",
       "      <th></th>\n",
       "      <th></th>\n",
       "      <th></th>\n",
       "      <th></th>\n",
       "      <th></th>\n",
       "      <th></th>\n",
       "      <th></th>\n",
       "      <th></th>\n",
       "      <th></th>\n",
       "      <th></th>\n",
       "      <th></th>\n",
       "      <th></th>\n",
       "      <th></th>\n",
       "      <th></th>\n",
       "      <th></th>\n",
       "    </tr>\n",
       "  </thead>\n",
       "  <tbody>\n",
       "    <tr>\n",
       "      <th>1</th>\n",
       "      <td>20000</td>\n",
       "      <td>2</td>\n",
       "      <td>2</td>\n",
       "      <td>1</td>\n",
       "      <td>24</td>\n",
       "      <td>2</td>\n",
       "      <td>2</td>\n",
       "      <td>0</td>\n",
       "      <td>0</td>\n",
       "      <td>0</td>\n",
       "      <td>...</td>\n",
       "      <td>0</td>\n",
       "      <td>0</td>\n",
       "      <td>0</td>\n",
       "      <td>0</td>\n",
       "      <td>689</td>\n",
       "      <td>0</td>\n",
       "      <td>0</td>\n",
       "      <td>0</td>\n",
       "      <td>0</td>\n",
       "      <td>1</td>\n",
       "    </tr>\n",
       "    <tr>\n",
       "      <th>2</th>\n",
       "      <td>120000</td>\n",
       "      <td>2</td>\n",
       "      <td>2</td>\n",
       "      <td>2</td>\n",
       "      <td>26</td>\n",
       "      <td>0</td>\n",
       "      <td>2</td>\n",
       "      <td>0</td>\n",
       "      <td>0</td>\n",
       "      <td>0</td>\n",
       "      <td>...</td>\n",
       "      <td>3272</td>\n",
       "      <td>3455</td>\n",
       "      <td>3261</td>\n",
       "      <td>0</td>\n",
       "      <td>1000</td>\n",
       "      <td>1000</td>\n",
       "      <td>1000</td>\n",
       "      <td>0</td>\n",
       "      <td>2000</td>\n",
       "      <td>1</td>\n",
       "    </tr>\n",
       "    <tr>\n",
       "      <th>3</th>\n",
       "      <td>90000</td>\n",
       "      <td>2</td>\n",
       "      <td>2</td>\n",
       "      <td>2</td>\n",
       "      <td>34</td>\n",
       "      <td>0</td>\n",
       "      <td>0</td>\n",
       "      <td>0</td>\n",
       "      <td>0</td>\n",
       "      <td>0</td>\n",
       "      <td>...</td>\n",
       "      <td>14331</td>\n",
       "      <td>14948</td>\n",
       "      <td>15549</td>\n",
       "      <td>1518</td>\n",
       "      <td>1500</td>\n",
       "      <td>1000</td>\n",
       "      <td>1000</td>\n",
       "      <td>1000</td>\n",
       "      <td>5000</td>\n",
       "      <td>0</td>\n",
       "    </tr>\n",
       "    <tr>\n",
       "      <th>4</th>\n",
       "      <td>50000</td>\n",
       "      <td>2</td>\n",
       "      <td>2</td>\n",
       "      <td>1</td>\n",
       "      <td>37</td>\n",
       "      <td>0</td>\n",
       "      <td>0</td>\n",
       "      <td>0</td>\n",
       "      <td>0</td>\n",
       "      <td>0</td>\n",
       "      <td>...</td>\n",
       "      <td>28314</td>\n",
       "      <td>28959</td>\n",
       "      <td>29547</td>\n",
       "      <td>2000</td>\n",
       "      <td>2019</td>\n",
       "      <td>1200</td>\n",
       "      <td>1100</td>\n",
       "      <td>1069</td>\n",
       "      <td>1000</td>\n",
       "      <td>0</td>\n",
       "    </tr>\n",
       "    <tr>\n",
       "      <th>5</th>\n",
       "      <td>50000</td>\n",
       "      <td>1</td>\n",
       "      <td>2</td>\n",
       "      <td>1</td>\n",
       "      <td>57</td>\n",
       "      <td>0</td>\n",
       "      <td>0</td>\n",
       "      <td>0</td>\n",
       "      <td>0</td>\n",
       "      <td>0</td>\n",
       "      <td>...</td>\n",
       "      <td>20940</td>\n",
       "      <td>19146</td>\n",
       "      <td>19131</td>\n",
       "      <td>2000</td>\n",
       "      <td>36681</td>\n",
       "      <td>10000</td>\n",
       "      <td>9000</td>\n",
       "      <td>689</td>\n",
       "      <td>679</td>\n",
       "      <td>0</td>\n",
       "    </tr>\n",
       "  </tbody>\n",
       "</table>\n",
       "<p>5 rows × 24 columns</p>\n",
       "</div>"
      ],
      "text/plain": [
       "    LIMIT_BAL  GENDER  EDUCATION  MARITAL  AGE  PAY_SEP  PAY_AUG  PAY_JUL  \\\n",
       "ID                                                                          \n",
       "1       20000       2          2        1   24        2        2        0   \n",
       "2      120000       2          2        2   26        0        2        0   \n",
       "3       90000       2          2        2   34        0        0        0   \n",
       "4       50000       2          2        1   37        0        0        0   \n",
       "5       50000       1          2        1   57        0        0        0   \n",
       "\n",
       "    PAY_JUN  PAY_MAY  ...  BILL_JUN  BILL_MAY  BILL_APR  PAY_SEP.1  PAY_AUG.1  \\\n",
       "ID                    ...                                                       \n",
       "1         0        0  ...         0         0         0          0        689   \n",
       "2         0        0  ...      3272      3455      3261          0       1000   \n",
       "3         0        0  ...     14331     14948     15549       1518       1500   \n",
       "4         0        0  ...     28314     28959     29547       2000       2019   \n",
       "5         0        0  ...     20940     19146     19131       2000      36681   \n",
       "\n",
       "    PAY_JUL.1  PAY_JUN.1  PAY_MAY.1  PAY_APR.1  default  \n",
       "ID                                                       \n",
       "1           0          0          0          0        1  \n",
       "2        1000       1000          0       2000        1  \n",
       "3        1000       1000       1000       5000        0  \n",
       "4        1200       1100       1069       1000        0  \n",
       "5       10000       9000        689        679        0  \n",
       "\n",
       "[5 rows x 24 columns]"
      ]
     },
     "execution_count": 176,
     "metadata": {},
     "output_type": "execute_result"
    }
   ],
   "source": [
    "dataset.head(5)"
   ]
  },
  {
   "cell_type": "code",
   "execution_count": 177,
   "id": "6ba2b9f4",
   "metadata": {},
   "outputs": [
    {
     "data": {
      "text/plain": [
       "LIMIT_BAL    0\n",
       "GENDER       0\n",
       "EDUCATION    0\n",
       "MARITAL      0\n",
       "AGE          0\n",
       "PAY_SEP      0\n",
       "PAY_AUG      0\n",
       "PAY_JUL      0\n",
       "PAY_JUN      0\n",
       "PAY_MAY      0\n",
       "PAY_APR      0\n",
       "BILL_SEP     0\n",
       "BILL_AUG     0\n",
       "BILL_JUL     0\n",
       "BILL_JUN     0\n",
       "BILL_MAY     0\n",
       "BILL_APR     0\n",
       "PAY_SEP.1    0\n",
       "PAY_AUG.1    0\n",
       "PAY_JUL.1    0\n",
       "PAY_JUN.1    0\n",
       "PAY_MAY.1    0\n",
       "PAY_APR.1    0\n",
       "default      0\n",
       "dtype: int64"
      ]
     },
     "execution_count": 177,
     "metadata": {},
     "output_type": "execute_result"
    }
   ],
   "source": [
    "dataset.isnull().sum()\n"
   ]
  },
  {
   "cell_type": "code",
   "execution_count": 178,
   "id": "0bd6fb01",
   "metadata": {},
   "outputs": [],
   "source": [
    "dataset = dataset.rename(columns={'PAY_APR.1': 'AMT_PAY_APR', 'PAY_MAY.1': 'AMT_PAY_MAY', 'PAY_JUN.1': 'AMT_PAY_JUN', 'PAY_JUL.1': 'AMT_PAY_JUL', 'PAY_AUG.1': 'AMT_PAY_AUG', 'PAY_SEP.1': 'AMT_PAY_SEP'})\n",
    "dataset_default = dataset[dataset['default'] == 1]\n",
    "dataset_no_default = dataset[dataset['default'] == 0]"
   ]
  },
  {
   "cell_type": "code",
   "execution_count": 179,
   "id": "4f3058b4",
   "metadata": {},
   "outputs": [
    {
     "data": {
      "text/html": [
       "<div>\n",
       "<style scoped>\n",
       "    .dataframe tbody tr th:only-of-type {\n",
       "        vertical-align: middle;\n",
       "    }\n",
       "\n",
       "    .dataframe tbody tr th {\n",
       "        vertical-align: top;\n",
       "    }\n",
       "\n",
       "    .dataframe thead th {\n",
       "        text-align: right;\n",
       "    }\n",
       "</style>\n",
       "<table border=\"1\" class=\"dataframe\">\n",
       "  <thead>\n",
       "    <tr style=\"text-align: right;\">\n",
       "      <th></th>\n",
       "      <th>LIMIT_BAL</th>\n",
       "      <th>GENDER</th>\n",
       "      <th>EDUCATION</th>\n",
       "      <th>MARITAL</th>\n",
       "      <th>AGE</th>\n",
       "      <th>PAY_SEP</th>\n",
       "      <th>PAY_AUG</th>\n",
       "      <th>PAY_JUL</th>\n",
       "      <th>PAY_JUN</th>\n",
       "      <th>PAY_MAY</th>\n",
       "      <th>...</th>\n",
       "      <th>BILL_JUN</th>\n",
       "      <th>BILL_MAY</th>\n",
       "      <th>BILL_APR</th>\n",
       "      <th>AMT_PAY_SEP</th>\n",
       "      <th>AMT_PAY_AUG</th>\n",
       "      <th>AMT_PAY_JUL</th>\n",
       "      <th>AMT_PAY_JUN</th>\n",
       "      <th>AMT_PAY_MAY</th>\n",
       "      <th>AMT_PAY_APR</th>\n",
       "      <th>default</th>\n",
       "    </tr>\n",
       "    <tr>\n",
       "      <th>ID</th>\n",
       "      <th></th>\n",
       "      <th></th>\n",
       "      <th></th>\n",
       "      <th></th>\n",
       "      <th></th>\n",
       "      <th></th>\n",
       "      <th></th>\n",
       "      <th></th>\n",
       "      <th></th>\n",
       "      <th></th>\n",
       "      <th></th>\n",
       "      <th></th>\n",
       "      <th></th>\n",
       "      <th></th>\n",
       "      <th></th>\n",
       "      <th></th>\n",
       "      <th></th>\n",
       "      <th></th>\n",
       "      <th></th>\n",
       "      <th></th>\n",
       "      <th></th>\n",
       "    </tr>\n",
       "  </thead>\n",
       "  <tbody>\n",
       "    <tr>\n",
       "      <th>1</th>\n",
       "      <td>20000</td>\n",
       "      <td>2</td>\n",
       "      <td>2</td>\n",
       "      <td>1</td>\n",
       "      <td>24</td>\n",
       "      <td>2</td>\n",
       "      <td>2</td>\n",
       "      <td>0</td>\n",
       "      <td>0</td>\n",
       "      <td>0</td>\n",
       "      <td>...</td>\n",
       "      <td>0</td>\n",
       "      <td>0</td>\n",
       "      <td>0</td>\n",
       "      <td>0</td>\n",
       "      <td>689</td>\n",
       "      <td>0</td>\n",
       "      <td>0</td>\n",
       "      <td>0</td>\n",
       "      <td>0</td>\n",
       "      <td>1</td>\n",
       "    </tr>\n",
       "    <tr>\n",
       "      <th>2</th>\n",
       "      <td>120000</td>\n",
       "      <td>2</td>\n",
       "      <td>2</td>\n",
       "      <td>2</td>\n",
       "      <td>26</td>\n",
       "      <td>0</td>\n",
       "      <td>2</td>\n",
       "      <td>0</td>\n",
       "      <td>0</td>\n",
       "      <td>0</td>\n",
       "      <td>...</td>\n",
       "      <td>3272</td>\n",
       "      <td>3455</td>\n",
       "      <td>3261</td>\n",
       "      <td>0</td>\n",
       "      <td>1000</td>\n",
       "      <td>1000</td>\n",
       "      <td>1000</td>\n",
       "      <td>0</td>\n",
       "      <td>2000</td>\n",
       "      <td>1</td>\n",
       "    </tr>\n",
       "    <tr>\n",
       "      <th>14</th>\n",
       "      <td>70000</td>\n",
       "      <td>1</td>\n",
       "      <td>2</td>\n",
       "      <td>2</td>\n",
       "      <td>30</td>\n",
       "      <td>1</td>\n",
       "      <td>2</td>\n",
       "      <td>2</td>\n",
       "      <td>0</td>\n",
       "      <td>0</td>\n",
       "      <td>...</td>\n",
       "      <td>66782</td>\n",
       "      <td>36137</td>\n",
       "      <td>36894</td>\n",
       "      <td>3200</td>\n",
       "      <td>0</td>\n",
       "      <td>3000</td>\n",
       "      <td>3000</td>\n",
       "      <td>1500</td>\n",
       "      <td>0</td>\n",
       "      <td>1</td>\n",
       "    </tr>\n",
       "    <tr>\n",
       "      <th>17</th>\n",
       "      <td>20000</td>\n",
       "      <td>1</td>\n",
       "      <td>1</td>\n",
       "      <td>2</td>\n",
       "      <td>24</td>\n",
       "      <td>0</td>\n",
       "      <td>0</td>\n",
       "      <td>2</td>\n",
       "      <td>2</td>\n",
       "      <td>2</td>\n",
       "      <td>...</td>\n",
       "      <td>18338</td>\n",
       "      <td>17905</td>\n",
       "      <td>19104</td>\n",
       "      <td>3200</td>\n",
       "      <td>0</td>\n",
       "      <td>1500</td>\n",
       "      <td>0</td>\n",
       "      <td>1650</td>\n",
       "      <td>0</td>\n",
       "      <td>1</td>\n",
       "    </tr>\n",
       "    <tr>\n",
       "      <th>22</th>\n",
       "      <td>120000</td>\n",
       "      <td>2</td>\n",
       "      <td>2</td>\n",
       "      <td>1</td>\n",
       "      <td>39</td>\n",
       "      <td>0</td>\n",
       "      <td>0</td>\n",
       "      <td>0</td>\n",
       "      <td>0</td>\n",
       "      <td>0</td>\n",
       "      <td>...</td>\n",
       "      <td>0</td>\n",
       "      <td>632</td>\n",
       "      <td>316</td>\n",
       "      <td>316</td>\n",
       "      <td>316</td>\n",
       "      <td>0</td>\n",
       "      <td>632</td>\n",
       "      <td>316</td>\n",
       "      <td>0</td>\n",
       "      <td>1</td>\n",
       "    </tr>\n",
       "    <tr>\n",
       "      <th>...</th>\n",
       "      <td>...</td>\n",
       "      <td>...</td>\n",
       "      <td>...</td>\n",
       "      <td>...</td>\n",
       "      <td>...</td>\n",
       "      <td>...</td>\n",
       "      <td>...</td>\n",
       "      <td>...</td>\n",
       "      <td>...</td>\n",
       "      <td>...</td>\n",
       "      <td>...</td>\n",
       "      <td>...</td>\n",
       "      <td>...</td>\n",
       "      <td>...</td>\n",
       "      <td>...</td>\n",
       "      <td>...</td>\n",
       "      <td>...</td>\n",
       "      <td>...</td>\n",
       "      <td>...</td>\n",
       "      <td>...</td>\n",
       "      <td>...</td>\n",
       "    </tr>\n",
       "    <tr>\n",
       "      <th>29992</th>\n",
       "      <td>210000</td>\n",
       "      <td>1</td>\n",
       "      <td>2</td>\n",
       "      <td>1</td>\n",
       "      <td>34</td>\n",
       "      <td>3</td>\n",
       "      <td>2</td>\n",
       "      <td>2</td>\n",
       "      <td>2</td>\n",
       "      <td>2</td>\n",
       "      <td>...</td>\n",
       "      <td>2500</td>\n",
       "      <td>2500</td>\n",
       "      <td>2500</td>\n",
       "      <td>0</td>\n",
       "      <td>0</td>\n",
       "      <td>0</td>\n",
       "      <td>0</td>\n",
       "      <td>0</td>\n",
       "      <td>0</td>\n",
       "      <td>1</td>\n",
       "    </tr>\n",
       "    <tr>\n",
       "      <th>29995</th>\n",
       "      <td>80000</td>\n",
       "      <td>1</td>\n",
       "      <td>2</td>\n",
       "      <td>2</td>\n",
       "      <td>34</td>\n",
       "      <td>2</td>\n",
       "      <td>2</td>\n",
       "      <td>2</td>\n",
       "      <td>2</td>\n",
       "      <td>2</td>\n",
       "      <td>...</td>\n",
       "      <td>77519</td>\n",
       "      <td>82607</td>\n",
       "      <td>81158</td>\n",
       "      <td>7000</td>\n",
       "      <td>3500</td>\n",
       "      <td>0</td>\n",
       "      <td>7000</td>\n",
       "      <td>0</td>\n",
       "      <td>4000</td>\n",
       "      <td>1</td>\n",
       "    </tr>\n",
       "    <tr>\n",
       "      <th>29998</th>\n",
       "      <td>30000</td>\n",
       "      <td>1</td>\n",
       "      <td>2</td>\n",
       "      <td>2</td>\n",
       "      <td>37</td>\n",
       "      <td>4</td>\n",
       "      <td>3</td>\n",
       "      <td>2</td>\n",
       "      <td>0</td>\n",
       "      <td>0</td>\n",
       "      <td>...</td>\n",
       "      <td>20878</td>\n",
       "      <td>20582</td>\n",
       "      <td>19357</td>\n",
       "      <td>0</td>\n",
       "      <td>0</td>\n",
       "      <td>22000</td>\n",
       "      <td>4200</td>\n",
       "      <td>2000</td>\n",
       "      <td>3100</td>\n",
       "      <td>1</td>\n",
       "    </tr>\n",
       "    <tr>\n",
       "      <th>29999</th>\n",
       "      <td>80000</td>\n",
       "      <td>1</td>\n",
       "      <td>3</td>\n",
       "      <td>1</td>\n",
       "      <td>41</td>\n",
       "      <td>1</td>\n",
       "      <td>0</td>\n",
       "      <td>0</td>\n",
       "      <td>0</td>\n",
       "      <td>0</td>\n",
       "      <td>...</td>\n",
       "      <td>52774</td>\n",
       "      <td>11855</td>\n",
       "      <td>48944</td>\n",
       "      <td>85900</td>\n",
       "      <td>3409</td>\n",
       "      <td>1178</td>\n",
       "      <td>1926</td>\n",
       "      <td>52964</td>\n",
       "      <td>1804</td>\n",
       "      <td>1</td>\n",
       "    </tr>\n",
       "    <tr>\n",
       "      <th>30000</th>\n",
       "      <td>50000</td>\n",
       "      <td>1</td>\n",
       "      <td>2</td>\n",
       "      <td>1</td>\n",
       "      <td>46</td>\n",
       "      <td>0</td>\n",
       "      <td>0</td>\n",
       "      <td>0</td>\n",
       "      <td>0</td>\n",
       "      <td>0</td>\n",
       "      <td>...</td>\n",
       "      <td>36535</td>\n",
       "      <td>32428</td>\n",
       "      <td>15313</td>\n",
       "      <td>2078</td>\n",
       "      <td>1800</td>\n",
       "      <td>1430</td>\n",
       "      <td>1000</td>\n",
       "      <td>1000</td>\n",
       "      <td>1000</td>\n",
       "      <td>1</td>\n",
       "    </tr>\n",
       "  </tbody>\n",
       "</table>\n",
       "<p>6636 rows × 24 columns</p>\n",
       "</div>"
      ],
      "text/plain": [
       "       LIMIT_BAL  GENDER  EDUCATION  MARITAL  AGE  PAY_SEP  PAY_AUG  PAY_JUL  \\\n",
       "ID                                                                             \n",
       "1          20000       2          2        1   24        2        2        0   \n",
       "2         120000       2          2        2   26        0        2        0   \n",
       "14         70000       1          2        2   30        1        2        2   \n",
       "17         20000       1          1        2   24        0        0        2   \n",
       "22        120000       2          2        1   39        0        0        0   \n",
       "...          ...     ...        ...      ...  ...      ...      ...      ...   \n",
       "29992     210000       1          2        1   34        3        2        2   \n",
       "29995      80000       1          2        2   34        2        2        2   \n",
       "29998      30000       1          2        2   37        4        3        2   \n",
       "29999      80000       1          3        1   41        1        0        0   \n",
       "30000      50000       1          2        1   46        0        0        0   \n",
       "\n",
       "       PAY_JUN  PAY_MAY  ...  BILL_JUN  BILL_MAY  BILL_APR  AMT_PAY_SEP  \\\n",
       "ID                       ...                                              \n",
       "1            0        0  ...         0         0         0            0   \n",
       "2            0        0  ...      3272      3455      3261            0   \n",
       "14           0        0  ...     66782     36137     36894         3200   \n",
       "17           2        2  ...     18338     17905     19104         3200   \n",
       "22           0        0  ...         0       632       316          316   \n",
       "...        ...      ...  ...       ...       ...       ...          ...   \n",
       "29992        2        2  ...      2500      2500      2500            0   \n",
       "29995        2        2  ...     77519     82607     81158         7000   \n",
       "29998        0        0  ...     20878     20582     19357            0   \n",
       "29999        0        0  ...     52774     11855     48944        85900   \n",
       "30000        0        0  ...     36535     32428     15313         2078   \n",
       "\n",
       "       AMT_PAY_AUG  AMT_PAY_JUL  AMT_PAY_JUN  AMT_PAY_MAY  AMT_PAY_APR  \\\n",
       "ID                                                                       \n",
       "1              689            0            0            0            0   \n",
       "2             1000         1000         1000            0         2000   \n",
       "14               0         3000         3000         1500            0   \n",
       "17               0         1500            0         1650            0   \n",
       "22             316            0          632          316            0   \n",
       "...            ...          ...          ...          ...          ...   \n",
       "29992            0            0            0            0            0   \n",
       "29995         3500            0         7000            0         4000   \n",
       "29998            0        22000         4200         2000         3100   \n",
       "29999         3409         1178         1926        52964         1804   \n",
       "30000         1800         1430         1000         1000         1000   \n",
       "\n",
       "       default  \n",
       "ID              \n",
       "1            1  \n",
       "2            1  \n",
       "14           1  \n",
       "17           1  \n",
       "22           1  \n",
       "...        ...  \n",
       "29992        1  \n",
       "29995        1  \n",
       "29998        1  \n",
       "29999        1  \n",
       "30000        1  \n",
       "\n",
       "[6636 rows x 24 columns]"
      ]
     },
     "execution_count": 179,
     "metadata": {},
     "output_type": "execute_result"
    }
   ],
   "source": [
    "dataset_default"
   ]
  },
  {
   "cell_type": "code",
   "execution_count": 180,
   "id": "21f2fe66",
   "metadata": {
    "scrolled": false
   },
   "outputs": [
    {
     "data": {
      "text/html": [
       "<div>\n",
       "<style scoped>\n",
       "    .dataframe tbody tr th:only-of-type {\n",
       "        vertical-align: middle;\n",
       "    }\n",
       "\n",
       "    .dataframe tbody tr th {\n",
       "        vertical-align: top;\n",
       "    }\n",
       "\n",
       "    .dataframe thead th {\n",
       "        text-align: right;\n",
       "    }\n",
       "</style>\n",
       "<table border=\"1\" class=\"dataframe\">\n",
       "  <thead>\n",
       "    <tr style=\"text-align: right;\">\n",
       "      <th></th>\n",
       "      <th>LIMIT_BAL</th>\n",
       "      <th>GENDER</th>\n",
       "      <th>EDUCATION</th>\n",
       "      <th>MARITAL</th>\n",
       "      <th>AGE</th>\n",
       "      <th>PAY_SEP</th>\n",
       "      <th>PAY_AUG</th>\n",
       "      <th>PAY_JUL</th>\n",
       "      <th>PAY_JUN</th>\n",
       "      <th>PAY_MAY</th>\n",
       "      <th>...</th>\n",
       "      <th>BILL_JUN</th>\n",
       "      <th>BILL_MAY</th>\n",
       "      <th>BILL_APR</th>\n",
       "      <th>AMT_PAY_SEP</th>\n",
       "      <th>AMT_PAY_AUG</th>\n",
       "      <th>AMT_PAY_JUL</th>\n",
       "      <th>AMT_PAY_JUN</th>\n",
       "      <th>AMT_PAY_MAY</th>\n",
       "      <th>AMT_PAY_APR</th>\n",
       "      <th>default</th>\n",
       "    </tr>\n",
       "    <tr>\n",
       "      <th>ID</th>\n",
       "      <th></th>\n",
       "      <th></th>\n",
       "      <th></th>\n",
       "      <th></th>\n",
       "      <th></th>\n",
       "      <th></th>\n",
       "      <th></th>\n",
       "      <th></th>\n",
       "      <th></th>\n",
       "      <th></th>\n",
       "      <th></th>\n",
       "      <th></th>\n",
       "      <th></th>\n",
       "      <th></th>\n",
       "      <th></th>\n",
       "      <th></th>\n",
       "      <th></th>\n",
       "      <th></th>\n",
       "      <th></th>\n",
       "      <th></th>\n",
       "      <th></th>\n",
       "    </tr>\n",
       "  </thead>\n",
       "  <tbody>\n",
       "    <tr>\n",
       "      <th>3</th>\n",
       "      <td>90000</td>\n",
       "      <td>2</td>\n",
       "      <td>2</td>\n",
       "      <td>2</td>\n",
       "      <td>34</td>\n",
       "      <td>0</td>\n",
       "      <td>0</td>\n",
       "      <td>0</td>\n",
       "      <td>0</td>\n",
       "      <td>0</td>\n",
       "      <td>...</td>\n",
       "      <td>14331</td>\n",
       "      <td>14948</td>\n",
       "      <td>15549</td>\n",
       "      <td>1518</td>\n",
       "      <td>1500</td>\n",
       "      <td>1000</td>\n",
       "      <td>1000</td>\n",
       "      <td>1000</td>\n",
       "      <td>5000</td>\n",
       "      <td>0</td>\n",
       "    </tr>\n",
       "    <tr>\n",
       "      <th>4</th>\n",
       "      <td>50000</td>\n",
       "      <td>2</td>\n",
       "      <td>2</td>\n",
       "      <td>1</td>\n",
       "      <td>37</td>\n",
       "      <td>0</td>\n",
       "      <td>0</td>\n",
       "      <td>0</td>\n",
       "      <td>0</td>\n",
       "      <td>0</td>\n",
       "      <td>...</td>\n",
       "      <td>28314</td>\n",
       "      <td>28959</td>\n",
       "      <td>29547</td>\n",
       "      <td>2000</td>\n",
       "      <td>2019</td>\n",
       "      <td>1200</td>\n",
       "      <td>1100</td>\n",
       "      <td>1069</td>\n",
       "      <td>1000</td>\n",
       "      <td>0</td>\n",
       "    </tr>\n",
       "    <tr>\n",
       "      <th>5</th>\n",
       "      <td>50000</td>\n",
       "      <td>1</td>\n",
       "      <td>2</td>\n",
       "      <td>1</td>\n",
       "      <td>57</td>\n",
       "      <td>0</td>\n",
       "      <td>0</td>\n",
       "      <td>0</td>\n",
       "      <td>0</td>\n",
       "      <td>0</td>\n",
       "      <td>...</td>\n",
       "      <td>20940</td>\n",
       "      <td>19146</td>\n",
       "      <td>19131</td>\n",
       "      <td>2000</td>\n",
       "      <td>36681</td>\n",
       "      <td>10000</td>\n",
       "      <td>9000</td>\n",
       "      <td>689</td>\n",
       "      <td>679</td>\n",
       "      <td>0</td>\n",
       "    </tr>\n",
       "    <tr>\n",
       "      <th>6</th>\n",
       "      <td>50000</td>\n",
       "      <td>1</td>\n",
       "      <td>1</td>\n",
       "      <td>2</td>\n",
       "      <td>37</td>\n",
       "      <td>0</td>\n",
       "      <td>0</td>\n",
       "      <td>0</td>\n",
       "      <td>0</td>\n",
       "      <td>0</td>\n",
       "      <td>...</td>\n",
       "      <td>19394</td>\n",
       "      <td>19619</td>\n",
       "      <td>20024</td>\n",
       "      <td>2500</td>\n",
       "      <td>1815</td>\n",
       "      <td>657</td>\n",
       "      <td>1000</td>\n",
       "      <td>1000</td>\n",
       "      <td>800</td>\n",
       "      <td>0</td>\n",
       "    </tr>\n",
       "    <tr>\n",
       "      <th>7</th>\n",
       "      <td>500000</td>\n",
       "      <td>1</td>\n",
       "      <td>1</td>\n",
       "      <td>2</td>\n",
       "      <td>29</td>\n",
       "      <td>0</td>\n",
       "      <td>0</td>\n",
       "      <td>0</td>\n",
       "      <td>0</td>\n",
       "      <td>0</td>\n",
       "      <td>...</td>\n",
       "      <td>542653</td>\n",
       "      <td>483003</td>\n",
       "      <td>473944</td>\n",
       "      <td>55000</td>\n",
       "      <td>40000</td>\n",
       "      <td>38000</td>\n",
       "      <td>20239</td>\n",
       "      <td>13750</td>\n",
       "      <td>13770</td>\n",
       "      <td>0</td>\n",
       "    </tr>\n",
       "    <tr>\n",
       "      <th>...</th>\n",
       "      <td>...</td>\n",
       "      <td>...</td>\n",
       "      <td>...</td>\n",
       "      <td>...</td>\n",
       "      <td>...</td>\n",
       "      <td>...</td>\n",
       "      <td>...</td>\n",
       "      <td>...</td>\n",
       "      <td>...</td>\n",
       "      <td>...</td>\n",
       "      <td>...</td>\n",
       "      <td>...</td>\n",
       "      <td>...</td>\n",
       "      <td>...</td>\n",
       "      <td>...</td>\n",
       "      <td>...</td>\n",
       "      <td>...</td>\n",
       "      <td>...</td>\n",
       "      <td>...</td>\n",
       "      <td>...</td>\n",
       "      <td>...</td>\n",
       "    </tr>\n",
       "    <tr>\n",
       "      <th>29991</th>\n",
       "      <td>140000</td>\n",
       "      <td>1</td>\n",
       "      <td>2</td>\n",
       "      <td>1</td>\n",
       "      <td>41</td>\n",
       "      <td>0</td>\n",
       "      <td>0</td>\n",
       "      <td>0</td>\n",
       "      <td>0</td>\n",
       "      <td>0</td>\n",
       "      <td>...</td>\n",
       "      <td>138262</td>\n",
       "      <td>49675</td>\n",
       "      <td>46121</td>\n",
       "      <td>6000</td>\n",
       "      <td>7000</td>\n",
       "      <td>4228</td>\n",
       "      <td>1505</td>\n",
       "      <td>2000</td>\n",
       "      <td>2000</td>\n",
       "      <td>0</td>\n",
       "    </tr>\n",
       "    <tr>\n",
       "      <th>29993</th>\n",
       "      <td>10000</td>\n",
       "      <td>1</td>\n",
       "      <td>3</td>\n",
       "      <td>1</td>\n",
       "      <td>43</td>\n",
       "      <td>0</td>\n",
       "      <td>0</td>\n",
       "      <td>0</td>\n",
       "      <td>0</td>\n",
       "      <td>0</td>\n",
       "      <td>...</td>\n",
       "      <td>0</td>\n",
       "      <td>0</td>\n",
       "      <td>0</td>\n",
       "      <td>2000</td>\n",
       "      <td>0</td>\n",
       "      <td>0</td>\n",
       "      <td>0</td>\n",
       "      <td>0</td>\n",
       "      <td>0</td>\n",
       "      <td>0</td>\n",
       "    </tr>\n",
       "    <tr>\n",
       "      <th>29994</th>\n",
       "      <td>100000</td>\n",
       "      <td>1</td>\n",
       "      <td>1</td>\n",
       "      <td>2</td>\n",
       "      <td>38</td>\n",
       "      <td>0</td>\n",
       "      <td>0</td>\n",
       "      <td>0</td>\n",
       "      <td>0</td>\n",
       "      <td>0</td>\n",
       "      <td>...</td>\n",
       "      <td>70626</td>\n",
       "      <td>69473</td>\n",
       "      <td>55004</td>\n",
       "      <td>2000</td>\n",
       "      <td>111784</td>\n",
       "      <td>4000</td>\n",
       "      <td>3000</td>\n",
       "      <td>2000</td>\n",
       "      <td>2000</td>\n",
       "      <td>0</td>\n",
       "    </tr>\n",
       "    <tr>\n",
       "      <th>29996</th>\n",
       "      <td>220000</td>\n",
       "      <td>1</td>\n",
       "      <td>3</td>\n",
       "      <td>1</td>\n",
       "      <td>39</td>\n",
       "      <td>0</td>\n",
       "      <td>0</td>\n",
       "      <td>0</td>\n",
       "      <td>0</td>\n",
       "      <td>0</td>\n",
       "      <td>...</td>\n",
       "      <td>88004</td>\n",
       "      <td>31237</td>\n",
       "      <td>15980</td>\n",
       "      <td>8500</td>\n",
       "      <td>20000</td>\n",
       "      <td>5003</td>\n",
       "      <td>3047</td>\n",
       "      <td>5000</td>\n",
       "      <td>1000</td>\n",
       "      <td>0</td>\n",
       "    </tr>\n",
       "    <tr>\n",
       "      <th>29997</th>\n",
       "      <td>150000</td>\n",
       "      <td>1</td>\n",
       "      <td>3</td>\n",
       "      <td>2</td>\n",
       "      <td>43</td>\n",
       "      <td>0</td>\n",
       "      <td>0</td>\n",
       "      <td>0</td>\n",
       "      <td>0</td>\n",
       "      <td>0</td>\n",
       "      <td>...</td>\n",
       "      <td>8979</td>\n",
       "      <td>5190</td>\n",
       "      <td>0</td>\n",
       "      <td>1837</td>\n",
       "      <td>3526</td>\n",
       "      <td>8998</td>\n",
       "      <td>129</td>\n",
       "      <td>0</td>\n",
       "      <td>0</td>\n",
       "      <td>0</td>\n",
       "    </tr>\n",
       "  </tbody>\n",
       "</table>\n",
       "<p>23364 rows × 24 columns</p>\n",
       "</div>"
      ],
      "text/plain": [
       "       LIMIT_BAL  GENDER  EDUCATION  MARITAL  AGE  PAY_SEP  PAY_AUG  PAY_JUL  \\\n",
       "ID                                                                             \n",
       "3          90000       2          2        2   34        0        0        0   \n",
       "4          50000       2          2        1   37        0        0        0   \n",
       "5          50000       1          2        1   57        0        0        0   \n",
       "6          50000       1          1        2   37        0        0        0   \n",
       "7         500000       1          1        2   29        0        0        0   \n",
       "...          ...     ...        ...      ...  ...      ...      ...      ...   \n",
       "29991     140000       1          2        1   41        0        0        0   \n",
       "29993      10000       1          3        1   43        0        0        0   \n",
       "29994     100000       1          1        2   38        0        0        0   \n",
       "29996     220000       1          3        1   39        0        0        0   \n",
       "29997     150000       1          3        2   43        0        0        0   \n",
       "\n",
       "       PAY_JUN  PAY_MAY  ...  BILL_JUN  BILL_MAY  BILL_APR  AMT_PAY_SEP  \\\n",
       "ID                       ...                                              \n",
       "3            0        0  ...     14331     14948     15549         1518   \n",
       "4            0        0  ...     28314     28959     29547         2000   \n",
       "5            0        0  ...     20940     19146     19131         2000   \n",
       "6            0        0  ...     19394     19619     20024         2500   \n",
       "7            0        0  ...    542653    483003    473944        55000   \n",
       "...        ...      ...  ...       ...       ...       ...          ...   \n",
       "29991        0        0  ...    138262     49675     46121         6000   \n",
       "29993        0        0  ...         0         0         0         2000   \n",
       "29994        0        0  ...     70626     69473     55004         2000   \n",
       "29996        0        0  ...     88004     31237     15980         8500   \n",
       "29997        0        0  ...      8979      5190         0         1837   \n",
       "\n",
       "       AMT_PAY_AUG  AMT_PAY_JUL  AMT_PAY_JUN  AMT_PAY_MAY  AMT_PAY_APR  \\\n",
       "ID                                                                       \n",
       "3             1500         1000         1000         1000         5000   \n",
       "4             2019         1200         1100         1069         1000   \n",
       "5            36681        10000         9000          689          679   \n",
       "6             1815          657         1000         1000          800   \n",
       "7            40000        38000        20239        13750        13770   \n",
       "...            ...          ...          ...          ...          ...   \n",
       "29991         7000         4228         1505         2000         2000   \n",
       "29993            0            0            0            0            0   \n",
       "29994       111784         4000         3000         2000         2000   \n",
       "29996        20000         5003         3047         5000         1000   \n",
       "29997         3526         8998          129            0            0   \n",
       "\n",
       "       default  \n",
       "ID              \n",
       "3            0  \n",
       "4            0  \n",
       "5            0  \n",
       "6            0  \n",
       "7            0  \n",
       "...        ...  \n",
       "29991        0  \n",
       "29993        0  \n",
       "29994        0  \n",
       "29996        0  \n",
       "29997        0  \n",
       "\n",
       "[23364 rows x 24 columns]"
      ]
     },
     "execution_count": 180,
     "metadata": {},
     "output_type": "execute_result"
    }
   ],
   "source": [
    "dataset_no_default"
   ]
  },
  {
   "cell_type": "markdown",
   "id": "a4af004a",
   "metadata": {},
   "source": [
    "##  1. Credit limit: test whether there are differences between median credit limits of two groups."
   ]
  },
  {
   "cell_type": "code",
   "execution_count": 181,
   "id": "60fa267c",
   "metadata": {},
   "outputs": [
    {
     "data": {
      "image/png": "[encoded data removed]",
      "text/plain": [
       "<Figure size 720x288 with 2 Axes>"
      ]
     },
     "metadata": {
      "needs_background": "light"
     },
     "output_type": "display_data"
    }
   ],
   "source": [
    "plt.figure(figsize=(10, 4))\n",
    "\n",
    "plt.subplot(1, 2, 1)\n",
    "plt.hist(dataset_no_default['LIMIT_BAL'], bins=20, color='blue')\n",
    "plt.title('No Default')\n",
    "plt.xlabel('Credit Limit (NT dollars)')\n",
    "plt.ylabel('Frequency')\n",
    "\n",
    "plt.subplot(1, 2, 2)\n",
    "plt.hist(dataset_default['LIMIT_BAL'], bins=20, color='orange')\n",
    "plt.title('Default')\n",
    "plt.xlabel('Credit Limit (NT dollars)')\n",
    "plt.ylabel('Frequency')\n",
    "\n",
    "plt.tight_layout()\n",
    "plt.show()"
   ]
  },
  {
   "cell_type": "code",
   "execution_count": 182,
   "id": "9e2911cb",
   "metadata": {},
   "outputs": [
    {
     "data": {
      "text/plain": [
       "<AxesSubplot:xlabel='default', ylabel='LIMIT_BAL'>"
      ]
     },
     "execution_count": 182,
     "metadata": {},
     "output_type": "execute_result"
    },
    {
     "data": {
      "image/png": "[encoded data removed]",
      "text/plain": [
       "<Figure size 432x288 with 1 Axes>"
      ]
     },
     "metadata": {
      "needs_background": "light"
     },
     "output_type": "display_data"
    }
   ],
   "source": [
    "sns.boxplot(x='default', y='LIMIT_BAL',data=dataset)"
   ]
  },
  {
   "cell_type": "code",
   "execution_count": 183,
   "id": "3d2c0dfb",
   "metadata": {},
   "outputs": [],
   "source": [
    "def percentile_interval(stat, alpha):\n",
    "    boundaries = np.percentile(stat, [100 * alpha / 2., 100 * (1 - alpha / 2.)])\n",
    "    return boundaries\n",
    "\n",
    "def get_bootstrap_samples(x, n_resamples):\n",
    "    indices = np.random.randint(0, len(x), (n_resamples, len(x)))\n",
    "    resamples = x[indices]\n",
    "    return resamples"
   ]
  },
  {
   "cell_type": "code",
   "execution_count": 184,
   "id": "53a13516",
   "metadata": {},
   "outputs": [],
   "source": [
    "data_limit_d = dataset_default['LIMIT_BAL'].values\n",
    "data_limit_nod = dataset_no_default['LIMIT_BAL'].values"
   ]
  },
  {
   "cell_type": "code",
   "execution_count": 185,
   "id": "db37fdb7",
   "metadata": {},
   "outputs": [
    {
     "name": "stdout",
     "output_type": "stream",
     "text": [
      "95% confidence interval for the Limit balance for clients with default: [80000. 90000.]\n",
      "95% confidence interval for the Limit balance for clients without default: [150000. 150000.]\n"
     ]
    }
   ],
   "source": [
    "np.random.seed(0)\n",
    "\n",
    "limit_d_median = list(map(np.median, get_bootstrap_samples(data_limit_d, 10000)))\n",
    "limit_nod_median = list(map(np.median, get_bootstrap_samples(data_limit_nod, 10000)))\n",
    "\n",
    "print(\"95% confidence interval for the Limit balance for clients with default:\",  percentile_interval(limit_d_median, 0.05))\n",
    "print(\"95% confidence interval for the Limit balance for clients without default:\",  percentile_interval(limit_nod_median, 0.05))"
   ]
  },
  {
   "cell_type": "code",
   "execution_count": 186,
   "id": "94b3f5ad",
   "metadata": {},
   "outputs": [
    {
     "name": "stdout",
     "output_type": "stream",
     "text": [
      "Estimated difference between limit balance for non-default and default: 60000.0\n"
     ]
    }
   ],
   "source": [
    "print(\"Estimated difference between limit balance for non-default and default:\", \n",
    "      np.median(data_limit_nod) - np.median(data_limit_d))"
   ]
  },
  {
   "cell_type": "code",
   "execution_count": 187,
   "id": "c8e7c90c",
   "metadata": {},
   "outputs": [
    {
     "name": "stdout",
     "output_type": "stream",
     "text": [
      "95% confidence interval for the difference between limit balance for non-default and default: [60000. 70000.]\n"
     ]
    }
   ],
   "source": [
    "delta_median_scores = list(map(lambda x: x[1] - x[0], zip(limit_d_median, limit_nod_median)))\n",
    "print(\"95% confidence interval for the difference between limit balance for non-default and default:\",  \n",
    "      percentile_interval(delta_median_scores, 0.05))"
   ]
  },
  {
   "cell_type": "code",
   "execution_count": 188,
   "id": "d0f3eaf8",
   "metadata": {},
   "outputs": [
    {
     "name": "stdout",
     "output_type": "stream",
     "text": [
      "Statistics=59257217.5, p=0.00000\n",
      "Reject H0\n"
     ]
    }
   ],
   "source": [
    "from scipy.stats import mannwhitneyu\n",
    "\n",
    "stat, p = mannwhitneyu(dataset_default['LIMIT_BAL'], dataset_no_default['LIMIT_BAL'])\n",
    "print('Statistics=%.1f, p=%.5f' % (stat, p))\n",
    "alpha = 0.05\n",
    "if p < alpha:\n",
    "    print('Reject H0')\n",
    "else:\n",
    "    print('Fail to reject H0')"
   ]
  },
  {
   "cell_type": "code",
   "execution_count": 189,
   "id": "5e0a36b3",
   "metadata": {
    "scrolled": true
   },
   "outputs": [
    {
     "name": "stdout",
     "output_type": "stream",
     "text": [
      "Statistics=59257217.5, p=0.00000\n",
      "Reject H0\n"
     ]
    }
   ],
   "source": [
    "from scipy.stats import mannwhitneyu\n",
    "\n",
    "stat, p = mannwhitneyu(data_limit_d, data_limit_nod, method='asymptotic')\n",
    "print('Statistics=%.1f, p=%.5f' % (stat, p))\n",
    "alpha = 0.05\n",
    "if p < alpha:\n",
    "    print('Reject H0')\n",
    "else:\n",
    "    print('Fail to reject H0')"
   ]
  },
  {
   "cell_type": "markdown",
   "id": "25b9ce8f",
   "metadata": {},
   "source": [
    "Clients with default have lower Limit Balance."
   ]
  },
  {
   "cell_type": "code",
   "execution_count": null,
   "id": "07b33b72",
   "metadata": {},
   "outputs": [],
   "source": []
  },
  {
   "cell_type": "markdown",
   "id": "09dcb25a",
   "metadata": {},
   "source": [
    "## 2. Gender: test whether gender composition of two groups differ."
   ]
  },
  {
   "cell_type": "markdown",
   "id": "c4fd408b",
   "metadata": {},
   "source": [
    "GENDER: 1 = male, 2 = female"
   ]
  },
  {
   "cell_type": "code",
   "execution_count": 190,
   "id": "ae3309bc",
   "metadata": {},
   "outputs": [],
   "source": [
    "from statsmodels.stats.proportion import proportion_confint, proportions_ztest, \\\n",
    "confint_proportions_2indep, test_proportions_2indep"
   ]
  },
  {
   "cell_type": "code",
   "execution_count": 191,
   "id": "ab2fe98d",
   "metadata": {},
   "outputs": [
    {
     "name": "stdout",
     "output_type": "stream",
     "text": [
      "default      0     1\n",
      "GENDER              \n",
      "1         9015  2873\n",
      "2        14349  3763\n"
     ]
    }
   ],
   "source": [
    "x = pd.crosstab(dataset['GENDER'], dataset['default'])\n",
    "print(x)"
   ]
  },
  {
   "cell_type": "code",
   "execution_count": 192,
   "id": "232bff50",
   "metadata": {},
   "outputs": [
    {
     "data": {
      "text/plain": [
       "<AxesSubplot:xlabel='GENDER', ylabel='count'>"
      ]
     },
     "execution_count": 192,
     "metadata": {},
     "output_type": "execute_result"
    },
    {
     "data": {
      "image/png": "[encoded data removed]",
      "text/plain": [
       "<Figure size 432x288 with 1 Axes>"
      ]
     },
     "metadata": {
      "needs_background": "light"
     },
     "output_type": "display_data"
    }
   ],
   "source": [
    "sns.countplot(x='GENDER', data=dataset,hue=\"default\")"
   ]
  },
  {
   "cell_type": "code",
   "execution_count": 193,
   "id": "e44528a5",
   "metadata": {},
   "outputs": [
    {
     "data": {
      "text/plain": [
       "<AxesSubplot:xlabel='GENDER', ylabel='LIMIT_BAL'>"
      ]
     },
     "execution_count": 193,
     "metadata": {},
     "output_type": "execute_result"
    },
    {
     "data": {
      "image/png": "[encoded data removed]",
      "text/plain": [
       "<Figure size 432x288 with 1 Axes>"
      ]
     },
     "metadata": {
      "needs_background": "light"
     },
     "output_type": "display_data"
    }
   ],
   "source": [
    "sns.boxplot(x='GENDER',hue='default', y='LIMIT_BAL', data=dataset)"
   ]
  },
  {
   "cell_type": "code",
   "execution_count": 194,
   "id": "b992358d",
   "metadata": {
    "scrolled": false
   },
   "outputs": [
    {
     "data": {
      "image/png": "[encoded data removed]",
      "text/plain": [
       "<Figure size 720x288 with 2 Axes>"
      ]
     },
     "metadata": {
      "needs_background": "light"
     },
     "output_type": "display_data"
    }
   ],
   "source": [
    "plt.figure(figsize=(10, 4))\n",
    "plt.subplot(1, 2, 2)\n",
    "plt.hist(dataset_default['GENDER'], bins=3, color='orange')\n",
    "plt.title('Default')\n",
    "plt.xlabel('GENDER')\n",
    "plt.ylabel('Frequency')\n",
    "\n",
    "plt.subplot(1, 2, 1)\n",
    "plt.hist(dataset_no_default['GENDER'], bins=3, color='blue')\n",
    "plt.title('No Default')\n",
    "plt.xlabel('GENDER')\n",
    "plt.ylabel('Frequency')\n",
    "plt.tight_layout()\n",
    "plt.show()"
   ]
  },
  {
   "cell_type": "markdown",
   "id": "68fe4ace",
   "metadata": {},
   "source": [
    "H0: prop1 - prop2 - value = 0\n",
    "H1: prop1 - prop2 - value != 0"
   ]
  },
  {
   "cell_type": "code",
   "execution_count": 195,
   "id": "ee87cd42",
   "metadata": {},
   "outputs": [
    {
     "name": "stdout",
     "output_type": "stream",
     "text": [
      "Wald's interval: (0.03363493274962867, 0.060548077974896725)\n"
     ]
    }
   ],
   "source": [
    "print(\"Wald's interval:\",\n",
    "      confint_proportions_2indep(\n",
    "          dataset_default[dataset_default['GENDER'] == 1].shape[0],\n",
    "          dataset_default.shape[0],\n",
    "          dataset_no_default[dataset_no_default['GENDER'] == 1].shape[0],\n",
    "          dataset_no_default.shape[0],\n",
    "          method = 'wald', compare='diff'))"
   ]
  },
  {
   "cell_type": "code",
   "execution_count": 196,
   "id": "325b49c8",
   "metadata": {},
   "outputs": [
    {
     "name": "stdout",
     "output_type": "stream",
     "text": [
      "p-value:  6.9379488648039966e-12\n",
      "Reject H0\n"
     ]
    }
   ],
   "source": [
    "stat, p = test_proportions_2indep(\n",
    "    dataset_default[dataset_default['GENDER'] == 1].shape[0],\n",
    "    dataset_default.shape[0],\n",
    "    dataset_no_default[dataset_no_default['GENDER'] == 1].shape[0],\n",
    "    dataset_no_default.shape[0],\n",
    "    alternative = 'two-sided',\n",
    "    compare='diff',\n",
    "    method = 'Wald',  return_results=False)\n",
    "\n",
    "print(\"p-value: \", p)\n",
    "if p < 0.025:\n",
    "    print(\"Reject H0\")\n",
    "else:\n",
    "    print(\"Cannot reject H0\")"
   ]
  },
  {
   "cell_type": "markdown",
   "id": "f19d7ed8",
   "metadata": {},
   "source": [
    "Males often have a default than women's."
   ]
  },
  {
   "cell_type": "markdown",
   "id": "43cf5d7a",
   "metadata": {},
   "source": [
    "## 3. Education: test whether education levels differs between two groups. If it does, then how exactly?"
   ]
  },
  {
   "cell_type": "markdown",
   "id": "f3b85943",
   "metadata": {},
   "source": [
    "EDUCATION: 0 = doctorate, 1 = masters; 2 = bachelor; 3 = school graduate; 4 = elementary education; 5= other; 6 = no data."
   ]
  },
  {
   "cell_type": "code",
   "execution_count": 197,
   "id": "934926fc",
   "metadata": {},
   "outputs": [
    {
     "data": {
      "text/plain": [
       "<AxesSubplot:xlabel='EDUCATION', ylabel='LIMIT_BAL'>"
      ]
     },
     "execution_count": 197,
     "metadata": {},
     "output_type": "execute_result"
    },
    {
     "data": {
      "image/png": "[encoded data removed]",
      "text/plain": [
       "<Figure size 432x288 with 1 Axes>"
      ]
     },
     "metadata": {
      "needs_background": "light"
     },
     "output_type": "display_data"
    }
   ],
   "source": [
    "sns.boxplot(x='EDUCATION',hue='default', y='LIMIT_BAL',data=dataset)"
   ]
  },
  {
   "cell_type": "code",
   "execution_count": 198,
   "id": "d12b16b9",
   "metadata": {},
   "outputs": [
    {
     "data": {
      "image/png": "[encoded data removed]",
      "text/plain": [
       "<Figure size 432x288 with 1 Axes>"
      ]
     },
     "metadata": {
      "needs_background": "light"
     },
     "output_type": "display_data"
    }
   ],
   "source": [
    "g=sns.countplot(x=\"EDUCATION\", data=dataset,hue=\"default\", palette=\"muted\")"
   ]
  },
  {
   "cell_type": "code",
   "execution_count": 199,
   "id": "110b951c",
   "metadata": {},
   "outputs": [
    {
     "name": "stdout",
     "output_type": "stream",
     "text": [
      "default        0     1\n",
      "EDUCATION             \n",
      "0             14     0\n",
      "1           8549  2036\n",
      "2          10700  3330\n",
      "3           3680  1237\n",
      "4            116     7\n",
      "5            262    18\n",
      "6             43     8\n"
     ]
    }
   ],
   "source": [
    "x = pd.crosstab(dataset['EDUCATION'], dataset['default'])\n",
    "print(x)"
   ]
  },
  {
   "cell_type": "code",
   "execution_count": 200,
   "id": "9a9b7bca",
   "metadata": {},
   "outputs": [
    {
     "name": "stdout",
     "output_type": "stream",
     "text": [
      "(163.21655786997073, 1.2332626245415605e-32, 6, array([[1.0903200e+01, 3.0968000e+00],\n",
      "       [8.2435980e+03, 2.3414020e+03],\n",
      "       [1.0926564e+04, 3.1034360e+03],\n",
      "       [3.8293596e+03, 1.0876404e+03],\n",
      "       [9.5792400e+01, 2.7207600e+01],\n",
      "       [2.1806400e+02, 6.1936000e+01],\n",
      "       [3.9718800e+01, 1.1281200e+01]]))\n"
     ]
    }
   ],
   "source": [
    "print(stats.chi2_contingency(pd.crosstab(dataset['EDUCATION'], dataset['default'])))"
   ]
  },
  {
   "cell_type": "code",
   "execution_count": 201,
   "id": "a4ba07a7",
   "metadata": {},
   "outputs": [
    {
     "name": "stdout",
     "output_type": "stream",
     "text": [
      "p-value: 1.2332626245415605e-32\n"
     ]
    }
   ],
   "source": [
    "stat, p, dof, expected = stats.chi2_contingency(pd.crosstab(dataset['EDUCATION'], dataset['default']))\n",
    "print('p-value:', p)"
   ]
  },
  {
   "cell_type": "markdown",
   "id": "b6e6b3d1",
   "metadata": {},
   "source": [
    "If the p-value is less than a significance level (usually 0.05), then you can reject the null hypothesis and conclude that there is a significant association between education level and default status. This means that the education levels differ between the two groups of credit card holders."
   ]
  },
  {
   "cell_type": "code",
   "execution_count": 202,
   "id": "93315420",
   "metadata": {
    "scrolled": true
   },
   "outputs": [
    {
     "name": "stdout",
     "output_type": "stream",
     "text": [
      "Pearson residuals for EDUCATION [[1.0903200e+01 3.0968000e+00]\n",
      " [8.2435980e+03 2.3414020e+03]\n",
      " [1.0926564e+04 3.1034360e+03]\n",
      " [3.8293596e+03 1.0876404e+03]\n",
      " [9.5792400e+01 2.7207600e+01]\n",
      " [2.1806400e+02 6.1936000e+01]\n",
      " [3.9718800e+01 1.1281200e+01]]\n"
     ]
    }
   ],
   "source": [
    "print('Pearson residuals for EDUCATION', stats.chi2_contingency(x, correction=False)[3])"
   ]
  },
  {
   "cell_type": "markdown",
   "id": "8fca974a",
   "metadata": {},
   "source": [
    "With increasing levels of higher education defaults observed less often."
   ]
  },
  {
   "cell_type": "markdown",
   "id": "f8f1169f",
   "metadata": {},
   "source": [
    "## 4. Marital status: Check how marital status is related to the default indicator: you need to propose a measure by which you can measure the possible relationship of these variables and calculate its value."
   ]
  },
  {
   "cell_type": "markdown",
   "id": "0d1a4022",
   "metadata": {},
   "source": [
    "MARITAL: marital status: 0 = no answer; 1 = married; 2 = single; 3 = no data."
   ]
  },
  {
   "cell_type": "code",
   "execution_count": 203,
   "id": "3b26a1d7",
   "metadata": {},
   "outputs": [
    {
     "data": {
      "text/plain": [
       "<AxesSubplot:xlabel='MARITAL', ylabel='LIMIT_BAL'>"
      ]
     },
     "execution_count": 203,
     "metadata": {},
     "output_type": "execute_result"
    },
    {
     "data": {
      "image/png": "[encoded data removed]",
      "text/plain": [
       "<Figure size 432x288 with 1 Axes>"
      ]
     },
     "metadata": {
      "needs_background": "light"
     },
     "output_type": "display_data"
    }
   ],
   "source": [
    "sns.boxplot(x='MARITAL',hue='default', y='LIMIT_BAL',data=dataset)"
   ]
  },
  {
   "cell_type": "code",
   "execution_count": 204,
   "id": "fca1d273",
   "metadata": {},
   "outputs": [
    {
     "data": {
      "image/png": "[encoded data removed]",
      "text/plain": [
       "<Figure size 432x288 with 1 Axes>"
      ]
     },
     "metadata": {
      "needs_background": "light"
     },
     "output_type": "display_data"
    }
   ],
   "source": [
    "g=sns.countplot(x=\"MARITAL\", data=dataset,hue=\"default\", palette=\"muted\")"
   ]
  },
  {
   "cell_type": "code",
   "execution_count": 205,
   "id": "ad6cd90e",
   "metadata": {},
   "outputs": [
    {
     "name": "stdout",
     "output_type": "stream",
     "text": [
      "default      0     1\n",
      "MARITAL             \n",
      "0           49     5\n",
      "1        10453  3206\n",
      "2        12623  3341\n",
      "3          239    84\n"
     ]
    }
   ],
   "source": [
    "x = pd.crosstab(dataset['MARITAL'], dataset['default'])\n",
    "print(x)"
   ]
  },
  {
   "cell_type": "code",
   "execution_count": 206,
   "id": "2bfdee17",
   "metadata": {},
   "outputs": [
    {
     "name": "stdout",
     "output_type": "stream",
     "text": [
      "(35.66239583433609, 8.825862457577375e-08, 3, array([[4.20552000e+01, 1.19448000e+01],\n",
      "       [1.06376292e+04, 3.02137080e+03],\n",
      "       [1.24327632e+04, 3.53123680e+03],\n",
      "       [2.51552400e+02, 7.14476000e+01]]))\n"
     ]
    }
   ],
   "source": [
    "print(stats.chi2_contingency(pd.crosstab(dataset['MARITAL'], dataset['default'])))"
   ]
  },
  {
   "cell_type": "code",
   "execution_count": 207,
   "id": "a9a2f9c6",
   "metadata": {},
   "outputs": [
    {
     "name": "stdout",
     "output_type": "stream",
     "text": [
      "p-value: 8.825862457577375e-08\n"
     ]
    }
   ],
   "source": [
    "stat, p, dof, expected = stats.chi2_contingency(pd.crosstab(dataset['MARITAL'], dataset['default']))\n",
    "print('p-value:', p)"
   ]
  },
  {
   "cell_type": "code",
   "execution_count": 208,
   "id": "96ef26be",
   "metadata": {},
   "outputs": [
    {
     "name": "stdout",
     "output_type": "stream",
     "text": [
      "Pearson residuals for EDUCATION [[4.20552000e+01 1.19448000e+01]\n",
      " [1.06376292e+04 3.02137080e+03]\n",
      " [1.24327632e+04 3.53123680e+03]\n",
      " [2.51552400e+02 7.14476000e+01]]\n"
     ]
    }
   ],
   "source": [
    "print('Pearson residuals for EDUCATION', stats.chi2_contingency(x, correction=False)[3])"
   ]
  },
  {
   "cell_type": "markdown",
   "id": "2ad5bb9e",
   "metadata": {},
   "source": [
    "Married peoples more offen have a default."
   ]
  },
  {
   "cell_type": "markdown",
   "id": "40ba5c82",
   "metadata": {},
   "source": [
    "## 5. Age: test whether there are differences between mean ages of clients in two groups."
   ]
  },
  {
   "cell_type": "code",
   "execution_count": 209,
   "id": "5ee6a4d6",
   "metadata": {},
   "outputs": [
    {
     "data": {
      "text/plain": [
       "<AxesSubplot:xlabel='default', ylabel='AGE'>"
      ]
     },
     "execution_count": 209,
     "metadata": {},
     "output_type": "execute_result"
    },
    {
     "data": {
      "image/png": "[encoded data removed]",
      "text/plain": [
       "<Figure size 432x288 with 1 Axes>"
      ]
     },
     "metadata": {
      "needs_background": "light"
     },
     "output_type": "display_data"
    }
   ],
   "source": [
    "sns.boxplot(x='default', y='AGE',data=dataset)"
   ]
  },
  {
   "cell_type": "code",
   "execution_count": 210,
   "id": "aafbae6b",
   "metadata": {
    "scrolled": true
   },
   "outputs": [
    {
     "name": "stderr",
     "output_type": "stream",
     "text": [
      "C:\\ProgramData\\Anaconda3\\lib\\site-packages\\seaborn\\distributions.py:2619: FutureWarning: `distplot` is a deprecated function and will be removed in a future version. Please adapt your code to use either `displot` (a figure-level function with similar flexibility) or `histplot` (an axes-level function for histograms).\n",
      "  warnings.warn(msg, FutureWarning)\n"
     ]
    },
    {
     "data": {
      "text/plain": [
       "<AxesSubplot:xlabel='AGE', ylabel='Density'>"
      ]
     },
     "execution_count": 210,
     "metadata": {},
     "output_type": "execute_result"
    },
    {
     "data": {
      "image/png": "[encoded data removed]",
      "text/plain": [
       "<Figure size 432x288 with 1 Axes>"
      ]
     },
     "metadata": {
      "needs_background": "light"
     },
     "output_type": "display_data"
    }
   ],
   "source": [
    "sns.distplot(dataset_no_default['AGE'],kde=True,bins=30, color='blue')"
   ]
  },
  {
   "cell_type": "code",
   "execution_count": 211,
   "id": "eca4b4fe",
   "metadata": {},
   "outputs": [
    {
     "name": "stderr",
     "output_type": "stream",
     "text": [
      "C:\\ProgramData\\Anaconda3\\lib\\site-packages\\seaborn\\distributions.py:2619: FutureWarning: `distplot` is a deprecated function and will be removed in a future version. Please adapt your code to use either `displot` (a figure-level function with similar flexibility) or `histplot` (an axes-level function for histograms).\n",
      "  warnings.warn(msg, FutureWarning)\n"
     ]
    },
    {
     "data": {
      "text/plain": [
       "<AxesSubplot:xlabel='AGE', ylabel='Density'>"
      ]
     },
     "execution_count": 211,
     "metadata": {},
     "output_type": "execute_result"
    },
    {
     "data": {
      "image/png": "[encoded data removed]",
      "text/plain": [
       "<Figure size 432x288 with 1 Axes>"
      ]
     },
     "metadata": {
      "needs_background": "light"
     },
     "output_type": "display_data"
    }
   ],
   "source": [
    "sns.distplot(dataset_default['AGE'],kde=True,bins=30, color='orange')"
   ]
  },
  {
   "cell_type": "code",
   "execution_count": 212,
   "id": "87c640fa",
   "metadata": {},
   "outputs": [],
   "source": [
    "data_age_d = dataset_default['AGE'].values\n",
    "data_age_nod = dataset_no_default['AGE'].values"
   ]
  },
  {
   "cell_type": "code",
   "execution_count": 213,
   "id": "b2c02e24",
   "metadata": {},
   "outputs": [
    {
     "name": "stdout",
     "output_type": "stream",
     "text": [
      "95% confidence interval for the Age for clients with default: [34. 35.]\n",
      "95% confidence interval for the Age for clients without default: [34. 34.]\n"
     ]
    }
   ],
   "source": [
    "np.random.seed(0)\n",
    "\n",
    "age_d_median = list(map(np.median, get_bootstrap_samples(data_age_d, 10000)))\n",
    "age_nod_median = list(map(np.median, get_bootstrap_samples(data_age_nod, 10000)))\n",
    "\n",
    "print(\"95% confidence interval for the Age for clients with default:\",  percentile_interval(age_d_median, 0.05))\n",
    "print(\"95% confidence interval for the Age for clients without default:\",  percentile_interval(age_nod_median, 0.05))"
   ]
  },
  {
   "cell_type": "code",
   "execution_count": 214,
   "id": "b6699690",
   "metadata": {},
   "outputs": [
    {
     "name": "stdout",
     "output_type": "stream",
     "text": [
      "Estimated difference between Age for non-default and default: 0.0\n"
     ]
    }
   ],
   "source": [
    "print(\"Estimated difference between Age for non-default and default:\", \n",
    "      np.median(data_age_nod) - np.median(data_age_d))"
   ]
  },
  {
   "cell_type": "code",
   "execution_count": 215,
   "id": "77a304dd",
   "metadata": {},
   "outputs": [
    {
     "name": "stdout",
     "output_type": "stream",
     "text": [
      "95% confidence interval for the difference between Age for non-default and default: [-1.  0.]\n"
     ]
    }
   ],
   "source": [
    "delta_median_scores = list(map(lambda x: x[1] - x[0], zip(age_d_median, age_nod_median)))\n",
    "print(\"95% confidence interval for the difference between Age for non-default and default:\",  \n",
    "      percentile_interval(delta_median_scores, 0.05))"
   ]
  },
  {
   "cell_type": "code",
   "execution_count": 216,
   "id": "4ff3d3f2",
   "metadata": {},
   "outputs": [
    {
     "name": "stdout",
     "output_type": "stream",
     "text": [
      "Statistics=78076624.5, p=0.37250\n",
      "Fail to reject H0\n"
     ]
    }
   ],
   "source": [
    "from scipy.stats import mannwhitneyu\n",
    "\n",
    "stat, p = mannwhitneyu(data_age_d, data_age_nod, method='asymptotic')\n",
    "print('Statistics=%.1f, p=%.5f' % (stat, p))\n",
    "alpha = 0.05\n",
    "if p < alpha:\n",
    "    print('Reject H0')\n",
    "else:\n",
    "    print('Fail to reject H0')"
   ]
  },
  {
   "cell_type": "markdown",
   "id": "2444aa23",
   "metadata": {},
   "source": [
    "So, there are no difference in the age between two grouprs."
   ]
  },
  {
   "cell_type": "code",
   "execution_count": null,
   "id": "ac2f9b92",
   "metadata": {},
   "outputs": [],
   "source": []
  }
 ],
 "metadata": {
  "kernelspec": {
   "display_name": "Python 3 (ipykernel)",
   "language": "python",
   "name": "python3"
  },
  "language_info": {
   "codemirror_mode": {
    "name": "ipython",
    "version": 3
   },
   "file_extension": ".py",
   "mimetype": "text/x-python",
   "name": "python",
   "nbconvert_exporter": "python",
   "pygments_lexer": "ipython3",
   "version": "3.9.12"
  }
 },
 "nbformat": 4,
 "nbformat_minor": 5
}
