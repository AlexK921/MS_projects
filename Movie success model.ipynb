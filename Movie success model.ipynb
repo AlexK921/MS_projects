{
 "cells": [
  {
   "cell_type": "markdown",
   "metadata": {},
   "source": [
    "# Movie success model"
   ]
  },
  {
   "cell_type": "code",
   "execution_count": 1,
   "metadata": {},
   "outputs": [],
   "source": [
    "import numpy as np\n",
    "import pandas as pd"
   ]
  },
  {
   "cell_type": "markdown",
   "metadata": {},
   "source": [
    "This is a template for your final project. "
   ]
  },
  {
   "cell_type": "code",
   "execution_count": 2,
   "metadata": {},
   "outputs": [],
   "source": [
    "import seaborn as sns\n",
    "import matplotlib.pyplot as plt\n",
    "import warnings\n",
    "warnings.filterwarnings('ignore')"
   ]
  },
  {
   "cell_type": "code",
   "execution_count": 3,
   "metadata": {},
   "outputs": [
    {
     "data": {
      "text/html": [
       "<div>\n",
       "<style scoped>\n",
       "    .dataframe tbody tr th:only-of-type {\n",
       "        vertical-align: middle;\n",
       "    }\n",
       "\n",
       "    .dataframe tbody tr th {\n",
       "        vertical-align: top;\n",
       "    }\n",
       "\n",
       "    .dataframe thead th {\n",
       "        text-align: right;\n",
       "    }\n",
       "</style>\n",
       "<table border=\"1\" class=\"dataframe\">\n",
       "  <thead>\n",
       "    <tr style=\"text-align: right;\">\n",
       "      <th></th>\n",
       "      <th>imdb_title_id</th>\n",
       "      <th>title</th>\n",
       "      <th>original_title</th>\n",
       "      <th>year</th>\n",
       "      <th>date_published</th>\n",
       "      <th>genre</th>\n",
       "      <th>duration</th>\n",
       "      <th>country</th>\n",
       "      <th>language</th>\n",
       "      <th>director</th>\n",
       "      <th>...</th>\n",
       "      <th>actors</th>\n",
       "      <th>description</th>\n",
       "      <th>avg_vote</th>\n",
       "      <th>votes</th>\n",
       "      <th>budget</th>\n",
       "      <th>usa_gross_income</th>\n",
       "      <th>worlwide_gross_income</th>\n",
       "      <th>metascore</th>\n",
       "      <th>reviews_from_users</th>\n",
       "      <th>reviews_from_critics</th>\n",
       "    </tr>\n",
       "  </thead>\n",
       "  <tbody>\n",
       "    <tr>\n",
       "      <th>0</th>\n",
       "      <td>tt0000574</td>\n",
       "      <td>The Story of the Kelly Gang</td>\n",
       "      <td>The Story of the Kelly Gang</td>\n",
       "      <td>1906</td>\n",
       "      <td>1906-12-26</td>\n",
       "      <td>Biography, Crime, Drama</td>\n",
       "      <td>70</td>\n",
       "      <td>Australia</td>\n",
       "      <td>NaN</td>\n",
       "      <td>Charles Tait</td>\n",
       "      <td>...</td>\n",
       "      <td>Elizabeth Tait, John Tait, Norman Campbell, Be...</td>\n",
       "      <td>True story of notorious Australian outlaw Ned ...</td>\n",
       "      <td>6.1</td>\n",
       "      <td>537</td>\n",
       "      <td>$ 2250</td>\n",
       "      <td>NaN</td>\n",
       "      <td>NaN</td>\n",
       "      <td>NaN</td>\n",
       "      <td>7.0</td>\n",
       "      <td>7.0</td>\n",
       "    </tr>\n",
       "    <tr>\n",
       "      <th>1</th>\n",
       "      <td>tt0001892</td>\n",
       "      <td>Den sorte drøm</td>\n",
       "      <td>Den sorte drøm</td>\n",
       "      <td>1911</td>\n",
       "      <td>1911-08-19</td>\n",
       "      <td>Drama</td>\n",
       "      <td>53</td>\n",
       "      <td>Germany, Denmark</td>\n",
       "      <td>NaN</td>\n",
       "      <td>Urban Gad</td>\n",
       "      <td>...</td>\n",
       "      <td>Asta Nielsen, Valdemar Psilander, Gunnar Helse...</td>\n",
       "      <td>Two men of high rank are both wooing the beaut...</td>\n",
       "      <td>5.9</td>\n",
       "      <td>171</td>\n",
       "      <td>NaN</td>\n",
       "      <td>NaN</td>\n",
       "      <td>NaN</td>\n",
       "      <td>NaN</td>\n",
       "      <td>4.0</td>\n",
       "      <td>2.0</td>\n",
       "    </tr>\n",
       "    <tr>\n",
       "      <th>2</th>\n",
       "      <td>tt0002101</td>\n",
       "      <td>Cleopatra</td>\n",
       "      <td>Cleopatra</td>\n",
       "      <td>1912</td>\n",
       "      <td>1912-11-13</td>\n",
       "      <td>Drama, History</td>\n",
       "      <td>100</td>\n",
       "      <td>USA</td>\n",
       "      <td>English</td>\n",
       "      <td>Charles L. Gaskill</td>\n",
       "      <td>...</td>\n",
       "      <td>Helen Gardner, Pearl Sindelar, Miss Fielding, ...</td>\n",
       "      <td>The fabled queen of Egypt's affair with Roman ...</td>\n",
       "      <td>5.2</td>\n",
       "      <td>420</td>\n",
       "      <td>$ 45000</td>\n",
       "      <td>NaN</td>\n",
       "      <td>NaN</td>\n",
       "      <td>NaN</td>\n",
       "      <td>24.0</td>\n",
       "      <td>3.0</td>\n",
       "    </tr>\n",
       "  </tbody>\n",
       "</table>\n",
       "<p>3 rows × 22 columns</p>\n",
       "</div>"
      ],
      "text/plain": [
       "  imdb_title_id                        title               original_title  \\\n",
       "0     tt0000574  The Story of the Kelly Gang  The Story of the Kelly Gang   \n",
       "1     tt0001892               Den sorte drøm               Den sorte drøm   \n",
       "2     tt0002101                    Cleopatra                    Cleopatra   \n",
       "\n",
       "   year date_published                    genre  duration           country  \\\n",
       "0  1906     1906-12-26  Biography, Crime, Drama        70         Australia   \n",
       "1  1911     1911-08-19                    Drama        53  Germany, Denmark   \n",
       "2  1912     1912-11-13           Drama, History       100               USA   \n",
       "\n",
       "  language            director  ...  \\\n",
       "0      NaN        Charles Tait  ...   \n",
       "1      NaN           Urban Gad  ...   \n",
       "2  English  Charles L. Gaskill  ...   \n",
       "\n",
       "                                              actors  \\\n",
       "0  Elizabeth Tait, John Tait, Norman Campbell, Be...   \n",
       "1  Asta Nielsen, Valdemar Psilander, Gunnar Helse...   \n",
       "2  Helen Gardner, Pearl Sindelar, Miss Fielding, ...   \n",
       "\n",
       "                                         description avg_vote votes   budget  \\\n",
       "0  True story of notorious Australian outlaw Ned ...      6.1   537   $ 2250   \n",
       "1  Two men of high rank are both wooing the beaut...      5.9   171      NaN   \n",
       "2  The fabled queen of Egypt's affair with Roman ...      5.2   420  $ 45000   \n",
       "\n",
       "   usa_gross_income worlwide_gross_income metascore reviews_from_users  \\\n",
       "0               NaN                   NaN       NaN                7.0   \n",
       "1               NaN                   NaN       NaN                4.0   \n",
       "2               NaN                   NaN       NaN               24.0   \n",
       "\n",
       "   reviews_from_critics  \n",
       "0                   7.0  \n",
       "1                   2.0  \n",
       "2                   3.0  \n",
       "\n",
       "[3 rows x 22 columns]"
      ]
     },
     "execution_count": 3,
     "metadata": {},
     "output_type": "execute_result"
    }
   ],
   "source": [
    "full_dataset = pd.read_csv('IMDb movies.csv')\n",
    "full_dataset.head(3)"
   ]
  },
  {
   "cell_type": "markdown",
   "metadata": {},
   "source": [
    "## Part 1.\n",
    "\n",
    "## Task formalization and Evaluation criteria\n",
    "\n",
    "### 1.1 Select your target variable, explain your choice. Separate target variable from the feature matrix."
   ]
  },
  {
   "cell_type": "markdown",
   "metadata": {},
   "source": [
    "Let's dive a litle bit deeper to the data to chouse target variable. "
   ]
  },
  {
   "cell_type": "code",
   "execution_count": 5,
   "metadata": {
    "scrolled": false
   },
   "outputs": [
    {
     "data": {
      "text/html": [
       "<div>\n",
       "<style scoped>\n",
       "    .dataframe tbody tr th:only-of-type {\n",
       "        vertical-align: middle;\n",
       "    }\n",
       "\n",
       "    .dataframe tbody tr th {\n",
       "        vertical-align: top;\n",
       "    }\n",
       "\n",
       "    .dataframe thead th {\n",
       "        text-align: right;\n",
       "    }\n",
       "</style>\n",
       "<table border=\"1\" class=\"dataframe\">\n",
       "  <thead>\n",
       "    <tr style=\"text-align: right;\">\n",
       "      <th></th>\n",
       "      <th>imdb_title_id</th>\n",
       "      <th>title</th>\n",
       "      <th>original_title</th>\n",
       "      <th>year</th>\n",
       "      <th>date_published</th>\n",
       "      <th>genre</th>\n",
       "      <th>duration</th>\n",
       "      <th>country</th>\n",
       "      <th>language</th>\n",
       "      <th>director</th>\n",
       "      <th>...</th>\n",
       "      <th>actors</th>\n",
       "      <th>description</th>\n",
       "      <th>avg_vote</th>\n",
       "      <th>votes</th>\n",
       "      <th>budget</th>\n",
       "      <th>usa_gross_income</th>\n",
       "      <th>worlwide_gross_income</th>\n",
       "      <th>metascore</th>\n",
       "      <th>reviews_from_users</th>\n",
       "      <th>reviews_from_critics</th>\n",
       "    </tr>\n",
       "  </thead>\n",
       "  <tbody>\n",
       "    <tr>\n",
       "      <th>0</th>\n",
       "      <td>tt0000574</td>\n",
       "      <td>The Story of the Kelly Gang</td>\n",
       "      <td>The Story of the Kelly Gang</td>\n",
       "      <td>1906</td>\n",
       "      <td>1906-12-26</td>\n",
       "      <td>Biography, Crime, Drama</td>\n",
       "      <td>70</td>\n",
       "      <td>Australia</td>\n",
       "      <td>NaN</td>\n",
       "      <td>Charles Tait</td>\n",
       "      <td>...</td>\n",
       "      <td>Elizabeth Tait, John Tait, Norman Campbell, Be...</td>\n",
       "      <td>True story of notorious Australian outlaw Ned ...</td>\n",
       "      <td>6.1</td>\n",
       "      <td>537</td>\n",
       "      <td>$ 2250</td>\n",
       "      <td>NaN</td>\n",
       "      <td>NaN</td>\n",
       "      <td>NaN</td>\n",
       "      <td>7.0</td>\n",
       "      <td>7.0</td>\n",
       "    </tr>\n",
       "    <tr>\n",
       "      <th>1</th>\n",
       "      <td>tt0001892</td>\n",
       "      <td>Den sorte drøm</td>\n",
       "      <td>Den sorte drøm</td>\n",
       "      <td>1911</td>\n",
       "      <td>1911-08-19</td>\n",
       "      <td>Drama</td>\n",
       "      <td>53</td>\n",
       "      <td>Germany, Denmark</td>\n",
       "      <td>NaN</td>\n",
       "      <td>Urban Gad</td>\n",
       "      <td>...</td>\n",
       "      <td>Asta Nielsen, Valdemar Psilander, Gunnar Helse...</td>\n",
       "      <td>Two men of high rank are both wooing the beaut...</td>\n",
       "      <td>5.9</td>\n",
       "      <td>171</td>\n",
       "      <td>NaN</td>\n",
       "      <td>NaN</td>\n",
       "      <td>NaN</td>\n",
       "      <td>NaN</td>\n",
       "      <td>4.0</td>\n",
       "      <td>2.0</td>\n",
       "    </tr>\n",
       "    <tr>\n",
       "      <th>2</th>\n",
       "      <td>tt0002101</td>\n",
       "      <td>Cleopatra</td>\n",
       "      <td>Cleopatra</td>\n",
       "      <td>1912</td>\n",
       "      <td>1912-11-13</td>\n",
       "      <td>Drama, History</td>\n",
       "      <td>100</td>\n",
       "      <td>USA</td>\n",
       "      <td>English</td>\n",
       "      <td>Charles L. Gaskill</td>\n",
       "      <td>...</td>\n",
       "      <td>Helen Gardner, Pearl Sindelar, Miss Fielding, ...</td>\n",
       "      <td>The fabled queen of Egypt's affair with Roman ...</td>\n",
       "      <td>5.2</td>\n",
       "      <td>420</td>\n",
       "      <td>$ 45000</td>\n",
       "      <td>NaN</td>\n",
       "      <td>NaN</td>\n",
       "      <td>NaN</td>\n",
       "      <td>24.0</td>\n",
       "      <td>3.0</td>\n",
       "    </tr>\n",
       "    <tr>\n",
       "      <th>3</th>\n",
       "      <td>tt0002130</td>\n",
       "      <td>L'Inferno</td>\n",
       "      <td>L'Inferno</td>\n",
       "      <td>1911</td>\n",
       "      <td>1911-03-06</td>\n",
       "      <td>Adventure, Drama, Fantasy</td>\n",
       "      <td>68</td>\n",
       "      <td>Italy</td>\n",
       "      <td>Italian</td>\n",
       "      <td>Francesco Bertolini, Adolfo Padovan</td>\n",
       "      <td>...</td>\n",
       "      <td>Salvatore Papa, Arturo Pirovano, Giuseppe de L...</td>\n",
       "      <td>Loosely adapted from Dante's Divine Comedy and...</td>\n",
       "      <td>7.0</td>\n",
       "      <td>2019</td>\n",
       "      <td>NaN</td>\n",
       "      <td>NaN</td>\n",
       "      <td>NaN</td>\n",
       "      <td>NaN</td>\n",
       "      <td>28.0</td>\n",
       "      <td>14.0</td>\n",
       "    </tr>\n",
       "    <tr>\n",
       "      <th>4</th>\n",
       "      <td>tt0002199</td>\n",
       "      <td>From the Manger to the Cross; or, Jesus of Naz...</td>\n",
       "      <td>From the Manger to the Cross; or, Jesus of Naz...</td>\n",
       "      <td>1912</td>\n",
       "      <td>1913</td>\n",
       "      <td>Biography, Drama</td>\n",
       "      <td>60</td>\n",
       "      <td>USA</td>\n",
       "      <td>English</td>\n",
       "      <td>Sidney Olcott</td>\n",
       "      <td>...</td>\n",
       "      <td>R. Henderson Bland, Percy Dyer, Gene Gauntier,...</td>\n",
       "      <td>An account of the life of Jesus Christ, based ...</td>\n",
       "      <td>5.7</td>\n",
       "      <td>438</td>\n",
       "      <td>NaN</td>\n",
       "      <td>NaN</td>\n",
       "      <td>NaN</td>\n",
       "      <td>NaN</td>\n",
       "      <td>12.0</td>\n",
       "      <td>5.0</td>\n",
       "    </tr>\n",
       "  </tbody>\n",
       "</table>\n",
       "<p>5 rows × 22 columns</p>\n",
       "</div>"
      ],
      "text/plain": [
       "  imdb_title_id                                              title  \\\n",
       "0     tt0000574                        The Story of the Kelly Gang   \n",
       "1     tt0001892                                     Den sorte drøm   \n",
       "2     tt0002101                                          Cleopatra   \n",
       "3     tt0002130                                          L'Inferno   \n",
       "4     tt0002199  From the Manger to the Cross; or, Jesus of Naz...   \n",
       "\n",
       "                                      original_title  year date_published  \\\n",
       "0                        The Story of the Kelly Gang  1906     1906-12-26   \n",
       "1                                     Den sorte drøm  1911     1911-08-19   \n",
       "2                                          Cleopatra  1912     1912-11-13   \n",
       "3                                          L'Inferno  1911     1911-03-06   \n",
       "4  From the Manger to the Cross; or, Jesus of Naz...  1912           1913   \n",
       "\n",
       "                       genre  duration           country language  \\\n",
       "0    Biography, Crime, Drama        70         Australia      NaN   \n",
       "1                      Drama        53  Germany, Denmark      NaN   \n",
       "2             Drama, History       100               USA  English   \n",
       "3  Adventure, Drama, Fantasy        68             Italy  Italian   \n",
       "4           Biography, Drama        60               USA  English   \n",
       "\n",
       "                              director  ...  \\\n",
       "0                         Charles Tait  ...   \n",
       "1                            Urban Gad  ...   \n",
       "2                   Charles L. Gaskill  ...   \n",
       "3  Francesco Bertolini, Adolfo Padovan  ...   \n",
       "4                        Sidney Olcott  ...   \n",
       "\n",
       "                                              actors  \\\n",
       "0  Elizabeth Tait, John Tait, Norman Campbell, Be...   \n",
       "1  Asta Nielsen, Valdemar Psilander, Gunnar Helse...   \n",
       "2  Helen Gardner, Pearl Sindelar, Miss Fielding, ...   \n",
       "3  Salvatore Papa, Arturo Pirovano, Giuseppe de L...   \n",
       "4  R. Henderson Bland, Percy Dyer, Gene Gauntier,...   \n",
       "\n",
       "                                         description avg_vote votes   budget  \\\n",
       "0  True story of notorious Australian outlaw Ned ...      6.1   537   $ 2250   \n",
       "1  Two men of high rank are both wooing the beaut...      5.9   171      NaN   \n",
       "2  The fabled queen of Egypt's affair with Roman ...      5.2   420  $ 45000   \n",
       "3  Loosely adapted from Dante's Divine Comedy and...      7.0  2019      NaN   \n",
       "4  An account of the life of Jesus Christ, based ...      5.7   438      NaN   \n",
       "\n",
       "   usa_gross_income worlwide_gross_income metascore reviews_from_users  \\\n",
       "0               NaN                   NaN       NaN                7.0   \n",
       "1               NaN                   NaN       NaN                4.0   \n",
       "2               NaN                   NaN       NaN               24.0   \n",
       "3               NaN                   NaN       NaN               28.0   \n",
       "4               NaN                   NaN       NaN               12.0   \n",
       "\n",
       "   reviews_from_critics  \n",
       "0                   7.0  \n",
       "1                   2.0  \n",
       "2                   3.0  \n",
       "3                  14.0  \n",
       "4                   5.0  \n",
       "\n",
       "[5 rows x 22 columns]"
      ]
     },
     "execution_count": 5,
     "metadata": {},
     "output_type": "execute_result"
    }
   ],
   "source": [
    "full_dataset.head(5)"
   ]
  },
  {
   "cell_type": "markdown",
   "metadata": {},
   "source": [
    "The target variables can be linked with popularity of Movie or commertial success of Movie.\n",
    "Criteria of popularity is scores as avg_vote or metascore. Commertial success is depends of budget and incomes, which mostly depends on box ofice. So, we will focus on core 'avg_vote'."
   ]
  },
  {
   "cell_type": "code",
   "execution_count": 6,
   "metadata": {},
   "outputs": [
    {
     "data": {
      "text/plain": [
       "imdb_title_id             object\n",
       "title                     object\n",
       "original_title            object\n",
       "year                       int64\n",
       "date_published            object\n",
       "genre                     object\n",
       "duration                   int64\n",
       "country                   object\n",
       "language                  object\n",
       "director                  object\n",
       "writer                    object\n",
       "production_company        object\n",
       "actors                    object\n",
       "description               object\n",
       "avg_vote                 float64\n",
       "votes                      int64\n",
       "budget                    object\n",
       "usa_gross_income          object\n",
       "worlwide_gross_income     object\n",
       "metascore                float64\n",
       "reviews_from_users       float64\n",
       "reviews_from_critics     float64\n",
       "dtype: object"
      ]
     },
     "execution_count": 6,
     "metadata": {},
     "output_type": "execute_result"
    }
   ],
   "source": [
    "full_dataset.dtypes"
   ]
  },
  {
   "cell_type": "code",
   "execution_count": 7,
   "metadata": {},
   "outputs": [
    {
     "name": "stdout",
     "output_type": "stream",
     "text": [
      "imdb_title_id                0\n",
      "title                        0\n",
      "original_title               0\n",
      "year                         0\n",
      "date_published               0\n",
      "genre                        0\n",
      "duration                     0\n",
      "country                      5\n",
      "language                   480\n",
      "director                    24\n",
      "writer                     808\n",
      "production_company        2744\n",
      "actors                      30\n",
      "description               1993\n",
      "avg_vote                     0\n",
      "votes                        0\n",
      "budget                   43379\n",
      "usa_gross_income         48306\n",
      "worlwide_gross_income    41062\n",
      "metascore                51386\n",
      "reviews_from_users        4069\n",
      "reviews_from_critics      8229\n",
      "dtype: int64\n"
     ]
    }
   ],
   "source": [
    "print(full_dataset.isna().sum())"
   ]
  },
  {
   "cell_type": "code",
   "execution_count": 8,
   "metadata": {
    "scrolled": false
   },
   "outputs": [
    {
     "data": {
      "text/plain": [
       "<AxesSubplot:>"
      ]
     },
     "execution_count": 8,
     "metadata": {},
     "output_type": "execute_result"
    },
    {
     "data": {
      "image/png": "[encoded data removed]",
      "text/plain": [
       "<Figure size 432x288 with 1 Axes>"
      ]
     },
     "metadata": {
      "needs_background": "light"
     },
     "output_type": "display_data"
    }
   ],
   "source": [
    "sns.heatmap(full_dataset.isna(), cbar=False)"
   ]
  },
  {
   "cell_type": "markdown",
   "metadata": {},
   "source": [
    "To identify 'Successful' movie we analyze 'avg_vote'."
   ]
  },
  {
   "cell_type": "code",
   "execution_count": 9,
   "metadata": {
    "scrolled": false
   },
   "outputs": [
    {
     "data": {
      "image/png": "[encoded data removed]",
      "text/plain": [
       "<Figure size 432x288 with 1 Axes>"
      ]
     },
     "metadata": {
      "needs_background": "light"
     },
     "output_type": "display_data"
    }
   ],
   "source": [
    "plt.boxplot(full_dataset['avg_vote'])\n",
    "plt.show()"
   ]
  },
  {
   "cell_type": "code",
   "execution_count": 10,
   "metadata": {},
   "outputs": [
    {
     "name": "stdout",
     "output_type": "stream",
     "text": [
      "count    60198.000000\n",
      "mean         5.997349\n",
      "std          1.199483\n",
      "min          1.000000\n",
      "25%          5.400000\n",
      "50%          6.200000\n",
      "75%          6.800000\n",
      "max         10.000000\n",
      "Name: avg_vote, dtype: float64\n"
     ]
    },
    {
     "data": {
      "image/png": "[encoded data removed]",
      "text/plain": [
       "<Figure size 432x288 with 1 Axes>"
      ]
     },
     "metadata": {
      "needs_background": "light"
     },
     "output_type": "display_data"
    }
   ],
   "source": [
    "print(full_dataset['avg_vote'].describe())\n",
    "plt.hist(full_dataset['avg_vote'], bins=20)\n",
    "plt.show()"
   ]
  },
  {
   "cell_type": "markdown",
   "metadata": {},
   "source": [
    " Median value is 6.2, mean = 5.99. \n",
    " Let's use Q75=6.8 value as a cutoff for successful movies. "
   ]
  },
  {
   "cell_type": "code",
   "execution_count": 28,
   "metadata": {},
   "outputs": [],
   "source": [
    "full_dataset = full_dataset[full_dataset['worlwide_gross_income'].notna()]\n",
    "full_dataset = full_dataset[full_dataset['usa_gross_income'].notna()]\n",
    "full_dataset = full_dataset[full_dataset['budget'].notna()]\n",
    "\n",
    "full_dataset['profit'] = full_dataset['worlwide_gross_income'] - full_dataset['budget']"
   ]
  },
  {
   "cell_type": "code",
   "execution_count": 29,
   "metadata": {},
   "outputs": [],
   "source": [
    "full_dataset['target']  = np.where(\n",
    "    ((full_dataset['avg_vote'] >= 6.8) & (full_dataset['votes'] > 100) &  (full_dataset['reviews_from_users'] > 0))\n",
    ", 1, 0)\n",
    "\n",
    "target = full_dataset.target\n",
    "\n",
    "feature_matrix = full_dataset.drop(['avg_vote',\n",
    "                                    'votes',\n",
    "                                    'reviews_from_users',\n",
    "                                    'reviews_from_critics'], axis=1)"
   ]
  },
  {
   "cell_type": "code",
   "execution_count": 30,
   "metadata": {},
   "outputs": [
    {
     "data": {
      "text/plain": [
       "count    6638.000000\n",
       "mean        0.363513\n",
       "std         0.481047\n",
       "min         0.000000\n",
       "25%         0.000000\n",
       "50%         0.000000\n",
       "75%         1.000000\n",
       "max         1.000000\n",
       "Name: target, dtype: float64"
      ]
     },
     "execution_count": 30,
     "metadata": {},
     "output_type": "execute_result"
    }
   ],
   "source": [
    "target.describe()"
   ]
  },
  {
   "cell_type": "code",
   "execution_count": 31,
   "metadata": {},
   "outputs": [
    {
     "data": {
      "text/html": [
       "<div>\n",
       "<style scoped>\n",
       "    .dataframe tbody tr th:only-of-type {\n",
       "        vertical-align: middle;\n",
       "    }\n",
       "\n",
       "    .dataframe tbody tr th {\n",
       "        vertical-align: top;\n",
       "    }\n",
       "\n",
       "    .dataframe thead th {\n",
       "        text-align: right;\n",
       "    }\n",
       "</style>\n",
       "<table border=\"1\" class=\"dataframe\">\n",
       "  <thead>\n",
       "    <tr style=\"text-align: right;\">\n",
       "      <th></th>\n",
       "      <th>imdb_title_id</th>\n",
       "      <th>title</th>\n",
       "      <th>original_title</th>\n",
       "      <th>year</th>\n",
       "      <th>date_published</th>\n",
       "      <th>genre</th>\n",
       "      <th>duration</th>\n",
       "      <th>country</th>\n",
       "      <th>language</th>\n",
       "      <th>director</th>\n",
       "      <th>writer</th>\n",
       "      <th>production_company</th>\n",
       "      <th>actors</th>\n",
       "      <th>description</th>\n",
       "      <th>budget</th>\n",
       "      <th>usa_gross_income</th>\n",
       "      <th>worlwide_gross_income</th>\n",
       "      <th>metascore</th>\n",
       "      <th>target</th>\n",
       "      <th>profit</th>\n",
       "    </tr>\n",
       "  </thead>\n",
       "  <tbody>\n",
       "    <tr>\n",
       "      <th>155</th>\n",
       "      <td>tt0010323</td>\n",
       "      <td>Das Cabinet des Dr. Caligari</td>\n",
       "      <td>Das Cabinet des Dr. Caligari</td>\n",
       "      <td>1920</td>\n",
       "      <td>1920-02-27</td>\n",
       "      <td>Fantasy, Horror, Mystery</td>\n",
       "      <td>76</td>\n",
       "      <td>Germany</td>\n",
       "      <td>German</td>\n",
       "      <td>Robert Wiene</td>\n",
       "      <td>Carl Mayer, Hans Janowitz</td>\n",
       "      <td>Decla-Bioscop AG</td>\n",
       "      <td>Werner Krauss, Conrad Veidt, Friedrich Feher, ...</td>\n",
       "      <td>Hypnotist Dr. Caligari uses a somnambulist, Ce...</td>\n",
       "      <td>18000.0</td>\n",
       "      <td>8811.0</td>\n",
       "      <td>8811.0</td>\n",
       "      <td>NaN</td>\n",
       "      <td>1</td>\n",
       "      <td>-9189.0</td>\n",
       "    </tr>\n",
       "    <tr>\n",
       "      <th>232</th>\n",
       "      <td>tt0012190</td>\n",
       "      <td>The Four Horsemen of the Apocalypse</td>\n",
       "      <td>The Four Horsemen of the Apocalypse</td>\n",
       "      <td>1921</td>\n",
       "      <td>1923-01-08</td>\n",
       "      <td>Drama, Romance, War</td>\n",
       "      <td>150</td>\n",
       "      <td>USA</td>\n",
       "      <td>NaN</td>\n",
       "      <td>Rex Ingram</td>\n",
       "      <td>Vicente Blasco Ibáñez, June Mathis</td>\n",
       "      <td>Metro Pictures Corporation</td>\n",
       "      <td>Pomeroy Cannon, Josef Swickard, Bridgetta Clar...</td>\n",
       "      <td>An extended family split up in France and Germ...</td>\n",
       "      <td>800000.0</td>\n",
       "      <td>9183673.0</td>\n",
       "      <td>9183673.0</td>\n",
       "      <td>NaN</td>\n",
       "      <td>1</td>\n",
       "      <td>8383673.0</td>\n",
       "    </tr>\n",
       "    <tr>\n",
       "      <th>488</th>\n",
       "      <td>tt0017136</td>\n",
       "      <td>Metropolis</td>\n",
       "      <td>Metropolis</td>\n",
       "      <td>1927</td>\n",
       "      <td>1927-02-06</td>\n",
       "      <td>Drama, Sci-Fi</td>\n",
       "      <td>153</td>\n",
       "      <td>Germany</td>\n",
       "      <td>German</td>\n",
       "      <td>Fritz Lang</td>\n",
       "      <td>Thea von Harbou, Thea von Harbou</td>\n",
       "      <td>Universum Film (UFA)</td>\n",
       "      <td>Alfred Abel, Gustav Fröhlich, Rudolf Klein-Rog...</td>\n",
       "      <td>In a futuristic city sharply divided between t...</td>\n",
       "      <td>6000000.0</td>\n",
       "      <td>1236166.0</td>\n",
       "      <td>1349711.0</td>\n",
       "      <td>98.0</td>\n",
       "      <td>1</td>\n",
       "      <td>-4650289.0</td>\n",
       "    </tr>\n",
       "    <tr>\n",
       "      <th>1005</th>\n",
       "      <td>tt0021749</td>\n",
       "      <td>City Lights</td>\n",
       "      <td>City Lights</td>\n",
       "      <td>1931</td>\n",
       "      <td>1931-08-21</td>\n",
       "      <td>Comedy, Drama, Romance</td>\n",
       "      <td>87</td>\n",
       "      <td>USA</td>\n",
       "      <td>English</td>\n",
       "      <td>Charles Chaplin</td>\n",
       "      <td>Charles Chaplin</td>\n",
       "      <td>Charles Chaplin Productions</td>\n",
       "      <td>Virginia Cherrill, Florence Lee, Harry Myers, ...</td>\n",
       "      <td>With the aid of a wealthy erratic tippler, a d...</td>\n",
       "      <td>1500000.0</td>\n",
       "      <td>19181.0</td>\n",
       "      <td>32609.0</td>\n",
       "      <td>99.0</td>\n",
       "      <td>1</td>\n",
       "      <td>-1467391.0</td>\n",
       "    </tr>\n",
       "    <tr>\n",
       "      <th>2336</th>\n",
       "      <td>tt0027977</td>\n",
       "      <td>Modern Times</td>\n",
       "      <td>Modern Times</td>\n",
       "      <td>1936</td>\n",
       "      <td>1936-10-16</td>\n",
       "      <td>Comedy, Drama, Family</td>\n",
       "      <td>87</td>\n",
       "      <td>USA</td>\n",
       "      <td>English</td>\n",
       "      <td>Charles Chaplin</td>\n",
       "      <td>Charles Chaplin</td>\n",
       "      <td>Charles Chaplin Productions</td>\n",
       "      <td>Charles Chaplin, Paulette Goddard, Henry Bergm...</td>\n",
       "      <td>The Tramp struggles to live in modern industri...</td>\n",
       "      <td>1500000.0</td>\n",
       "      <td>163577.0</td>\n",
       "      <td>445226.0</td>\n",
       "      <td>96.0</td>\n",
       "      <td>1</td>\n",
       "      <td>-1054774.0</td>\n",
       "    </tr>\n",
       "    <tr>\n",
       "      <th>...</th>\n",
       "      <td>...</td>\n",
       "      <td>...</td>\n",
       "      <td>...</td>\n",
       "      <td>...</td>\n",
       "      <td>...</td>\n",
       "      <td>...</td>\n",
       "      <td>...</td>\n",
       "      <td>...</td>\n",
       "      <td>...</td>\n",
       "      <td>...</td>\n",
       "      <td>...</td>\n",
       "      <td>...</td>\n",
       "      <td>...</td>\n",
       "      <td>...</td>\n",
       "      <td>...</td>\n",
       "      <td>...</td>\n",
       "      <td>...</td>\n",
       "      <td>...</td>\n",
       "      <td>...</td>\n",
       "      <td>...</td>\n",
       "    </tr>\n",
       "    <tr>\n",
       "      <th>60112</th>\n",
       "      <td>tt1828959</td>\n",
       "      <td>Make Your Move</td>\n",
       "      <td>Make Your Move</td>\n",
       "      <td>2013</td>\n",
       "      <td>2014-04-17</td>\n",
       "      <td>Drama, Musical, Romance</td>\n",
       "      <td>110</td>\n",
       "      <td>South Korea, USA</td>\n",
       "      <td>English</td>\n",
       "      <td>Duane Adler</td>\n",
       "      <td>Duane Adler</td>\n",
       "      <td>CJ Entertainment</td>\n",
       "      <td>Derek Hough, BoA, Will Yun Lee, Wesley Jonatha...</td>\n",
       "      <td>A pair of star-crossed dancers in New York fin...</td>\n",
       "      <td>15000000.0</td>\n",
       "      <td>125106.0</td>\n",
       "      <td>1471106.0</td>\n",
       "      <td>40.0</td>\n",
       "      <td>0</td>\n",
       "      <td>-13528894.0</td>\n",
       "    </tr>\n",
       "    <tr>\n",
       "      <th>60117</th>\n",
       "      <td>tt1828995</td>\n",
       "      <td>La délicatesse</td>\n",
       "      <td>La délicatesse</td>\n",
       "      <td>2011</td>\n",
       "      <td>2012-04-13</td>\n",
       "      <td>Comedy, Drama, Romance</td>\n",
       "      <td>108</td>\n",
       "      <td>France</td>\n",
       "      <td>French, Swedish</td>\n",
       "      <td>David Foenkinos, Stéphane Foenkinos</td>\n",
       "      <td>David Foenkinos, David Foenkinos</td>\n",
       "      <td>2.4.7. Films</td>\n",
       "      <td>Audrey Tautou, François Damiens, Bruno Todesch...</td>\n",
       "      <td>A French woman mourning over the death of her ...</td>\n",
       "      <td>7000000.0</td>\n",
       "      <td>498584.0</td>\n",
       "      <td>9696204.0</td>\n",
       "      <td>53.0</td>\n",
       "      <td>0</td>\n",
       "      <td>2696204.0</td>\n",
       "    </tr>\n",
       "    <tr>\n",
       "      <th>60118</th>\n",
       "      <td>tt1829012</td>\n",
       "      <td>Passion</td>\n",
       "      <td>Passion</td>\n",
       "      <td>2012</td>\n",
       "      <td>2013-02-13</td>\n",
       "      <td>Drama, Mystery, Thriller</td>\n",
       "      <td>102</td>\n",
       "      <td>France, Germany</td>\n",
       "      <td>English, German</td>\n",
       "      <td>Brian De Palma</td>\n",
       "      <td>Brian De Palma, Natalie Carter</td>\n",
       "      <td>SBS Productions</td>\n",
       "      <td>Rachel McAdams, Noomi Rapace, Karoline Herfurt...</td>\n",
       "      <td>The rivalry between the manipulative boss of a...</td>\n",
       "      <td>20000000.0</td>\n",
       "      <td>92181.0</td>\n",
       "      <td>713616.0</td>\n",
       "      <td>53.0</td>\n",
       "      <td>0</td>\n",
       "      <td>-19286384.0</td>\n",
       "    </tr>\n",
       "    <tr>\n",
       "      <th>60137</th>\n",
       "      <td>tt1831609</td>\n",
       "      <td>Cô dâu dai chien</td>\n",
       "      <td>Cô dâu dai chien</td>\n",
       "      <td>2011</td>\n",
       "      <td>2011-01-28</td>\n",
       "      <td>Comedy</td>\n",
       "      <td>100</td>\n",
       "      <td>Vietnam</td>\n",
       "      <td>Vietnamese</td>\n",
       "      <td>Victor Vu</td>\n",
       "      <td>Hong Phuc, Victor Vu</td>\n",
       "      <td>HKFilm</td>\n",
       "      <td>Ngoc Diep, Huy Khanh, Ngan Khanh, Khanh Le, Da...</td>\n",
       "      <td>In the heart of Saigon, Thai and Linh are gett...</td>\n",
       "      <td>500000.0</td>\n",
       "      <td>64572.0</td>\n",
       "      <td>64572.0</td>\n",
       "      <td>NaN</td>\n",
       "      <td>0</td>\n",
       "      <td>-435428.0</td>\n",
       "    </tr>\n",
       "    <tr>\n",
       "      <th>60145</th>\n",
       "      <td>tt1832382</td>\n",
       "      <td>Jodaeiye Nader az Simin</td>\n",
       "      <td>Jodaeiye Nader az Simin</td>\n",
       "      <td>2011</td>\n",
       "      <td>2011-03-16</td>\n",
       "      <td>Drama</td>\n",
       "      <td>123</td>\n",
       "      <td>Iran, France</td>\n",
       "      <td>Persian</td>\n",
       "      <td>Asghar Farhadi</td>\n",
       "      <td>Asghar Farhadi</td>\n",
       "      <td>Asghar Farhadi Productions</td>\n",
       "      <td>Payman Maadi, Leila Hatami, Sareh Bayat, Shaha...</td>\n",
       "      <td>A married couple are faced with a difficult de...</td>\n",
       "      <td>500000.0</td>\n",
       "      <td>7099055.0</td>\n",
       "      <td>19899055.0</td>\n",
       "      <td>95.0</td>\n",
       "      <td>1</td>\n",
       "      <td>19399055.0</td>\n",
       "    </tr>\n",
       "  </tbody>\n",
       "</table>\n",
       "<p>6638 rows × 20 columns</p>\n",
       "</div>"
      ],
      "text/plain": [
       "      imdb_title_id                                title  \\\n",
       "155       tt0010323         Das Cabinet des Dr. Caligari   \n",
       "232       tt0012190  The Four Horsemen of the Apocalypse   \n",
       "488       tt0017136                           Metropolis   \n",
       "1005      tt0021749                          City Lights   \n",
       "2336      tt0027977                         Modern Times   \n",
       "...             ...                                  ...   \n",
       "60112     tt1828959                       Make Your Move   \n",
       "60117     tt1828995                       La délicatesse   \n",
       "60118     tt1829012                              Passion   \n",
       "60137     tt1831609                     Cô dâu dai chien   \n",
       "60145     tt1832382              Jodaeiye Nader az Simin   \n",
       "\n",
       "                            original_title  year date_published  \\\n",
       "155           Das Cabinet des Dr. Caligari  1920     1920-02-27   \n",
       "232    The Four Horsemen of the Apocalypse  1921     1923-01-08   \n",
       "488                             Metropolis  1927     1927-02-06   \n",
       "1005                           City Lights  1931     1931-08-21   \n",
       "2336                          Modern Times  1936     1936-10-16   \n",
       "...                                    ...   ...            ...   \n",
       "60112                       Make Your Move  2013     2014-04-17   \n",
       "60117                       La délicatesse  2011     2012-04-13   \n",
       "60118                              Passion  2012     2013-02-13   \n",
       "60137                     Cô dâu dai chien  2011     2011-01-28   \n",
       "60145              Jodaeiye Nader az Simin  2011     2011-03-16   \n",
       "\n",
       "                          genre  duration           country         language  \\\n",
       "155    Fantasy, Horror, Mystery        76           Germany           German   \n",
       "232         Drama, Romance, War       150               USA              NaN   \n",
       "488               Drama, Sci-Fi       153           Germany           German   \n",
       "1005     Comedy, Drama, Romance        87               USA          English   \n",
       "2336      Comedy, Drama, Family        87               USA          English   \n",
       "...                         ...       ...               ...              ...   \n",
       "60112   Drama, Musical, Romance       110  South Korea, USA          English   \n",
       "60117    Comedy, Drama, Romance       108            France  French, Swedish   \n",
       "60118  Drama, Mystery, Thriller       102   France, Germany  English, German   \n",
       "60137                    Comedy       100           Vietnam       Vietnamese   \n",
       "60145                     Drama       123      Iran, France          Persian   \n",
       "\n",
       "                                  director  \\\n",
       "155                           Robert Wiene   \n",
       "232                             Rex Ingram   \n",
       "488                             Fritz Lang   \n",
       "1005                       Charles Chaplin   \n",
       "2336                       Charles Chaplin   \n",
       "...                                    ...   \n",
       "60112                          Duane Adler   \n",
       "60117  David Foenkinos, Stéphane Foenkinos   \n",
       "60118                       Brian De Palma   \n",
       "60137                            Victor Vu   \n",
       "60145                       Asghar Farhadi   \n",
       "\n",
       "                                   writer           production_company  \\\n",
       "155             Carl Mayer, Hans Janowitz             Decla-Bioscop AG   \n",
       "232    Vicente Blasco Ibáñez, June Mathis   Metro Pictures Corporation   \n",
       "488      Thea von Harbou, Thea von Harbou         Universum Film (UFA)   \n",
       "1005                      Charles Chaplin  Charles Chaplin Productions   \n",
       "2336                      Charles Chaplin  Charles Chaplin Productions   \n",
       "...                                   ...                          ...   \n",
       "60112                         Duane Adler             CJ Entertainment   \n",
       "60117    David Foenkinos, David Foenkinos                 2.4.7. Films   \n",
       "60118      Brian De Palma, Natalie Carter              SBS Productions   \n",
       "60137                Hong Phuc, Victor Vu                       HKFilm   \n",
       "60145                      Asghar Farhadi   Asghar Farhadi Productions   \n",
       "\n",
       "                                                  actors  \\\n",
       "155    Werner Krauss, Conrad Veidt, Friedrich Feher, ...   \n",
       "232    Pomeroy Cannon, Josef Swickard, Bridgetta Clar...   \n",
       "488    Alfred Abel, Gustav Fröhlich, Rudolf Klein-Rog...   \n",
       "1005   Virginia Cherrill, Florence Lee, Harry Myers, ...   \n",
       "2336   Charles Chaplin, Paulette Goddard, Henry Bergm...   \n",
       "...                                                  ...   \n",
       "60112  Derek Hough, BoA, Will Yun Lee, Wesley Jonatha...   \n",
       "60117  Audrey Tautou, François Damiens, Bruno Todesch...   \n",
       "60118  Rachel McAdams, Noomi Rapace, Karoline Herfurt...   \n",
       "60137  Ngoc Diep, Huy Khanh, Ngan Khanh, Khanh Le, Da...   \n",
       "60145  Payman Maadi, Leila Hatami, Sareh Bayat, Shaha...   \n",
       "\n",
       "                                             description      budget  \\\n",
       "155    Hypnotist Dr. Caligari uses a somnambulist, Ce...     18000.0   \n",
       "232    An extended family split up in France and Germ...    800000.0   \n",
       "488    In a futuristic city sharply divided between t...   6000000.0   \n",
       "1005   With the aid of a wealthy erratic tippler, a d...   1500000.0   \n",
       "2336   The Tramp struggles to live in modern industri...   1500000.0   \n",
       "...                                                  ...         ...   \n",
       "60112  A pair of star-crossed dancers in New York fin...  15000000.0   \n",
       "60117  A French woman mourning over the death of her ...   7000000.0   \n",
       "60118  The rivalry between the manipulative boss of a...  20000000.0   \n",
       "60137  In the heart of Saigon, Thai and Linh are gett...    500000.0   \n",
       "60145  A married couple are faced with a difficult de...    500000.0   \n",
       "\n",
       "       usa_gross_income  worlwide_gross_income  metascore  target      profit  \n",
       "155              8811.0                 8811.0        NaN       1     -9189.0  \n",
       "232           9183673.0              9183673.0        NaN       1   8383673.0  \n",
       "488           1236166.0              1349711.0       98.0       1  -4650289.0  \n",
       "1005            19181.0                32609.0       99.0       1  -1467391.0  \n",
       "2336           163577.0               445226.0       96.0       1  -1054774.0  \n",
       "...                 ...                    ...        ...     ...         ...  \n",
       "60112          125106.0              1471106.0       40.0       0 -13528894.0  \n",
       "60117          498584.0              9696204.0       53.0       0   2696204.0  \n",
       "60118           92181.0               713616.0       53.0       0 -19286384.0  \n",
       "60137           64572.0                64572.0        NaN       0   -435428.0  \n",
       "60145         7099055.0             19899055.0       95.0       1  19399055.0  \n",
       "\n",
       "[6638 rows x 20 columns]"
      ]
     },
     "execution_count": 31,
     "metadata": {},
     "output_type": "execute_result"
    }
   ],
   "source": [
    "feature_matrix"
   ]
  },
  {
   "cell_type": "markdown",
   "metadata": {},
   "source": [
    "### 1.2 Explain which task are you going to solve (is it a regression, classification or something else)? "
   ]
  },
  {
   "cell_type": "markdown",
   "metadata": {},
   "source": [
    "We will use classification to solve the task. Successful movies are movies with score > cutoff, which is equal 6.8"
   ]
  },
  {
   "cell_type": "markdown",
   "metadata": {},
   "source": [
    "### 1.3 Select a metric. Is it already implemented in sklearn? If yes, import it. If not, it is time to write a function which will calculate it. "
   ]
  },
  {
   "cell_type": "markdown",
   "metadata": {},
   "source": [
    "For estimation of quality of models we will use F1-score, and additionaly accuracy score."
   ]
  },
  {
   "cell_type": "code",
   "execution_count": 32,
   "metadata": {},
   "outputs": [],
   "source": [
    "from sklearn.metrics import f1_score"
   ]
  },
  {
   "cell_type": "code",
   "execution_count": 33,
   "metadata": {},
   "outputs": [
    {
     "name": "stdout",
     "output_type": "stream",
     "text": [
      "Number of successful movies in data set = 2413\n",
      "Number of not successful movies in data set = 4225\n"
     ]
    }
   ],
   "source": [
    "print(\"Number of successful movies in data set =\", target.sum())\n",
    "print(\"Number of not successful movies in data set =\", target.shape[0]-target.sum())"
   ]
  },
  {
   "cell_type": "markdown",
   "metadata": {},
   "source": [
    "## Part 2.\n",
    "\n",
    "Explore and preprocess the data\n",
    "\n",
    "### 2.1 Split data into train and test"
   ]
  },
  {
   "cell_type": "markdown",
   "metadata": {},
   "source": [
    "Lets convert incomes and budgets to numerical. And calculate 'Profit' as a difference betwiin income and budget."
   ]
  },
  {
   "cell_type": "code",
   "execution_count": 34,
   "metadata": {},
   "outputs": [],
   "source": [
    "def convert_to_numeric(value):\n",
    "    if isinstance(value, str):\n",
    "        for symbol in value:\n",
    "            if not symbol.isdigit():\n",
    "                value = value.replace(symbol, '')\n",
    "    return float(value)\n",
    "\n",
    "# remove non-numeric symbols from 'usa_gross_income', 'worlwide_gross_income', 'budget' and convert to float\n",
    "full_dataset['usa_gross_income'] = full_dataset['usa_gross_income'].apply(convert_to_numeric)\n",
    "full_dataset['worlwide_gross_income'] = full_dataset['worlwide_gross_income'].apply(convert_to_numeric)\n",
    "full_dataset['budget'] = full_dataset['budget'].apply(convert_to_numeric)\n",
    "full_dataset['profit'] = full_dataset['worlwide_gross_income'] - full_dataset['budget']\n"
   ]
  },
  {
   "cell_type": "code",
   "execution_count": 35,
   "metadata": {},
   "outputs": [
    {
     "name": "stdout",
     "output_type": "stream",
     "text": [
      "(4646, 19) (1992, 19) (4646,) (1992,)\n"
     ]
    }
   ],
   "source": [
    "from sklearn.model_selection import train_test_split\n",
    "\n",
    "X_train, X_test, y_train, y_test = train_test_split(feature_matrix, target, test_size=0.3, random_state=30)\n",
    "\n",
    "X_train.drop(['target'], axis=1, inplace=True)\n",
    "X_test.drop(['target'], axis=1, inplace=True)\n",
    "\n",
    "print(X_train.shape, X_test.shape, y_train.shape, y_test.shape)"
   ]
  },
  {
   "cell_type": "markdown",
   "metadata": {},
   "source": [
    "### 2.2 Explore you data: make plots, print tables. Make sure to write your observations.  Do not forget to fill-in missing values, define relevant columns transformatios. \n"
   ]
  },
  {
   "cell_type": "code",
   "execution_count": 36,
   "metadata": {},
   "outputs": [
    {
     "data": {
      "text/html": [
       "<div>\n",
       "<style scoped>\n",
       "    .dataframe tbody tr th:only-of-type {\n",
       "        vertical-align: middle;\n",
       "    }\n",
       "\n",
       "    .dataframe tbody tr th {\n",
       "        vertical-align: top;\n",
       "    }\n",
       "\n",
       "    .dataframe thead th {\n",
       "        text-align: right;\n",
       "    }\n",
       "</style>\n",
       "<table border=\"1\" class=\"dataframe\">\n",
       "  <thead>\n",
       "    <tr style=\"text-align: right;\">\n",
       "      <th></th>\n",
       "      <th>imdb_title_id</th>\n",
       "      <th>title</th>\n",
       "      <th>original_title</th>\n",
       "      <th>year</th>\n",
       "      <th>date_published</th>\n",
       "      <th>genre</th>\n",
       "      <th>duration</th>\n",
       "      <th>country</th>\n",
       "      <th>language</th>\n",
       "      <th>director</th>\n",
       "      <th>...</th>\n",
       "      <th>avg_vote</th>\n",
       "      <th>votes</th>\n",
       "      <th>budget</th>\n",
       "      <th>usa_gross_income</th>\n",
       "      <th>worlwide_gross_income</th>\n",
       "      <th>metascore</th>\n",
       "      <th>reviews_from_users</th>\n",
       "      <th>reviews_from_critics</th>\n",
       "      <th>target</th>\n",
       "      <th>profit</th>\n",
       "    </tr>\n",
       "  </thead>\n",
       "  <tbody>\n",
       "    <tr>\n",
       "      <th>155</th>\n",
       "      <td>tt0010323</td>\n",
       "      <td>Das Cabinet des Dr. Caligari</td>\n",
       "      <td>Das Cabinet des Dr. Caligari</td>\n",
       "      <td>1920</td>\n",
       "      <td>1920-02-27</td>\n",
       "      <td>Fantasy, Horror, Mystery</td>\n",
       "      <td>76</td>\n",
       "      <td>Germany</td>\n",
       "      <td>German</td>\n",
       "      <td>Robert Wiene</td>\n",
       "      <td>...</td>\n",
       "      <td>8.1</td>\n",
       "      <td>51644</td>\n",
       "      <td>18000.0</td>\n",
       "      <td>8811.0</td>\n",
       "      <td>8811.0</td>\n",
       "      <td>NaN</td>\n",
       "      <td>218.0</td>\n",
       "      <td>148.0</td>\n",
       "      <td>1</td>\n",
       "      <td>-9189.0</td>\n",
       "    </tr>\n",
       "    <tr>\n",
       "      <th>232</th>\n",
       "      <td>tt0012190</td>\n",
       "      <td>The Four Horsemen of the Apocalypse</td>\n",
       "      <td>The Four Horsemen of the Apocalypse</td>\n",
       "      <td>1921</td>\n",
       "      <td>1923-01-08</td>\n",
       "      <td>Drama, Romance, War</td>\n",
       "      <td>150</td>\n",
       "      <td>USA</td>\n",
       "      <td>NaN</td>\n",
       "      <td>Rex Ingram</td>\n",
       "      <td>...</td>\n",
       "      <td>7.2</td>\n",
       "      <td>2935</td>\n",
       "      <td>800000.0</td>\n",
       "      <td>9183673.0</td>\n",
       "      <td>9183673.0</td>\n",
       "      <td>NaN</td>\n",
       "      <td>44.0</td>\n",
       "      <td>16.0</td>\n",
       "      <td>1</td>\n",
       "      <td>8383673.0</td>\n",
       "    </tr>\n",
       "    <tr>\n",
       "      <th>488</th>\n",
       "      <td>tt0017136</td>\n",
       "      <td>Metropolis</td>\n",
       "      <td>Metropolis</td>\n",
       "      <td>1927</td>\n",
       "      <td>1927-02-06</td>\n",
       "      <td>Drama, Sci-Fi</td>\n",
       "      <td>153</td>\n",
       "      <td>Germany</td>\n",
       "      <td>German</td>\n",
       "      <td>Fritz Lang</td>\n",
       "      <td>...</td>\n",
       "      <td>8.3</td>\n",
       "      <td>148396</td>\n",
       "      <td>6000000.0</td>\n",
       "      <td>1236166.0</td>\n",
       "      <td>1349711.0</td>\n",
       "      <td>98.0</td>\n",
       "      <td>471.0</td>\n",
       "      <td>194.0</td>\n",
       "      <td>1</td>\n",
       "      <td>-4650289.0</td>\n",
       "    </tr>\n",
       "  </tbody>\n",
       "</table>\n",
       "<p>3 rows × 24 columns</p>\n",
       "</div>"
      ],
      "text/plain": [
       "    imdb_title_id                                title  \\\n",
       "155     tt0010323         Das Cabinet des Dr. Caligari   \n",
       "232     tt0012190  The Four Horsemen of the Apocalypse   \n",
       "488     tt0017136                           Metropolis   \n",
       "\n",
       "                          original_title  year date_published  \\\n",
       "155         Das Cabinet des Dr. Caligari  1920     1920-02-27   \n",
       "232  The Four Horsemen of the Apocalypse  1921     1923-01-08   \n",
       "488                           Metropolis  1927     1927-02-06   \n",
       "\n",
       "                        genre  duration  country language      director  ...  \\\n",
       "155  Fantasy, Horror, Mystery        76  Germany   German  Robert Wiene  ...   \n",
       "232       Drama, Romance, War       150      USA      NaN    Rex Ingram  ...   \n",
       "488             Drama, Sci-Fi       153  Germany   German    Fritz Lang  ...   \n",
       "\n",
       "    avg_vote   votes     budget usa_gross_income  worlwide_gross_income  \\\n",
       "155      8.1   51644    18000.0           8811.0                 8811.0   \n",
       "232      7.2    2935   800000.0        9183673.0              9183673.0   \n",
       "488      8.3  148396  6000000.0        1236166.0              1349711.0   \n",
       "\n",
       "     metascore  reviews_from_users  reviews_from_critics  target     profit  \n",
       "155        NaN               218.0                 148.0       1    -9189.0  \n",
       "232        NaN                44.0                  16.0       1  8383673.0  \n",
       "488       98.0               471.0                 194.0       1 -4650289.0  \n",
       "\n",
       "[3 rows x 24 columns]"
      ]
     },
     "execution_count": 36,
     "metadata": {},
     "output_type": "execute_result"
    }
   ],
   "source": [
    "full_dataset.head(3)"
   ]
  },
  {
   "cell_type": "code",
   "execution_count": 37,
   "metadata": {
    "scrolled": false
   },
   "outputs": [
    {
     "data": {
      "image/png": "[encoded data removed]",
      "text/plain": [
       "<Figure size 720x576 with 2 Axes>"
      ]
     },
     "metadata": {
      "needs_background": "light"
     },
     "output_type": "display_data"
    }
   ],
   "source": [
    "numerical_features = full_dataset.select_dtypes(include=[np.number])\n",
    "corr = numerical_features.corr()\n",
    "fig, ax = plt.subplots(figsize=(10,8))\n",
    "fig.tight_layout()\n",
    "sns.heatmap(corr, annot=True, cmap=plt.cm.bwr)\n",
    "plt.show()\n"
   ]
  },
  {
   "cell_type": "code",
   "execution_count": 38,
   "metadata": {},
   "outputs": [
    {
     "data": {
      "image/png": "[encoded data removed]",
      "text/plain": [
       "<Figure size 720x432 with 1 Axes>"
      ]
     },
     "metadata": {
      "needs_background": "light"
     },
     "output_type": "display_data"
    },
    {
     "data": {
      "image/png": "[encoded data removed]",
      "text/plain": [
       "<Figure size 720x432 with 1 Axes>"
      ]
     },
     "metadata": {
      "needs_background": "light"
     },
     "output_type": "display_data"
    },
    {
     "data": {
      "image/png": "[encoded data removed]",
      "text/plain": [
       "<Figure size 720x432 with 1 Axes>"
      ]
     },
     "metadata": {
      "needs_background": "light"
     },
     "output_type": "display_data"
    }
   ],
   "source": [
    "numerical_features = ['duration', 'budget', 'profit']\n",
    "for feature in numerical_features:\n",
    "    plt.figure(figsize=(10, 6))\n",
    "    sns.boxplot(x='target', y=feature, data=full_dataset, palette='Set3')\n",
    "    plt.xlabel('Target', fontsize=12)\n",
    "    plt.ylabel(feature, fontsize=12)\n",
    "    plt.title(\"Distribution of \" + feature + \" by Target\", fontsize=15)\n",
    "    plt.xticks(rotation='vertical')\n",
    "    plt.show()"
   ]
  },
  {
   "cell_type": "code",
   "execution_count": 39,
   "metadata": {},
   "outputs": [
    {
     "name": "stdout",
     "output_type": "stream",
     "text": [
      "target                   1.000000\n",
      "avg_vote                 0.728285\n",
      "metascore                0.615249\n",
      "votes                    0.338295\n",
      "duration                 0.313101\n",
      "reviews_from_critics     0.274499\n",
      "reviews_from_users       0.259755\n",
      "usa_gross_income         0.160601\n",
      "worlwide_gross_income    0.152767\n",
      "budget                   0.033886\n",
      "Name: target, dtype: float64\n"
     ]
    }
   ],
   "source": [
    "print(corr['target'].sort_values(ascending=False)[:10])"
   ]
  },
  {
   "cell_type": "markdown",
   "metadata": {},
   "source": [
    "We calculate profit and no more need on 'usa_gross_income', 'worlwide_gross_income' "
   ]
  },
  {
   "cell_type": "code",
   "execution_count": 40,
   "metadata": {},
   "outputs": [],
   "source": [
    "X_train.drop(['imdb_title_id', 'year', 'usa_gross_income', 'worlwide_gross_income', 'metascore'], axis=1, inplace=True)\n",
    "X_test.drop(['imdb_title_id', 'year', 'usa_gross_income', 'worlwide_gross_income', 'metascore'], axis=1, inplace=True)\n"
   ]
  },
  {
   "cell_type": "code",
   "execution_count": 41,
   "metadata": {},
   "outputs": [
    {
     "data": {
      "text/html": [
       "<div>\n",
       "<style scoped>\n",
       "    .dataframe tbody tr th:only-of-type {\n",
       "        vertical-align: middle;\n",
       "    }\n",
       "\n",
       "    .dataframe tbody tr th {\n",
       "        vertical-align: top;\n",
       "    }\n",
       "\n",
       "    .dataframe thead th {\n",
       "        text-align: right;\n",
       "    }\n",
       "</style>\n",
       "<table border=\"1\" class=\"dataframe\">\n",
       "  <thead>\n",
       "    <tr style=\"text-align: right;\">\n",
       "      <th></th>\n",
       "      <th>title</th>\n",
       "      <th>original_title</th>\n",
       "      <th>date_published</th>\n",
       "      <th>genre</th>\n",
       "      <th>duration</th>\n",
       "      <th>country</th>\n",
       "      <th>language</th>\n",
       "      <th>director</th>\n",
       "      <th>writer</th>\n",
       "      <th>production_company</th>\n",
       "      <th>actors</th>\n",
       "      <th>description</th>\n",
       "      <th>budget</th>\n",
       "      <th>profit</th>\n",
       "    </tr>\n",
       "  </thead>\n",
       "  <tbody>\n",
       "    <tr>\n",
       "      <th>25206</th>\n",
       "      <td>Hook</td>\n",
       "      <td>Hook</td>\n",
       "      <td>1992-04-10</td>\n",
       "      <td>Adventure, Comedy, Family</td>\n",
       "      <td>142</td>\n",
       "      <td>USA</td>\n",
       "      <td>English</td>\n",
       "      <td>Steven Spielberg</td>\n",
       "      <td>J.M. Barrie, J.M. Barrie</td>\n",
       "      <td>Amblin Entertainment</td>\n",
       "      <td>Dustin Hoffman, Robin Williams, Julia Roberts,...</td>\n",
       "      <td>When Captain Hook kidnaps his children, an adu...</td>\n",
       "      <td>70000000.0</td>\n",
       "      <td>230854823.0</td>\n",
       "    </tr>\n",
       "    <tr>\n",
       "      <th>29718</th>\n",
       "      <td>Dream with the Fishes</td>\n",
       "      <td>Dream with the Fishes</td>\n",
       "      <td>1997-06-20</td>\n",
       "      <td>Comedy, Drama</td>\n",
       "      <td>97</td>\n",
       "      <td>USA</td>\n",
       "      <td>English</td>\n",
       "      <td>Finn Taylor</td>\n",
       "      <td>Finn Taylor, Jeffrey D. Brown</td>\n",
       "      <td>3 Ring Circus Films</td>\n",
       "      <td>David Arquette, Brad Hunt, Cathy Moriarty, Kat...</td>\n",
       "      <td>Terry is a suicidal voyeur who treats a dying ...</td>\n",
       "      <td>1000000.0</td>\n",
       "      <td>-456292.0</td>\n",
       "    </tr>\n",
       "    <tr>\n",
       "      <th>26751</th>\n",
       "      <td>The Pelican Brief</td>\n",
       "      <td>The Pelican Brief</td>\n",
       "      <td>1994-02-25</td>\n",
       "      <td>Crime, Drama, Mystery</td>\n",
       "      <td>141</td>\n",
       "      <td>USA</td>\n",
       "      <td>English</td>\n",
       "      <td>Alan J. Pakula</td>\n",
       "      <td>John Grisham, Alan J. Pakula</td>\n",
       "      <td>Warner Bros.</td>\n",
       "      <td>Julia Roberts, Denzel Washington, Sam Shepard,...</td>\n",
       "      <td>A law student uncovers a conspiracy, putting h...</td>\n",
       "      <td>45000000.0</td>\n",
       "      <td>150268056.0</td>\n",
       "    </tr>\n",
       "    <tr>\n",
       "      <th>53883</th>\n",
       "      <td>Kick-Ass</td>\n",
       "      <td>Kick-Ass</td>\n",
       "      <td>2010-03-26</td>\n",
       "      <td>Action, Adventure, Comedy</td>\n",
       "      <td>117</td>\n",
       "      <td>UK, USA</td>\n",
       "      <td>English</td>\n",
       "      <td>Matthew Vaughn</td>\n",
       "      <td>Jane Goldman, Matthew Vaughn</td>\n",
       "      <td>Marv Films</td>\n",
       "      <td>Aaron Taylor-Johnson, Garrett M. Brown, Evan P...</td>\n",
       "      <td>Dave Lizewski is an unnoticed high school stud...</td>\n",
       "      <td>30000000.0</td>\n",
       "      <td>66188903.0</td>\n",
       "    </tr>\n",
       "    <tr>\n",
       "      <th>12370</th>\n",
       "      <td>Who's Afraid of Virginia Woolf?</td>\n",
       "      <td>Who's Afraid of Virginia Woolf?</td>\n",
       "      <td>1967-03-31</td>\n",
       "      <td>Drama</td>\n",
       "      <td>131</td>\n",
       "      <td>USA</td>\n",
       "      <td>English, Latin, Spanish</td>\n",
       "      <td>Mike Nichols</td>\n",
       "      <td>Ernest Lehman</td>\n",
       "      <td>Warner Bros.</td>\n",
       "      <td>Elizabeth Taylor, Richard Burton, George Segal...</td>\n",
       "      <td>A bitter, aging couple, with the help of alcoh...</td>\n",
       "      <td>7500000.0</td>\n",
       "      <td>20505068.0</td>\n",
       "    </tr>\n",
       "    <tr>\n",
       "      <th>...</th>\n",
       "      <td>...</td>\n",
       "      <td>...</td>\n",
       "      <td>...</td>\n",
       "      <td>...</td>\n",
       "      <td>...</td>\n",
       "      <td>...</td>\n",
       "      <td>...</td>\n",
       "      <td>...</td>\n",
       "      <td>...</td>\n",
       "      <td>...</td>\n",
       "      <td>...</td>\n",
       "      <td>...</td>\n",
       "      <td>...</td>\n",
       "      <td>...</td>\n",
       "    </tr>\n",
       "    <tr>\n",
       "      <th>49548</th>\n",
       "      <td>Sunshine Cleaning</td>\n",
       "      <td>Sunshine Cleaning</td>\n",
       "      <td>2009-06-26</td>\n",
       "      <td>Comedy, Drama</td>\n",
       "      <td>91</td>\n",
       "      <td>USA</td>\n",
       "      <td>English, Spanish</td>\n",
       "      <td>Christine Jeffs</td>\n",
       "      <td>Megan Holley</td>\n",
       "      <td>Overture Films</td>\n",
       "      <td>Amy Adams, Emily Blunt, Alan Arkin, Jason Spev...</td>\n",
       "      <td>In order to raise the tuition to send her youn...</td>\n",
       "      <td>8000000.0</td>\n",
       "      <td>8580250.0</td>\n",
       "    </tr>\n",
       "    <tr>\n",
       "      <th>19709</th>\n",
       "      <td>Fast Times at Ridgemont High</td>\n",
       "      <td>Fast Times at Ridgemont High</td>\n",
       "      <td>1983-01-07</td>\n",
       "      <td>Comedy, Drama</td>\n",
       "      <td>90</td>\n",
       "      <td>USA</td>\n",
       "      <td>English</td>\n",
       "      <td>Amy Heckerling</td>\n",
       "      <td>Cameron Crowe, Cameron Crowe</td>\n",
       "      <td>Universal Pictures</td>\n",
       "      <td>Sean Penn, Jennifer Jason Leigh, Judge Reinhol...</td>\n",
       "      <td>A group of Southern California high school stu...</td>\n",
       "      <td>4500000.0</td>\n",
       "      <td>22592880.0</td>\n",
       "    </tr>\n",
       "    <tr>\n",
       "      <th>41462</th>\n",
       "      <td>Twist</td>\n",
       "      <td>Twist</td>\n",
       "      <td>2005-09-28</td>\n",
       "      <td>Drama</td>\n",
       "      <td>97</td>\n",
       "      <td>Canada</td>\n",
       "      <td>English</td>\n",
       "      <td>Jacob Tierney</td>\n",
       "      <td>Charles Dickens, Jacob Tierney</td>\n",
       "      <td>Victorious Films</td>\n",
       "      <td>Nick Stahl, Gary Farmer, Stephen McHattie, Tyg...</td>\n",
       "      <td>A queer \"Oliver Twist\" update set in the hustl...</td>\n",
       "      <td>350000.0</td>\n",
       "      <td>-302630.0</td>\n",
       "    </tr>\n",
       "    <tr>\n",
       "      <th>45080</th>\n",
       "      <td>Fremde Haut</td>\n",
       "      <td>Fremde Haut</td>\n",
       "      <td>2005-10-20</td>\n",
       "      <td>Drama</td>\n",
       "      <td>97</td>\n",
       "      <td>Germany, Austria</td>\n",
       "      <td>German, Persian, English, Russian</td>\n",
       "      <td>Angelina Maccarone</td>\n",
       "      <td>Angelina Maccarone, Judith Kaufmann</td>\n",
       "      <td>Fischer Film</td>\n",
       "      <td>Jasmin Tabatabai, Navid Navid, Mossadegh Hamid...</td>\n",
       "      <td>The educated Fariba Tabrizi flies from Teheran...</td>\n",
       "      <td>2000000.0</td>\n",
       "      <td>-1996975.0</td>\n",
       "    </tr>\n",
       "    <tr>\n",
       "      <th>54389</th>\n",
       "      <td>How to Be Single</td>\n",
       "      <td>How to Be Single</td>\n",
       "      <td>2016-02-19</td>\n",
       "      <td>Comedy, Drama, Romance</td>\n",
       "      <td>110</td>\n",
       "      <td>USA</td>\n",
       "      <td>English</td>\n",
       "      <td>Christian Ditter</td>\n",
       "      <td>Abby Kohn, Marc Silverstein</td>\n",
       "      <td>New Line Cinema</td>\n",
       "      <td>Dakota Johnson, Rebel Wilson, Leslie Mann, Dam...</td>\n",
       "      <td>A group of young adults navigate love and rela...</td>\n",
       "      <td>38000000.0</td>\n",
       "      <td>74343513.0</td>\n",
       "    </tr>\n",
       "  </tbody>\n",
       "</table>\n",
       "<p>4646 rows × 14 columns</p>\n",
       "</div>"
      ],
      "text/plain": [
       "                                 title                   original_title  \\\n",
       "25206                             Hook                             Hook   \n",
       "29718            Dream with the Fishes            Dream with the Fishes   \n",
       "26751                The Pelican Brief                The Pelican Brief   \n",
       "53883                         Kick-Ass                         Kick-Ass   \n",
       "12370  Who's Afraid of Virginia Woolf?  Who's Afraid of Virginia Woolf?   \n",
       "...                                ...                              ...   \n",
       "49548                Sunshine Cleaning                Sunshine Cleaning   \n",
       "19709     Fast Times at Ridgemont High     Fast Times at Ridgemont High   \n",
       "41462                            Twist                            Twist   \n",
       "45080                      Fremde Haut                      Fremde Haut   \n",
       "54389                 How to Be Single                 How to Be Single   \n",
       "\n",
       "      date_published                      genre  duration           country  \\\n",
       "25206     1992-04-10  Adventure, Comedy, Family       142               USA   \n",
       "29718     1997-06-20              Comedy, Drama        97               USA   \n",
       "26751     1994-02-25      Crime, Drama, Mystery       141               USA   \n",
       "53883     2010-03-26  Action, Adventure, Comedy       117           UK, USA   \n",
       "12370     1967-03-31                      Drama       131               USA   \n",
       "...              ...                        ...       ...               ...   \n",
       "49548     2009-06-26              Comedy, Drama        91               USA   \n",
       "19709     1983-01-07              Comedy, Drama        90               USA   \n",
       "41462     2005-09-28                      Drama        97            Canada   \n",
       "45080     2005-10-20                      Drama        97  Germany, Austria   \n",
       "54389     2016-02-19     Comedy, Drama, Romance       110               USA   \n",
       "\n",
       "                                language            director  \\\n",
       "25206                            English    Steven Spielberg   \n",
       "29718                            English         Finn Taylor   \n",
       "26751                            English      Alan J. Pakula   \n",
       "53883                            English      Matthew Vaughn   \n",
       "12370            English, Latin, Spanish        Mike Nichols   \n",
       "...                                  ...                 ...   \n",
       "49548                   English, Spanish     Christine Jeffs   \n",
       "19709                            English      Amy Heckerling   \n",
       "41462                            English       Jacob Tierney   \n",
       "45080  German, Persian, English, Russian  Angelina Maccarone   \n",
       "54389                            English    Christian Ditter   \n",
       "\n",
       "                                    writer    production_company  \\\n",
       "25206             J.M. Barrie, J.M. Barrie  Amblin Entertainment   \n",
       "29718        Finn Taylor, Jeffrey D. Brown   3 Ring Circus Films   \n",
       "26751         John Grisham, Alan J. Pakula          Warner Bros.   \n",
       "53883         Jane Goldman, Matthew Vaughn            Marv Films   \n",
       "12370                        Ernest Lehman          Warner Bros.   \n",
       "...                                    ...                   ...   \n",
       "49548                         Megan Holley        Overture Films   \n",
       "19709         Cameron Crowe, Cameron Crowe    Universal Pictures   \n",
       "41462       Charles Dickens, Jacob Tierney      Victorious Films   \n",
       "45080  Angelina Maccarone, Judith Kaufmann          Fischer Film   \n",
       "54389          Abby Kohn, Marc Silverstein       New Line Cinema   \n",
       "\n",
       "                                                  actors  \\\n",
       "25206  Dustin Hoffman, Robin Williams, Julia Roberts,...   \n",
       "29718  David Arquette, Brad Hunt, Cathy Moriarty, Kat...   \n",
       "26751  Julia Roberts, Denzel Washington, Sam Shepard,...   \n",
       "53883  Aaron Taylor-Johnson, Garrett M. Brown, Evan P...   \n",
       "12370  Elizabeth Taylor, Richard Burton, George Segal...   \n",
       "...                                                  ...   \n",
       "49548  Amy Adams, Emily Blunt, Alan Arkin, Jason Spev...   \n",
       "19709  Sean Penn, Jennifer Jason Leigh, Judge Reinhol...   \n",
       "41462  Nick Stahl, Gary Farmer, Stephen McHattie, Tyg...   \n",
       "45080  Jasmin Tabatabai, Navid Navid, Mossadegh Hamid...   \n",
       "54389  Dakota Johnson, Rebel Wilson, Leslie Mann, Dam...   \n",
       "\n",
       "                                             description      budget  \\\n",
       "25206  When Captain Hook kidnaps his children, an adu...  70000000.0   \n",
       "29718  Terry is a suicidal voyeur who treats a dying ...   1000000.0   \n",
       "26751  A law student uncovers a conspiracy, putting h...  45000000.0   \n",
       "53883  Dave Lizewski is an unnoticed high school stud...  30000000.0   \n",
       "12370  A bitter, aging couple, with the help of alcoh...   7500000.0   \n",
       "...                                                  ...         ...   \n",
       "49548  In order to raise the tuition to send her youn...   8000000.0   \n",
       "19709  A group of Southern California high school stu...   4500000.0   \n",
       "41462  A queer \"Oliver Twist\" update set in the hustl...    350000.0   \n",
       "45080  The educated Fariba Tabrizi flies from Teheran...   2000000.0   \n",
       "54389  A group of young adults navigate love and rela...  38000000.0   \n",
       "\n",
       "            profit  \n",
       "25206  230854823.0  \n",
       "29718    -456292.0  \n",
       "26751  150268056.0  \n",
       "53883   66188903.0  \n",
       "12370   20505068.0  \n",
       "...            ...  \n",
       "49548    8580250.0  \n",
       "19709   22592880.0  \n",
       "41462    -302630.0  \n",
       "45080   -1996975.0  \n",
       "54389   74343513.0  \n",
       "\n",
       "[4646 rows x 14 columns]"
      ]
     },
     "execution_count": 41,
     "metadata": {},
     "output_type": "execute_result"
    }
   ],
   "source": [
    "X_train"
   ]
  },
  {
   "cell_type": "markdown",
   "metadata": {},
   "source": [
    "At the next steps we will explore data and select wich one we will keep or drop."
   ]
  },
  {
   "cell_type": "markdown",
   "metadata": {},
   "source": [
    "Director:"
   ]
  },
  {
   "cell_type": "code",
   "execution_count": 42,
   "metadata": {},
   "outputs": [
    {
     "data": {
      "text/plain": [
       "(0, 0)"
      ]
     },
     "execution_count": 42,
     "metadata": {},
     "output_type": "execute_result"
    }
   ],
   "source": [
    "X_train.director.fillna('Unknown', inplace=True)\n",
    "X_test.director.fillna('Unknown', inplace=True)\n",
    "X_train.director.isna().sum(), X_test.director.isna().sum()"
   ]
  },
  {
   "cell_type": "code",
   "execution_count": 43,
   "metadata": {},
   "outputs": [
    {
     "data": {
      "text/plain": [
       "[('Woody Allen', 35),\n",
       " ('Clint Eastwood', 32),\n",
       " ('Steven Spielberg', 28),\n",
       " ('Steven Soderbergh', 23),\n",
       " ('Martin Scorsese', 22),\n",
       " ('Ridley Scott', 20),\n",
       " ('Ron Howard', 20),\n",
       " ('Brian De Palma', 19),\n",
       " ('Joel Schumacher', 19),\n",
       " ('Rainer Werner Fassbinder', 18),\n",
       " ('Oliver Stone', 18),\n",
       " ('Barry Levinson', 18),\n",
       " ('Spike Lee', 18),\n",
       " ('Walter Hill', 16),\n",
       " ('Tim Burton', 16),\n",
       " ('Renny Harlin', 16),\n",
       " ('Mike Nichols', 15),\n",
       " ('Francis Ford Coppola', 15),\n",
       " ('Sidney Lumet', 15),\n",
       " ('Richard Donner', 15),\n",
       " ('John Carpenter', 15),\n",
       " ('Robert Zemeckis', 15),\n",
       " ('Wes Craven', 15),\n",
       " ('John Sayles', 15),\n",
       " ('Rob Reiner', 15),\n",
       " ('Robert Altman', 14),\n",
       " ('John Landis', 14),\n",
       " ('Ivan Reitman', 14),\n",
       " ('Sam Raimi', 14),\n",
       " ('Tony Scott', 14)]"
      ]
     },
     "execution_count": 43,
     "metadata": {},
     "output_type": "execute_result"
    }
   ],
   "source": [
    "from collections import Counter\n",
    "\n",
    "words_in_director = feature_matrix.director.values.tolist()\n",
    "counts = Counter(words_in_director)\n",
    "most_popular_dirctors = list(x[0] for x in counts.most_common(30))\n",
    "counts.most_common(30)"
   ]
  },
  {
   "cell_type": "code",
   "execution_count": null,
   "metadata": {},
   "outputs": [],
   "source": []
  },
  {
   "cell_type": "code",
   "execution_count": 44,
   "metadata": {},
   "outputs": [],
   "source": [
    "X_train['popular_dirctor'] = np.where(np.isin(X_train['director'],most_popular_dirctors), 1, 0)\n",
    "X_test['popular_dirctor'] = np.where(np.isin(X_test['director'],most_popular_dirctors), 1, 0)\n",
    "\n",
    "X_test[X_train.columns.difference(X_test.columns)] = 0\n",
    "X_train[X_test.columns.difference(X_train.columns)] = 0\n",
    "\n",
    "X_train.drop([\"director\"], axis=1, inplace=True)\n",
    "X_test.drop([\"director\"], axis=1, inplace=True)"
   ]
  },
  {
   "cell_type": "markdown",
   "metadata": {},
   "source": [
    "Title - drop"
   ]
  },
  {
   "cell_type": "code",
   "execution_count": 45,
   "metadata": {},
   "outputs": [],
   "source": [
    "X_train.drop([\"title\"], axis=1, inplace=True)\n",
    "X_test.drop([\"title\"], axis=1, inplace=True)"
   ]
  },
  {
   "cell_type": "markdown",
   "metadata": {},
   "source": [
    "Original Title - drop"
   ]
  },
  {
   "cell_type": "code",
   "execution_count": 46,
   "metadata": {},
   "outputs": [],
   "source": [
    "X_train.drop([\"original_title\"], axis=1, inplace=True)\n",
    "X_test.drop([\"original_title\"], axis=1, inplace=True)"
   ]
  },
  {
   "cell_type": "markdown",
   "metadata": {},
   "source": [
    "description - drop"
   ]
  },
  {
   "cell_type": "code",
   "execution_count": 47,
   "metadata": {},
   "outputs": [],
   "source": [
    "X_train.drop([\"description\"], axis=1, inplace=True)\n",
    "X_test.drop([\"description\"], axis=1, inplace=True)"
   ]
  },
  {
   "cell_type": "markdown",
   "metadata": {},
   "source": [
    "Writer - drop"
   ]
  },
  {
   "cell_type": "code",
   "execution_count": 48,
   "metadata": {},
   "outputs": [],
   "source": [
    "X_train.drop([\"writer\"], axis=1, inplace=True)\n",
    "X_test.drop([\"writer\"], axis=1, inplace=True)"
   ]
  },
  {
   "cell_type": "markdown",
   "metadata": {},
   "source": [
    "date_published - drop"
   ]
  },
  {
   "cell_type": "code",
   "execution_count": 49,
   "metadata": {},
   "outputs": [],
   "source": [
    "X_train.drop([\"date_published\"], axis=1, inplace=True)\n",
    "X_test.drop([\"date_published\"], axis=1, inplace=True)"
   ]
  },
  {
   "cell_type": "markdown",
   "metadata": {},
   "source": [
    "Actors"
   ]
  },
  {
   "cell_type": "code",
   "execution_count": 50,
   "metadata": {},
   "outputs": [
    {
     "data": {
      "text/plain": [
       "0"
      ]
     },
     "execution_count": 50,
     "metadata": {},
     "output_type": "execute_result"
    }
   ],
   "source": [
    "feature_matrix.actors.isna().sum()"
   ]
  },
  {
   "cell_type": "code",
   "execution_count": 51,
   "metadata": {},
   "outputs": [],
   "source": [
    "X_train.actors.fillna('Unknown', inplace=True)\n",
    "X_test.actors.fillna('Unknown', inplace=True)"
   ]
  },
  {
   "cell_type": "code",
   "execution_count": 52,
   "metadata": {},
   "outputs": [],
   "source": [
    "feature_matrix.actors.values\n",
    "all_actors = ' '.join(str(x) for x in feature_matrix.actors.values).split(\", \")"
   ]
  },
  {
   "cell_type": "code",
   "execution_count": 53,
   "metadata": {},
   "outputs": [
    {
     "data": {
      "text/plain": [
       "[('Samuel L. Jackson', 43),\n",
       " ('Christopher Walken', 42),\n",
       " ('Richard Jenkins', 41),\n",
       " ('Steve Buscemi', 40),\n",
       " ('Keith David', 38),\n",
       " ('John Hurt', 37),\n",
       " ('Morgan Freeman', 36),\n",
       " ('Alec Baldwin', 35),\n",
       " ('Danny DeVito', 34),\n",
       " ('Bruce McGill', 33)]"
      ]
     },
     "execution_count": 53,
     "metadata": {},
     "output_type": "execute_result"
    }
   ],
   "source": [
    "from collections import Counter\n",
    "\n",
    "words_in_actors = all_actors\n",
    "counts = Counter(words_in_actors)\n",
    "most_popular_actors = list(x[0] for x in counts.most_common(500))\n",
    "counts.most_common(10)"
   ]
  },
  {
   "cell_type": "code",
   "execution_count": 54,
   "metadata": {},
   "outputs": [],
   "source": [
    "most_popular_actors = '|'.join(most_popular_actors)"
   ]
  },
  {
   "cell_type": "code",
   "execution_count": 55,
   "metadata": {},
   "outputs": [],
   "source": [
    "import re\n",
    "\n",
    "X_train[\"popular_actor\"] = np.where((X_train.actors.str.contains(most_popular_actors, regex=True)), 1, 0)\n",
    "X_test[\"popular_actor\"] = np.where((X_test.actors.str.contains(most_popular_actors, regex=True)), 1, 0)"
   ]
  },
  {
   "cell_type": "code",
   "execution_count": 56,
   "metadata": {},
   "outputs": [],
   "source": [
    "features_to_drop = [\"actors\"]\n",
    "\n",
    "X_train.drop([\"actors\"], axis=1, inplace=True)\n",
    "X_test.drop([\"actors\"], axis=1, inplace=True)"
   ]
  },
  {
   "cell_type": "markdown",
   "metadata": {},
   "source": [
    "Country"
   ]
  },
  {
   "cell_type": "code",
   "execution_count": 57,
   "metadata": {},
   "outputs": [
    {
     "data": {
      "text/plain": [
       "0"
      ]
     },
     "execution_count": 57,
     "metadata": {},
     "output_type": "execute_result"
    }
   ],
   "source": [
    "X_train.country.isna().sum()\n",
    "X_test.country.isna().sum()"
   ]
  },
  {
   "cell_type": "code",
   "execution_count": 58,
   "metadata": {},
   "outputs": [],
   "source": [
    "X_train.country.fillna('Unknown', inplace=True)\n",
    "X_test.country.fillna('Unknown', inplace=True)\n",
    "\n",
    "X_train = pd.concat([X_train, X_train.country.str.get_dummies(sep=', ').add_prefix('country_')], axis = 1)\n",
    "X_test = pd.concat([X_test, X_test.country.str.get_dummies(sep=', ').add_prefix('country_')], axis = 1)\n",
    "\n",
    "X_test[X_train.columns.difference(X_test.columns)] = 0\n",
    "X_train[X_test.columns.difference(X_train.columns)] = 0"
   ]
  },
  {
   "cell_type": "code",
   "execution_count": 59,
   "metadata": {},
   "outputs": [],
   "source": [
    "X_train.drop([\"country\"], axis=1, inplace=True)\n",
    "X_test.drop([\"country\"], axis=1, inplace=True)"
   ]
  },
  {
   "cell_type": "code",
   "execution_count": 60,
   "metadata": {},
   "outputs": [
    {
     "data": {
      "text/plain": [
       "((4646, 117), (1992, 117))"
      ]
     },
     "execution_count": 60,
     "metadata": {},
     "output_type": "execute_result"
    }
   ],
   "source": [
    "X_train.shape, X_test.shape"
   ]
  },
  {
   "cell_type": "markdown",
   "metadata": {},
   "source": [
    "Language"
   ]
  },
  {
   "cell_type": "code",
   "execution_count": 61,
   "metadata": {},
   "outputs": [
    {
     "data": {
      "text/plain": [
       "2"
      ]
     },
     "execution_count": 61,
     "metadata": {},
     "output_type": "execute_result"
    }
   ],
   "source": [
    "X_train.language.isna().sum()\n",
    "X_test.language.isna().sum()"
   ]
  },
  {
   "cell_type": "code",
   "execution_count": 62,
   "metadata": {},
   "outputs": [],
   "source": [
    "X_train.language.fillna('English', inplace=True)\n",
    "X_test.language.fillna('English', inplace=True)\n",
    "\n",
    "X_train = pd.concat([X_train, X_train.language.str.get_dummies(sep=', ').add_prefix('language_')], axis = 1)\n",
    "X_test = pd.concat([X_test, X_test.language.str.get_dummies(sep=', ').add_prefix('language_')], axis = 1)\n",
    "\n",
    "X_test[X_train.columns.difference(X_test.columns)] = 0\n",
    "X_train[X_test.columns.difference(X_train.columns)] = 0"
   ]
  },
  {
   "cell_type": "code",
   "execution_count": 63,
   "metadata": {},
   "outputs": [],
   "source": [
    "X_train.drop([\"language\"], axis=1, inplace=True)\n",
    "X_test.drop([\"language\"], axis=1, inplace=True)"
   ]
  },
  {
   "cell_type": "code",
   "execution_count": 64,
   "metadata": {},
   "outputs": [
    {
     "data": {
      "text/plain": [
       "((4646, 278), (1992, 278))"
      ]
     },
     "execution_count": 64,
     "metadata": {},
     "output_type": "execute_result"
    }
   ],
   "source": [
    "X_train.shape, X_test.shape"
   ]
  },
  {
   "cell_type": "markdown",
   "metadata": {},
   "source": [
    "production_company"
   ]
  },
  {
   "cell_type": "code",
   "execution_count": 65,
   "metadata": {},
   "outputs": [
    {
     "data": {
      "text/plain": [
       "13"
      ]
     },
     "execution_count": 65,
     "metadata": {},
     "output_type": "execute_result"
    }
   ],
   "source": [
    "X_train.production_company.isna().sum()\n",
    "X_test.production_company.isna().sum()"
   ]
  },
  {
   "cell_type": "code",
   "execution_count": 66,
   "metadata": {},
   "outputs": [],
   "source": [
    "X_train.production_company.fillna('Other', inplace=True)\n",
    "X_test.production_company.fillna('Other', inplace=True)"
   ]
  },
  {
   "cell_type": "code",
   "execution_count": 67,
   "metadata": {},
   "outputs": [],
   "source": [
    "from sklearn.preprocessing import MultiLabelBinarizer\n",
    "\n",
    "vector_mlb = MultiLabelBinarizer(sparse_output=True)\n",
    "\n",
    "X_train.production_company = X_train.production_company.str.split(', ')\n",
    "X_test.production_company = X_test.production_company.str.split(', ')"
   ]
  },
  {
   "cell_type": "code",
   "execution_count": 68,
   "metadata": {},
   "outputs": [],
   "source": [
    "X_train = X_train.merge(pd.DataFrame.sparse.from_spmatrix(vector_mlb.fit_transform(X_train.production_company), \n",
    "                                                          X_train.index, 'production_company_' + vector_mlb.classes_), \n",
    "                        left_index=True, \n",
    "                        right_index=True)\n",
    "X_test = X_test.merge(pd.DataFrame.sparse.from_spmatrix(vector_mlb.transform(X_test.production_company), \n",
    "                                                        X_test.index, 'production_company_' + vector_mlb.classes_),\n",
    "                      left_index=True, \n",
    "                      right_index=True)"
   ]
  },
  {
   "cell_type": "code",
   "execution_count": 69,
   "metadata": {},
   "outputs": [],
   "source": [
    "X_train.drop([\"production_company\"], axis=1, inplace=True)\n",
    "X_test.drop([\"production_company\"], axis=1, inplace=True)"
   ]
  },
  {
   "cell_type": "code",
   "execution_count": 70,
   "metadata": {},
   "outputs": [
    {
     "data": {
      "text/plain": [
       "((4646, 2166), (1992, 2166))"
      ]
     },
     "execution_count": 70,
     "metadata": {},
     "output_type": "execute_result"
    }
   ],
   "source": [
    "X_train.shape, X_test.shape"
   ]
  },
  {
   "cell_type": "markdown",
   "metadata": {},
   "source": [
    "genre"
   ]
  },
  {
   "cell_type": "code",
   "execution_count": 71,
   "metadata": {},
   "outputs": [],
   "source": [
    "X_train = pd.concat([X_train, X_train.genre.str.get_dummies(sep=', ').add_prefix('genre_')], axis = 1)\n",
    "X_test = pd.concat([X_test, X_test.genre.str.get_dummies(sep=', ').add_prefix('genre_')], axis = 1)\n",
    "\n",
    "X_test[X_train.columns.difference(X_test.columns)] = 0\n",
    "X_train[X_test.columns.difference(X_train.columns)] = 0"
   ]
  },
  {
   "cell_type": "code",
   "execution_count": 72,
   "metadata": {},
   "outputs": [],
   "source": [
    "X_train.drop([\"genre\"], axis=1, inplace=True)\n",
    "X_test.drop([\"genre\"], axis=1, inplace=True)"
   ]
  },
  {
   "cell_type": "code",
   "execution_count": 73,
   "metadata": {},
   "outputs": [
    {
     "data": {
      "text/plain": [
       "((4646, 2186), (1992, 2186))"
      ]
     },
     "execution_count": 73,
     "metadata": {},
     "output_type": "execute_result"
    }
   ],
   "source": [
    "X_train.shape, X_test.shape"
   ]
  },
  {
   "cell_type": "code",
   "execution_count": 74,
   "metadata": {},
   "outputs": [],
   "source": [
    "unique = 1 - X_train.astype(bool).sum(axis=0) / X_train.shape[0]\n",
    "unique = unique[unique > 0.995]"
   ]
  },
  {
   "cell_type": "code",
   "execution_count": 75,
   "metadata": {},
   "outputs": [],
   "source": [
    "X_train.drop(unique.index, axis=1, inplace=True)\n",
    "X_test.drop(unique.index, axis=1, inplace=True)"
   ]
  },
  {
   "cell_type": "code",
   "execution_count": 76,
   "metadata": {},
   "outputs": [
    {
     "data": {
      "text/plain": [
       "((4646, 90), (1992, 90))"
      ]
     },
     "execution_count": 76,
     "metadata": {},
     "output_type": "execute_result"
    }
   ],
   "source": [
    "X_train.shape, X_test.shape"
   ]
  },
  {
   "cell_type": "code",
   "execution_count": 77,
   "metadata": {},
   "outputs": [
    {
     "data": {
      "text/plain": [
       "Index([], dtype='object')"
      ]
     },
     "execution_count": 77,
     "metadata": {},
     "output_type": "execute_result"
    }
   ],
   "source": [
    "X_train.columns.difference(X_test.columns)"
   ]
  },
  {
   "cell_type": "code",
   "execution_count": 78,
   "metadata": {},
   "outputs": [],
   "source": [
    "X_train.drop([\"budget\"], axis=1, inplace=True)\n",
    "X_test.drop([\"budget\"], axis=1, inplace=True)"
   ]
  },
  {
   "cell_type": "code",
   "execution_count": 79,
   "metadata": {},
   "outputs": [],
   "source": [
    "from sklearn.compose import ColumnTransformer\n",
    "from sklearn.preprocessing import StandardScaler\n",
    "from sklearn.impute import SimpleImputer\n",
    "from sklearn.pipeline import Pipeline, make_pipeline\n",
    "\n",
    "num_col = ['duration', \n",
    "           'month_published']\n",
    "\n",
    "num_pipe = make_pipeline(\n",
    "    SimpleImputer(missing_values=np.nan, strategy='most_frequent'),\n",
    "    StandardScaler())\n",
    "\n",
    "column_transformer = ColumnTransformer([('num', num_pipe, num_col),], remainder='passthrough')"
   ]
  },
  {
   "cell_type": "markdown",
   "metadata": {},
   "source": [
    "## Part 3.\n",
    "\n",
    "Train and compare the models\n",
    "\n",
    "### 3.1. Select models, you are going to train, select hyperparameters that have to be tunes."
   ]
  },
  {
   "cell_type": "code",
   "execution_count": 80,
   "metadata": {},
   "outputs": [],
   "source": [
    "from sklearn.pipeline import Pipeline\n",
    "from sklearn.compose import ColumnTransformer\n",
    "from sklearn.preprocessing import StandardScaler\n",
    "from sklearn.impute import SimpleImputer\n",
    "from sklearn.pipeline import Pipeline, make_pipeline\n",
    "from sklearn.ensemble import RandomForestClassifier\n",
    "from sklearn.linear_model import LogisticRegression\n",
    "from sklearn.model_selection import GridSearchCV\n",
    "from sklearn.metrics import f1_score, accuracy_score, confusion_matrix\n",
    "from sklearn.model_selection import train_test_split\n",
    "from sklearn.preprocessing import OneHotEncoder\n"
   ]
  },
  {
   "cell_type": "code",
   "execution_count": 81,
   "metadata": {},
   "outputs": [],
   "source": [
    "num_col = ['duration']\n",
    "num_pipe = make_pipeline(SimpleImputer(strategy='median'), StandardScaler())\n",
    "\n",
    "column_transformer = ColumnTransformer(transformers=[('num', num_pipe, num_col)], remainder='passthrough')"
   ]
  },
  {
   "cell_type": "code",
   "execution_count": 90,
   "metadata": {},
   "outputs": [
    {
     "name": "stdout",
     "output_type": "stream",
     "text": [
      "Accuracy score = 0.7565261044176707\n",
      "F1 score = 0.5948203842940685\n"
     ]
    }
   ],
   "source": [
    "# random forest\n",
    "Random_Forest_pipe = Pipeline([('column_transformer', column_transformer),\n",
    "                               ('estimator', RandomForestClassifier())])\n",
    "\n",
    "\n",
    "Random_Forest_param_grid = {'estimator': [RandomForestClassifier()],\n",
    "                            'estimator__criterion':  [\"gini\", \"entropy\", \"log_loss\"],\n",
    "                            'estimator__n_estimators': [100, 500, 1000],\n",
    "                            'estimator__max_depth': [5, 10, 15],\n",
    "                            'estimator__min_samples_leaf': [9]\n",
    "                           }\n",
    "\n",
    "Random_Forest_grid = GridSearchCV(Random_Forest_pipe, param_grid=Random_Forest_param_grid, cv=5, scoring='f1', n_jobs=-1)\n",
    "Random_Forest_grid.fit(X_train, y_train)\n",
    "y_pred = Random_Forest_grid.predict(X_test)\n",
    "\n",
    "print(\"Accuracy score =\", accuracy_score(y_test, y_pred))\n",
    "print(\"F1 score =\", f1_score(y_test, y_pred))"
   ]
  },
  {
   "cell_type": "code",
   "execution_count": 91,
   "metadata": {},
   "outputs": [],
   "source": [
    "from sklearn.ensemble import GradientBoostingClassifier\n",
    "from sklearn.tree import DecisionTreeClassifier"
   ]
  },
  {
   "cell_type": "code",
   "execution_count": 92,
   "metadata": {},
   "outputs": [
    {
     "name": "stdout",
     "output_type": "stream",
     "text": [
      "Accuracy score = 0.7384538152610441\n",
      "F1 score = 0.6061980347694633\n"
     ]
    }
   ],
   "source": [
    "# Decision Tree Classifier\n",
    "\n",
    "DecisionTreeClassifier_pipe = Pipeline([('column_transformer', column_transformer),\n",
    "                                        ('estimator', DecisionTreeClassifier())])\n",
    "\n",
    "DecisionTreeClassifier_param_grid = {'estimator': [DecisionTreeClassifier()],\n",
    "                                     'estimator__max_depth': [3, 5, 6, 9, 12],\n",
    "                                     'estimator__criterion': ['gini', 'entropy', 'log_loss'],\n",
    "                                     'estimator__min_samples_leaf': [3, 6, 9, 16, 24, 48]\n",
    "                           }\n",
    "\n",
    "DecisionTreeClassifier_grid = GridSearchCV(DecisionTreeClassifier_pipe, param_grid=DecisionTreeClassifier_param_grid, cv=5, scoring='f1', n_jobs=-1)\n",
    "DecisionTreeClassifier_grid.fit(X_train, y_train)\n",
    "y_pred = DecisionTreeClassifier_grid.predict(X_test)\n",
    "\n",
    "print(\"Accuracy score =\", accuracy_score(y_test, y_pred))\n",
    "print(\"F1 score =\", f1_score(y_test, y_pred))"
   ]
  },
  {
   "cell_type": "code",
   "execution_count": null,
   "metadata": {},
   "outputs": [],
   "source": []
  },
  {
   "cell_type": "code",
   "execution_count": 93,
   "metadata": {},
   "outputs": [
    {
     "name": "stdout",
     "output_type": "stream",
     "text": [
      "Accuracy score = 0.696285140562249\n",
      "F1 score = 0.5706174591909156\n"
     ]
    }
   ],
   "source": [
    "# Gradient Boosting Classifier model\n",
    "\n",
    "GradientBoosting_pipe = Pipeline([('column_transformer', column_transformer),\n",
    "                          ('estimator', GradientBoostingClassifier())])\n",
    "\n",
    "GradientBoosting_param_grid = [{'estimator': [GradientBoostingClassifier()],\n",
    "                                'estimator__criterion': ['friedman_mse', 'squared_error'],\n",
    "                                'estimator__learning_rate': [1.7],\n",
    "                                'estimator__loss': ['exponential'], \n",
    "                                'estimator__n_estimators': [500], \n",
    "                                'estimator__max_depth': [4], \n",
    "                                'estimator__min_samples_leaf': [12]\n",
    "                               },]\n",
    "\n",
    "GradientBoosting_grid = GridSearchCV(GradientBoosting_pipe, param_grid=GradientBoosting_param_grid, cv=5, scoring='f1', n_jobs=-1)\n",
    "GradientBoosting_grid.fit(X_train, y_train)\n",
    "y_pred = GradientBoosting_grid.predict(X_test)\n",
    "\n",
    "print(\"Accuracy score =\", accuracy_score(y_test, y_pred))\n",
    "print(\"F1 score =\", f1_score(y_test, y_pred))"
   ]
  },
  {
   "cell_type": "markdown",
   "metadata": {},
   "source": [
    "### 3.2 Use cross-validation to compare models and select best set of hyperparameters"
   ]
  },
  {
   "cell_type": "code",
   "execution_count": 94,
   "metadata": {},
   "outputs": [],
   "source": [
    "from sklearn.model_selection import cross_val_score"
   ]
  },
  {
   "cell_type": "code",
   "execution_count": 95,
   "metadata": {},
   "outputs": [
    {
     "name": "stdout",
     "output_type": "stream",
     "text": [
      "model_name\n",
      "GridSearchCV    0.561545\n",
      "Name: accuracy, dtype: float64\n",
      "model_name\n",
      "GridSearchCV    0.574822\n",
      "Name: accuracy, dtype: float64\n",
      "model_name\n",
      "GridSearchCV    0.569161\n",
      "Name: accuracy, dtype: float64\n"
     ]
    }
   ],
   "source": [
    "models = [Random_Forest_grid, GradientBoosting_grid, DecisionTreeClassifier_grid]\n",
    "CV = 5\n",
    "cv_df = pd.DataFrame(index=range(CV * len(models)))\n",
    "entries = []\n",
    "for model in models:\n",
    "    model_name = model.__class__.__name__\n",
    "    accuracies = cross_val_score(model, X_train, y_train, scoring='f1', cv=CV)\n",
    "    for fold_idx, accuracy in enumerate(accuracies):\n",
    "        entries.append((model_name, fold_idx, accuracy))\n",
    "    cv_df = pd.DataFrame(entries, columns=['model_name', 'fold_idx', 'accuracy'])\n",
    "    print(cv_df.groupby('model_name').accuracy.mean())\n"
   ]
  },
  {
   "cell_type": "markdown",
   "metadata": {},
   "source": [
    "### 3.3 Which model and setup is the best? How does it perform on the test dataset? If you were to present this model to the client, how would you describe it?"
   ]
  },
  {
   "cell_type": "markdown",
   "metadata": {},
   "source": [
    "We build 3 models: Gradient Boosting Classifier model, Decision Tree Classifier, Random forest. As was calculated above on CV the F1-scores are:\n",
    "1. Decision Tree Classifier - 0.6062\n",
    "2. Gradient Boosting Classifier model - 0.5706\n",
    "3. Random forest - 0.5948\n",
    "\n",
    "Based on F1-score estimation the best model is *Decision Tree Classifier*"
   ]
  },
  {
   "cell_type": "markdown",
   "metadata": {},
   "source": [
    "We can recomdend dive deeper to the data mining:\n",
    "* collect data of popularity of actors of movies and analyse it comprehensivly with initial dataset.\n",
    "* which budget is suitable? can be more usefull to focus on appliable budget and analyse similar movies.\n",
    "* focus on targets: do we need income or ranking?\n"
   ]
  }
 ],
 "metadata": {
  "kernelspec": {
   "display_name": "Python 3 (ipykernel)",
   "language": "python",
   "name": "python3"
  },
  "language_info": {
   "codemirror_mode": {
    "name": "ipython",
    "version": 3
   },
   "file_extension": ".py",
   "mimetype": "text/x-python",
   "name": "python",
   "nbconvert_exporter": "python",
   "pygments_lexer": "ipython3",
   "version": "3.9.12"
  }
 },
 "nbformat": 4,
 "nbformat_minor": 4
}
